{
 "cells": [
  {
   "cell_type": "code",
   "execution_count": null,
   "id": "019460ec-0a24-4bca-b6cc-8fbdce7802c6",
   "metadata": {
    "tags": []
   },
   "outputs": [],
   "source": [
    "import os \n",
    "import wget \n",
    "from selenium import webdriver\n",
    "from selenium.webdriver.common.keys import Keys\n",
    "from selenium.webdriver.support import expected_conditions as EC\n",
    "from selenium.webdriver.common.by import  By\n",
    "from selenium.webdriver.support.wait import WebDriverWait\n",
    "from selenium.webdriver.chrome.options import Options\n",
    "import time\n"
   ]
  },
  {
   "cell_type": "code",
   "execution_count": null,
   "id": "e695a14a-622d-4954-a7ec-e7c040e5ed73",
   "metadata": {
    "tags": []
   },
   "outputs": [],
   "source": [
    "from selenium import webdriver\n",
    "from selenium.webdriver.chrome.options import Options\n",
    "\n",
    "chrome_options = Options()\n",
    "\n",
    "driver = webdriver.Chrome(options=chrome_options)\n",
    "driver.get('https://www.pinterest.com/search/pins/?q=car%20wash&rs=typed')\n"
   ]
  },
  {
   "cell_type": "code",
   "execution_count": null,
   "id": "6add5767-50e3-4a8c-8004-eb01817cc12b",
   "metadata": {
    "tags": []
   },
   "outputs": [],
   "source": [
    "# username = WebDriverWait(driver, 10).until(EC.element_to_be_clickable((By.CSS_SELECTOR, \"input[name='username']\")))\n",
    "# password = WebDriverWait(driver, 10).until(EC.element_to_be_clickable((By.CSS_SELECTOR, \"input[name='password']\")))\n",
    "\n",
    "# username.clear()\n",
    "# password.clear()\n",
    "\n",
    "# username.send_keys('ba9951157@gmail.com')\n",
    "# password.send_keys('Bassem0100192317')\n"
   ]
  },
  {
   "cell_type": "code",
   "execution_count": null,
   "id": "d5b4a1a9-a445-4f7f-b9bb-3fe4897e4c09",
   "metadata": {
    "tags": []
   },
   "outputs": [],
   "source": [
    "# log_in = WebDriverWait(driver, 10).until(EC.element_to_be_clickable((By.CSS_SELECTOR, \"button[type='submit']\"))).click()"
   ]
  },
  {
   "cell_type": "code",
   "execution_count": null,
   "id": "57ccb352-0584-4021-bd11-a8844797ab83",
   "metadata": {
    "tags": []
   },
   "outputs": [],
   "source": [
    "# not_now = WebDriverWait(driver, 10).until(EC.element_to_be_clickable((By.XPATH, \"//div[contains(@class, 'x1i10hfl') and contains(text(), 'Not now')]\"))).click()\n",
    "# not_now2 = WebDriverWait(driver, 10).until(EC.element_to_be_clickable((By.XPATH, \"//button[contains(text(), 'Not Now')]\"))).click()"
   ]
  },
  {
   "cell_type": "code",
   "execution_count": null,
   "id": "3ff93c57-edcd-4e1e-a97d-7611aa427bb4",
   "metadata": {
    "tags": []
   },
   "outputs": [],
   "source": [
    "# search = WebDriverWait(driver, 10).until(EC.element_to_be_clickable((By.XPATH, \"/html/body/div[1]/div/div[1]/div[1]/div[1]/div/div[2]/div/div/div\"))).click()\n",
    "# # searchbox = WebDriverWait(driver, 10).until(EC.element_to_be_clickable((By.XPATH, \"/html/body/div[2]/div/div/div[2]/div/div/div[1]/div[1]/div[1]/div/div/div[2]/div/div/div[2]/div/div/div[1]/div/div/input\")))\n",
    "# time.sleep(10)\n",
    "# searchbox.send_keys(\"Car Wash\")\n",
    "# searchbox.send_keys(Keys.ENTER())\n",
    "\n",
    "images_list = []\n",
    "list_name = [\"Car-Washing\",'Car-Exterior-Cleaning','Car-Foam-Wash','Car-Pressure-Wash','Exterior-Car-Care','Car-Wash-Soap', 'Automobile-Washing']#\"Vehicle Cleaning\",\n",
    "chrome_options = Options()\n",
    "driver = webdriver.Chrome(options=chrome_options)\n",
    "u = 0 \n",
    "for x in list_name:\n",
    "    # serch_name = x.replace(\" \", \"%20\")\n",
    "\n",
    "    driver.get(f'https://depositphotos.com/photos/{x}.html?filter=all')\n",
    "    for i in range(4):\n",
    "    #     WebDriverWait(driver, 10).until(EC.element_to_be_clickable((By.XPATH, f\"/html/body/div[2]/div/div/div[2]/div/div/div[1]/div[1]/div[1]/div/div/div[2]/div/div/div[2]/div/div/div[2]/div/a[{i+1}]/div[1]/div/div/div[2]/div/div\"))).click()\n",
    "        time.sleep(10)\n",
    "        driver.execute_script(f'window.scrollTo({u}, {u+1000});')\n",
    "        time.sleep(10)\n",
    "        images = driver.find_elements(By.TAG_NAME, 'img')\n",
    "        time.sleep(10)\n",
    "        images = [image.get_attribute('src') for image in images]\n",
    "        time.sleep(10)\n",
    "        images_list.extend(images)\n",
    "        time.sleep(10)\n",
    "        u+1"
   ]
  },
  {
   "cell_type": "code",
   "execution_count": null,
   "id": "9b11d241-095f-4f0f-af93-2ef96fa1add8",
   "metadata": {},
   "outputs": [],
   "source": [
    "chrome_options = Options()\n",
    "driver = webdriver.Chrome(options=chrome_options)"
   ]
  },
  {
   "cell_type": "code",
   "execution_count": null,
   "id": "53b74796-ac52-4048-9547-1aca4f73eca3",
   "metadata": {
    "tags": []
   },
   "outputs": [],
   "source": [
    "images_list = []\n",
    "list_name = [\"Car-Washing\", 'Car-Exterior-Cleaning', 'Car-Foam-Wash', 'Car-Pressure-Wash', 'Exterior-Car-Care', 'Car-Wash-Soap', 'Automobile-Washing']  # \"Vehicle Cleaning\",\n",
    "u = 0  # Set initial scroll position to 5000\n",
    "for x in list_name:\n",
    "    for v in range(7):\n",
    "        driver.get(f'https://depositphotos.com/photos/{x}.html?filter=all')\n",
    "        driver.execute_script(f'window.scrollTo({3000}, {4000});')\n",
    "        time.sleep(10)\n",
    "        WebDriverWait(driver, 10).until(EC.element_to_be_clickable((By.XPATH,'/html/body/div[1]/div[2]/div[3]/div[1]/div/div[2]/div[2]/a'))).click()\n",
    "\n",
    "        for i in range(10):\n",
    "            time.sleep(10)\n",
    "            driver.execute_script(f'window.scrollTo({u}, {u+1000});')\n",
    "            time.sleep(10)\n",
    "            images = driver.find_elements(By.TAG_NAME, 'img')\n",
    "            time.sleep(10)\n",
    "            images = [image.get_attribute('src') for image in images]\n",
    "            time.sleep(10)\n",
    "            images_list.extend(images)\n",
    "            time.sleep(10)\n",
    "            u += 1000  # Increment scroll position by 1 for each iteration\n",
    "            if u > 6000:  # Stop scrolling when it reaches 6000\n",
    "                break\n"
   ]
  },
  {
   "cell_type": "code",
   "execution_count": null,
   "id": "18511e9a-146f-4ac1-9634-4eff45e0fcb9",
   "metadata": {
    "tags": []
   },
   "outputs": [],
   "source": [
    "len(images_list)"
   ]
  },
  {
   "cell_type": "code",
   "execution_count": null,
   "id": "0bb1711b-1f6e-4f5c-8b70-ba86b15ce425",
   "metadata": {
    "tags": []
   },
   "outputs": [],
   "source": [
    "import requests\n",
    "import os\n",
    "\n",
    "# Function to download images given their URLs\n",
    "def download_images(image_urls, folder_path):\n",
    "    if not os.path.exists(folder_path):\n",
    "        os.makedirs(folder_path)\n",
    "\n",
    "    for index, url in enumerate(image_urls):\n",
    "        index +=440\n",
    "        try:\n",
    "            response = requests.get(url)\n",
    "            if response.status_code == 200:\n",
    "                with open(os.path.join(folder_path, f\"image_{index}.jpg\"), 'wb') as file:\n",
    "                    file.write(response.content)\n",
    "                    print(f\"Image {index + 1} downloaded successfully.\")\n",
    "            else:\n",
    "                print(f\"Failed to download image {index + 1}. Status code: {response.status_code}\")\n",
    "        except Exception as e:\n",
    "            print(f\"Failed to download image {index + 1}. Exception: {str(e)}\")\n",
    "\n",
    "\n",
    "\n",
    "# Folder path where images will be downloaded\n",
    "folder_path = 'downloaded_image'\n",
    "\n",
    "# Call the function to download images\n",
    "download_images(images_list, folder_path)\n"
   ]
  },
  {
   "cell_type": "code",
   "execution_count": null,
   "id": "0c2c49c4-540f-4f93-a810-6944af811da6",
   "metadata": {
    "tags": []
   },
   "outputs": [],
   "source": [
    "import shutil\n",
    "import os\n",
    "import glob\n",
    "import shutil\n",
    "import os\n",
    "from ultralytics import YOLO\n",
    "def move_image(source_path, destination_path):\n",
    "    try:\n",
    "        # Check if the source file exists\n",
    "        if os.path.exists(source_path):\n",
    "            # Move the file to the destination path\n",
    "            shutil.move(source_path, destination_path)\n",
    "            print(f\"Image moved successfully from {source_path} to {destination_path}\")\n",
    "        else:\n",
    "            print(f\"Source file {source_path} does not exist.\")\n",
    "    except Exception as e:\n",
    "        print(f\"An error occurred: {e}\")\n"
   ]
  },
  {
   "cell_type": "code",
   "execution_count": null,
   "id": "f5caf36b-4f90-4031-9316-1c4710940b85",
   "metadata": {
    "tags": []
   },
   "outputs": [],
   "source": [
    "for i in glob.glob('downloaded_image/*'):\n",
    "    x = YOLO(r\"C:\\Users\\user\\Downloads\\yolov8x.pt\")(i)[0]\n",
    "    v = [int(c[-1]) for c in x.boxes.data.tolist()]\n",
    "    # print(v)\n",
    "    if 2 in v:\n",
    "        move_image(i, f'downloaded_images/{i.split(\"_\")[-1].split(\".\")[0]}.jpg')\n",
    "    else:\n",
    "        move_image(i, f'Nocar/{i.split(\"_\")[-1].split(\".\")[0]}.jpg')"
   ]
  },
  {
   "cell_type": "code",
   "execution_count": null,
   "id": "8c08e693-d1f6-47e8-94f2-1090ace9d889",
   "metadata": {
    "tags": []
   },
   "outputs": [],
   "source": [
    "import os\n",
    "import hashlib"
   ]
  },
  {
   "cell_type": "code",
   "execution_count": null,
   "id": "997be1f8-8c5c-4f29-92cf-e0202367025a",
   "metadata": {
    "tags": []
   },
   "outputs": [],
   "source": [
    "def find_duplicate_images(folder):\n",
    "    hash_dict = {}\n",
    "    duplicates = []\n",
    "\n",
    "    for root, dirs, files in os.walk(folder):\n",
    "        for filename in files:\n",
    "            filepath = os.path.join(root, filename)\n",
    "            with open(filepath, 'rb') as f:\n",
    "                filehash = hashlib.md5(f.read()).hexdigest()\n",
    "                if filehash in hash_dict:\n",
    "                    duplicates.append(filepath)\n",
    "                else:\n",
    "                    hash_dict[filehash] = filepath\n",
    "\n",
    "    return duplicates\n",
    "\n",
    "def delete_duplicate_images(duplicates):\n",
    "    for duplicate in duplicates:\n",
    "        os.remove(duplicate)\n",
    "        print(f\"Deleted: {duplicate}\")\n",
    "\n",
    "folder_path = 'Nocar/'\n",
    "found_duplicates = find_duplicate_images(folder_path)\n",
    "if found_duplicates:\n",
    "    delete_duplicate_images(found_duplicates)\n",
    "else:\n",
    "    print(\"No duplicate images found.\")"
   ]
  },
  {
   "cell_type": "code",
   "execution_count": null,
   "id": "0792a349-0152-44ec-aa1b-cf44ad60cc8a",
   "metadata": {},
   "outputs": [],
   "source": [
    "import os\n",
    "\n",
    "def rename_images(folder_path):\n",
    "    # Ensure the provided path is a directory\n",
    "    if not os.path.isdir(folder_path):\n",
    "        print(\"Invalid directory path.\")\n",
    "        return\n",
    "\n",
    "    # Get all the files in the directory\n",
    "    files = os.listdir(folder_path)\n",
    "    # Filter out only the image files (you may adjust this based on the specific file extensions you have)\n",
    "    image_files = [file for file in files if file.lower().endswith(('.png', '.jpg', '.jpeg', '.gif'))]\n",
    "\n",
    "    # Sort the image files in case they are not ordered numerically\n",
    "    image_files.sort()\n",
    "\n",
    "    # Renaming images sequentially\n",
    "    for i, old_name in enumerate(image_files):\n",
    "        extension = os.path.splitext(old_name)[1]  # Extract file extension\n",
    "        new_name = f\"{i+387}.jpg\"  # New filename as 0.jpg, 1.jpg, 2.jpg, ...\n",
    "        new_path = os.path.join(folder_path, new_name)\n",
    "        old_path = os.path.join(folder_path, old_name)\n",
    "\n",
    "        # If the new name already exists, modify the new name\n",
    "        if os.path.exists(new_path):\n",
    "            # You can handle this case by adding a suffix to the file name\n",
    "            base_name, ext = os.path.splitext(new_name)\n",
    "            new_name = f\"{base_name}_{i+387}{ext}\"\n",
    "            new_path = os.path.join(folder_path, new_name)\n",
    "\n",
    "        # Renaming the file\n",
    "        os.rename(old_path, new_path)\n",
    "        print(f\"Renamed {old_name} to {new_name}\")\n",
    "\n",
    "# Provide the path to the folder containing images\n",
    "folder_path = 'New folder (3)/'\n",
    "rename_images(folder_path)\n"
   ]
  },
  {
   "cell_type": "code",
   "execution_count": null,
   "id": "a2215a22-63fb-494d-aa47-cd25de722310",
   "metadata": {
    "tags": []
   },
   "outputs": [],
   "source": [
    "import glob\n",
    "from ultralytics import YOLO\n",
    "import cv2\n",
    "import uuid\n",
    "\n",
    "for i in glob.glob('Car/*'):\n",
    "    outs = YOLO(r\"C:\\Users\\user\\Downloads\\yolov8x.pt\")(i)[0]\n",
    "    img = cv2.imread(i)\n",
    "    unique_id = uuid.uuid4()\n",
    "    car_detected = False  \n",
    "    \n",
    "    for out in outs.boxes.data.tolist():\n",
    "        x1, y1, x2, y2, score, class_id = out\n",
    "        if class_id == 2:\n",
    "            x1, y1, x2, y2 = int(x1), int(y1), int(x2), int(y2)\n",
    "            croped_img = img[y1:y2, x1:x2]\n",
    "            cv2.imwrite(f'Crop/Car/{unique_id}.jpg', croped_img)\n",
    "            car_detected = True  \n",
    "\n",
    "    if not car_detected:\n",
    "        cv2.imwrite(f'Crop/New folder/{unique_id}.jpg', img)\n"
   ]
  },
  {
   "cell_type": "code",
   "execution_count": null,
   "id": "f1323485-aa99-479f-9101-892b157e103c",
   "metadata": {
    "tags": []
   },
   "outputs": [],
   "source": [
    "model = YOLO(r\"C:\\Users\\user\\Downloads\\yolov8x.pt\")\n",
    "for i in glob.glob('Soap/*.jpg'):\n",
    "    outs = model(i)[0]\n",
    "    img = cv2.imread(i)\n",
    "    h,w,_ = img.shape\n",
    "    \n",
    "    name_fille = i.split(\"\\\\\")[1].split(\".\")[0]\n",
    "    #unique_id = uuid.uuid4()\n",
    "    car_detected = False  \n",
    "    name_text = f\"Soap_label/{name_fille}.txt\"\n",
    "    for number_id ,out in enumerate(outs.boxes.data.tolist()):\n",
    "        x1, y1, x2, y2, score, class_id = out\n",
    "        if class_id == 2:\n",
    "            center_x = (((x2-x1)/2)+x1)/w\n",
    "            center_y = (((y2-y1)/2)+y1)/h\n",
    "            new_w = (x2-x1)/w\n",
    "            new_h = (y2-y1)/h\n",
    "            with open(name_text,\"a\") as file:\n",
    "                file.write(f\"{1} {center_x} {center_y} {new_w} {new_h}\"+\"\\n\") # 0=car, 1=carwash\n",
    "\n",
    "\n",
    "\n",
    "\n",
    "print('done')"
   ]
  },
  {
   "cell_type": "code",
   "execution_count": null,
   "id": "2c910586-46d5-4e52-86f9-1ca327b55723",
   "metadata": {},
   "outputs": [],
   "source": [
    "import glob \n",
    "import cv2\n",
    "import matplotlib.pyplot as plt\n",
    "import uuid\n",
    "import os\n"
   ]
  },
  {
   "cell_type": "code",
   "execution_count": null,
   "id": "ab6805e5-6320-4f1c-937a-e858660c8916",
   "metadata": {
    "tags": []
   },
   "outputs": [],
   "source": [
    "with open(r'car.v3i.yolov8/train/labels\\601_jpg.rf.e37f45e5d03d9aab7b2b322c0e292231.txt', 'r') as file:\n",
    "    lines = file.readlines()\n",
    "\n",
    "    numbers = []\n",
    "\n",
    "    for line in lines:\n",
    "        # Split each line by spaces\n",
    "        values = line.split()\n",
    "        print(values)\n",
    "        # for value in values:\n",
    "        #     print(value)\n",
    "            \n"
   ]
  },
  {
   "cell_type": "code",
   "execution_count": null,
   "id": "e26514a7-46f4-4243-8ef8-62febb7dea2c",
   "metadata": {
    "tags": []
   },
   "outputs": [],
   "source": [
    "images = glob.glob('x.v1i.yolov8/valid/images/*.jpg')\n",
    "labels = glob.glob('x.v1i.yolov8/valid/labels/*txt')\n",
    "for image, label in zip(images, labels):\n",
    "    img = cv2.imread(image)\n",
    "    with open(label, 'r') as file:\n",
    "        lines = file.readlines()\n",
    "        numbers = []\n",
    "        for line in lines:\n",
    "            random_uuid = uuid.uuid4()\n",
    "            values = line.split()\n",
    "            center_x, center_y, w, h = float(values[1]), float(values[2]), float(values[3]), float(values[4])\n",
    "            # print(center_x, center_y, w, h)\n",
    "            x_min = int(center_x*640) - int(w*640 / 2)\n",
    "            y_min = int(center_y*640) - int(h*640 / 2)\n",
    "            x_max = int(center_x*640) + int(w*640 / 2)\n",
    "            y_max = int(center_y*640) + int(h*640 / 2)\n",
    "            im = img[y_min:y_max, x_min:x_max]\n",
    "            p = image.split('\\\\')[1]\n",
    "            if int(values[0]) == 0:\n",
    "                # print(image.split('\\\\')[1]+str(random_uuid))\n",
    "                # print(f'data/0/{image}{random_uuid}.jpg')\n",
    "                cv2.imwrite(f\"val/0/{p}{random_uuid}.jpg\", im)\n",
    "            elif int(values[0]) == 1:\n",
    "                cv2.imwrite(f\"val/1/{p}{random_uuid}.jpg\", im)\n",
    "                "
   ]
  },
  {
   "cell_type": "code",
   "execution_count": null,
   "id": "6dbd2e14-f67b-488a-baa3-457fed5e5a92",
   "metadata": {
    "tags": []
   },
   "outputs": [],
   "source": [
    "i = cv2.imread('car.v3i.yolov8/train/images/601_jpg.rf.e37f45e5d03d9aab7b2b322c0e292231.jpg')\n",
    "x_min = int(0.584375*640) - int(0.82890625*640 / 2)\n",
    "y_min = int(0.5921875*640) - int(0.465625*640 / 2)\n",
    "x_max = int(0.584375*640) + int(0.82890625*640 / 2)\n",
    "y_max = int(0.5921875*640) + int(0.465625*640 / 2)\n",
    "# cv2.rectangle(i, (x_min, y_min), (x_max, y_max), (255, 0, 0), 1)\n",
    "im = i[y_min:y_max, x_min:x_max]\n",
    "cv2.imwrite('data/0/0.jpg', im)\n",
    "print(x_min, x_max, y_min, y_max)"
   ]
  },
  {
   "cell_type": "code",
   "execution_count": null,
   "id": "7a225892-1f6c-47de-9feb-2ac24fe12ca7",
   "metadata": {
    "tags": []
   },
   "outputs": [],
   "source": [
    "import torch\n",
    "import torch.nn as nn\n",
    "import torch.optim as optim \n",
    "import torch.nn.functional as F\n",
    "from torch.utils.data import DataLoader\n",
    "import torchvision.datasets as datasets\n",
    "import torchvision.transforms as transforms\n",
    "import torchvision\n",
    "from torchvision import datasets, transforms\n",
    "from torch.optim import Adam"
   ]
  },
  {
   "cell_type": "code",
   "execution_count": null,
   "id": "9cc5951c-741c-44af-9885-b677bf602103",
   "metadata": {
    "tags": []
   },
   "outputs": [],
   "source": [
    "data_dir = 'data'\n",
    "train_dir = data_dir + '/train'\n",
    "val_dir = data_dir + '/val'\n",
    "\n",
    "train_transforms = transforms.Compose([\n",
    "    transforms.Resize((640, 640)),\n",
    "    transforms.ToTensor(),\n",
    "    transforms.Normalize(mean=[0.485, 0.456, 0.406], std=[0.229, 0.224, 0.225])\n",
    "])\n",
    "\n",
    "val_transforms = transforms.Compose([\n",
    "    transforms.Resize((640, 640)),\n",
    "    transforms.ToTensor(),\n",
    "    transforms.Normalize(mean=[0.485, 0.456, 0.406], std=[0.229, 0.224, 0.225])\n",
    "])\n",
    "\n",
    "train_data = datasets.ImageFolder(train_dir, transform=train_transforms)\n",
    "val_data = datasets.ImageFolder(val_dir, transform=val_transforms)\n",
    "\n",
    "train_loader = torch.utils.data.DataLoader(train_data, batch_size=8, shuffle=True)\n",
    "val_loader = torch.utils.data.DataLoader(val_data, batch_size=8, shuffle=False)\n",
    "\n"
   ]
  },
  {
   "cell_type": "code",
   "execution_count": null,
   "id": "57f4674d-84c6-4492-a29f-4cedcf5cce2d",
   "metadata": {
    "tags": []
   },
   "outputs": [],
   "source": [
    "device = torch.device('cuda' if torch.cuda.is_available() else 'cpu')\n",
    "device"
   ]
  },
  {
   "cell_type": "code",
   "execution_count": null,
   "id": "75bdea57-ba79-4a32-827b-a7a9bb929bc1",
   "metadata": {
    "tags": []
   },
   "outputs": [],
   "source": [
    "resnet = torchvision.models.resnet50(pretrained=True)\n",
    "\n",
    "num_ftrs = resnet.fc.in_features\n",
    "resnet.fc = nn.Linear(num_ftrs, 2)  \n",
    "\n",
    "\n",
    "criterion = nn.CrossEntropyLoss()\n",
    "optimizer = Adam(resnet.parameters(), lr=0.001)\n",
    "\n",
    "resnet = resnet.to(device)\n",
    "\n",
    "num_epochs = 10\n",
    "for epoch in range(num_epochs):\n",
    "    resnet.train()\n",
    "    running_loss = 0.0\n",
    "    for inputs, labels in train_loader:\n",
    "        inputs, labels = inputs.to(device), labels.to(device)\n",
    "        optimizer.zero_grad()\n",
    "        outputs = resnet(inputs)\n",
    "        loss = criterion(outputs, labels)\n",
    "        loss.backward()\n",
    "        optimizer.step()\n",
    "        running_loss += loss.item()\n",
    "    \n",
    "    resnet.eval()\n",
    "    val_accuracy = 0\n",
    "    val_loss = 0\n",
    "    with torch.no_grad():\n",
    "        for inputs, labels in val_loader:\n",
    "            inputs, labels = inputs.to(device), labels.to(device)\n",
    "            outputs = resnet(inputs)\n",
    "            loss = criterion(outputs, labels)\n",
    "            val_loss += loss.item()\n",
    "            _, predicted = torch.max(outputs, 1)\n",
    "            val_accuracy += (predicted == labels).sum().item()\n",
    "    \n",
    "    print(f\"Epoch [{epoch + 1}/{num_epochs}] \"\n",
    "          f\"Loss: {running_loss / len(train_loader):.4f} \"\n",
    "          f\"Val Loss: {val_loss / len(val_loader):.4f} \"\n",
    "          f\"Val Acc: {(val_accuracy / len(val_data)) * 100:.2f}%\")\n"
   ]
  },
  {
   "cell_type": "code",
   "execution_count": null,
   "id": "25edff1e-597a-4107-9788-24755cc1d237",
   "metadata": {},
   "outputs": [],
   "source": [
    "import torch\n",
    "from torchvision import transforms\n",
    "from PIL import Image\n",
    "import torchvision.models as models\n",
    "import matplotlib.pyplot as plt\n",
    "\n",
    "test_transform = transforms.Compose([\n",
    "    transforms.Resize((640, 640)),\n",
    "    transforms.ToTensor(),\n",
    "    transforms.Normalize(mean=[0.485, 0.456, 0.406], std=[0.229, 0.224, 0.225])\n",
    "])\n",
    "\n",
    "saved_model_path = 'resnet_model_train_97_val_95.pth'\n",
    "loaded_model = models.resnet50(pretrained=False)\n",
    "num_ftrs = loaded_model.fc.in_features\n",
    "loaded_model.fc = torch.nn.Linear(num_ftrs, 2)\n",
    "loaded_model.load_state_dict(torch.load(saved_model_path, map_location=torch.device('cpu')))\n",
    "loaded_model.eval()\n",
    "\n",
    "test_image_path = r\"C:\\Users\\user\\Downloads\\image.png\"\n",
    "test_image = Image.open(test_image_path).convert('RGB')\n",
    "input_image = test_transform(test_image).unsqueeze(0)\n",
    "plt.imshow(test_image)\n",
    "with torch.no_grad():\n",
    "    output = loaded_model(input_image)\n",
    "\n",
    "_, predicted = torch.max(output, 1)\n",
    "predicted_class = predicted.item()\n",
    "\n",
    "if predicted_class == 0:\n",
    "    print(\"Predicted: Not Washed\")\n",
    "else:\n",
    "    print(\"Predicted: Washed\")\n",
    "plt.axis('off')\n",
    "plt.show()"
   ]
  },
  {
   "cell_type": "code",
   "execution_count": null,
   "id": "4d558ace-14dd-4322-b7bf-c7cbedcf77d9",
   "metadata": {
    "tags": []
   },
   "outputs": [],
   "source": [
    "import cv2\n",
    "\n",
    "car_cascade = cv2.CascadeClassifier(cv2.data.haarcascades + 'cars.xml')\n",
    "\n",
    "multi_tracker = cv2.MultiTracker_create()\n",
    "\n",
    "cap = cv2.VideoCapture('video.mp4')  \n",
    "\n",
    "while True:\n",
    "    ret, frame = cap.read()\n",
    "    \n",
    "    if not ret:\n",
    "        break\n",
    "\n",
    "    gray = cv2.cvtColor(frame, cv2.COLOR_BGR2GRAY)\n",
    "\n",
    "    cars = car_cascade.detectMultiScale(gray, scaleFactor=1.1, minNeighbors=5, minSize=(25, 25))\n",
    "\n",
    "    for car in cars:\n",
    "        tracker = cv2.TrackerCSRT_create()\n",
    "        bbox = (car[0], car[1], car[2], car[3])\n",
    "        multi_tracker.add(tracker, frame, bbox)\n",
    "\n",
    "    success, boxes = multi_tracker.update(frame)\n",
    "    for box in boxes:\n",
    "        (x, y, w, h) = [int(i) for i in box]\n",
    "        cv2.rectangle(frame, (x, y), (x + w, y + h), (0, 255, 0), 2)\n",
    "\n",
    "    cv2.imshow('Car Tracking', frame)\n",
    "\n",
    "    if cv2.waitKey(30) & 0xFF == ord('q'):\n",
    "        break\n",
    "\n",
    "cap.release()\n",
    "cv2.destroyAllWindows()\n"
   ]
  },
  {
   "cell_type": "code",
   "execution_count": null,
   "id": "3bdb44ab-2749-4aa3-9832-ee2e19bdc6c5",
   "metadata": {
    "tags": []
   },
   "outputs": [],
   "source": [
    "import cv2\n",
    "\n",
    "# Load the pre-trained car classifier\n",
    "car_cascade = cv2.CascadeClassifier('cars.xml')\n",
    "\n",
    "# Create an empty list to store trackers\n",
    "trackers = []\n",
    "car_counter = 0  # Counter for unique identifier\n",
    "\n",
    "# Open a video capture object\n",
    "cap = cv2.VideoCapture('video.mp4')  # Replace 'your_video.mp4' with the path to your video file\n",
    "\n",
    "while True:\n",
    "    ret, frame = cap.read()\n",
    "\n",
    "    if not ret:\n",
    "        break\n",
    "\n",
    "    # Convert the frame to grayscale for car detection\n",
    "    gray = cv2.cvtColor(frame, cv2.COLOR_BGR2GRAY)\n",
    "\n",
    "    # Detect cars in the frame\n",
    "    cars = car_cascade.detectMultiScale(gray, 1.1, 1)\n",
    "\n",
    "    # Update existing trackers\n",
    "    for tracker in trackers:\n",
    "        success, bbox = tracker.update(frame)\n",
    "        if success:\n",
    "            (x, y, w, h) = [int(i) for i in bbox]\n",
    "            cv2.rectangle(frame, (x, y), (x + w, y + h), (0, 255, 0), 2)\n",
    "            # Print a unique code for each tracked car\n",
    "            cv2.putText(frame, f'Car {trackers.index(tracker) + 1}', (x, y - 10), cv2.FONT_HERSHEY_SIMPLEX, 0.5, (0, 255, 0), 2)\n",
    "\n",
    "    # Initialize trackers for newly detected cars\n",
    "    for car in cars:\n",
    "        tracker = cv2.TrackerKCF_create()\n",
    "        bbox = (car[0], car[1], car[2], car[3])\n",
    "        tracker.init(frame, bbox)\n",
    "        trackers.append(tracker)\n",
    "        car_counter += 1  # Increment the counter for each newly detected car\n",
    "\n",
    "    # Display the result\n",
    "    cv2.imshow('Car Tracking', frame)\n",
    "\n",
    "    # Break the loop if 'q' is pressed\n",
    "    if cv2.waitKey(30) & 0xFF == ord('q'):\n",
    "        break\n",
    "\n",
    "# Release the video capture object and close all windows\n",
    "cap.release()\n",
    "cv2.destroyAllWindows()\n"
   ]
  },
  {
   "cell_type": "code",
   "execution_count": null,
   "id": "cbbec239-1121-426f-bfbb-f277ea20c8a3",
   "metadata": {
    "tags": []
   },
   "outputs": [],
   "source": [
    "import cv2\n",
    "from ultralytics import YOLO\n",
    "\n",
    "model = YOLO('yolov8n.pt')\n",
    "\n",
    "video_path = \"2023-12-19 07_44_06.mp4\"\n",
    "cap = cv2.VideoCapture(video_path)\n",
    "\n",
    "while cap.isOpened():\n",
    "    success, frame = cap.read()\n",
    "    \n",
    "    if success:\n",
    "        results = model.track(frame, persist=True, classes=2)\n",
    "        for out in results[0].boxes.data.tolist():\n",
    "            out\n",
    "        annotated_frame = results[0].plot()\n",
    "\n",
    "        cv2.imshow(\"YOLOv8 Tracking\", annotated_frame)\n",
    "\n",
    "        if cv2.waitKey(1) & 0xFF == ord(\"q\"):\n",
    "            break\n",
    "    else:\n",
    "        break\n",
    "\n",
    "cap.release()\n",
    "cv2.destroyAllWindows()"
   ]
  },
  {
   "cell_type": "code",
   "execution_count": null,
   "id": "ee9a7bbc-7108-42e4-b667-4628300342ca",
   "metadata": {},
   "outputs": [],
   "source": [
    "import cv2\n",
    "import numpy as np\n",
    "from ultralytics import YOLO\n",
    "\n",
    "model = YOLO('yolov8x.pt')\n",
    "\n",
    "video_path = \"2023-12-19 07_44_06.mp4\"\n",
    "cap = cv2.VideoCapture(video_path)\n",
    "\n",
    "\n",
    "while cap.isOpened():\n",
    "    success, frame = cap.read()\n",
    "    frame = cv2.resize(frame, (1500, 800))\n",
    "\n",
    "    if success:\n",
    "        results = model.track(frame, persist=True, classes=2, conf=0.3)\n",
    "        for out in results[0].boxes.data.tolist():\n",
    "            try:\n",
    "                x1, y1, x2, y2, score, class_id = out\n",
    "                center = ((x1+x2) / 2, (y1+y2) / 2)\n",
    "                print(center)\n",
    "                \n",
    "            except:\n",
    "                continue\n",
    "        annotated_frame = results[0].plot()\n",
    "\n",
    "        cv2.imshow(\"YOLOv8 Tracking\", annotated_frame)\n",
    "\n",
    "        if cv2.waitKey(1) & 0xFF == ord(\"q\"):\n",
    "            break\n",
    "    else:\n",
    "        break\n",
    "\n",
    "cap.release()\n",
    "cv2.destroyAllWindows()\n"
   ]
  },
  {
   "cell_type": "code",
   "execution_count": null,
   "id": "91fb719f-3097-44cd-a4f2-4a435191ba38",
   "metadata": {
    "tags": []
   },
   "outputs": [],
   "source": [
    "import cv2\n",
    "import numpy as np\n",
    "\n",
    "points = []\n",
    "\n",
    "def draw_polygon(event, x, y, flags, param):\n",
    "    global points\n",
    "\n",
    "    if event == cv2.EVENT_LBUTTONDOWN:\n",
    "        points.append((x, y))\n",
    "        cv2.circle(img, (x, y), 5, (0, 0, 255), -1)\n",
    "    \n",
    "    elif event == cv2.EVENT_RBUTTONDOWN:\n",
    "        if len(points) >= 3:\n",
    "            cv2.polylines(img, [np.array(points)], isClosed=True, color=(0, 255, 0), thickness=2)\n",
    "            points = []\n",
    "\n",
    "# Create a black image\n",
    "img = np.ones((512, 512, 3), np.uint8) * 255\n",
    "\n",
    "# Open a video file or capture from a camera (replace 'video.mp4' with your video file or 0 for the default camera)\n",
    "cap = cv2.VideoCapture('2023-12-19 19_52_23.mp4')\n",
    "\n",
    "cv2.namedWindow('Draw Polygon')\n",
    "cv2.setMouseCallback('Draw Polygon', draw_polygon)\n",
    "\n",
    "while True:\n",
    "    ret, frame = cap.read()\n",
    "    \n",
    "    if not ret:\n",
    "        break\n",
    "    print(frame.shape)\n",
    "    \n",
    "    # Resize the frame to match the image size\n",
    "    frame = cv2.resize(frame, (512, 512))\n",
    "\n",
    "    # Overlay the video frame on the black image\n",
    "    frame = cv2.bitwise_and(frame, img)\n",
    "    \n",
    "\n",
    "    cv2.imshow('Draw Polygon', frame)\n",
    "    key = cv2.waitKey(1) & 0xFF\n",
    "\n",
    "    if key == 27:  # Press 'Esc' to exit\n",
    "        break\n",
    "\n",
    "cap.release()\n",
    "cv2.destroyAllWindows()\n"
   ]
  },
  {
   "cell_type": "code",
   "execution_count": null,
   "id": "75bd22b1-8fe0-464c-94d4-f37f94df0fb2",
   "metadata": {
    "tags": []
   },
   "outputs": [],
   "source": [
    "# Code Original\n",
    "import cv2\n",
    "import numpy as np\n",
    "from ultralytics import YOLO\n",
    "\n",
    "model = YOLO('yolov8x.pt')\n",
    "\n",
    "video_path = \"2023-12-19 07_44_06.mp4\"\n",
    "cap = cv2.VideoCapture(video_path)\n",
    "\n",
    "points = []\n",
    "\n",
    "def draw_polygon(event, x, y, flags, param):\n",
    "    global points\n",
    "\n",
    "    if event == cv2.EVENT_LBUTTONDOWN:\n",
    "        points.append((x, y))\n",
    "        cv2.circle(img, (x, y), 5, (0, 0, 255), -1)\n",
    "    \n",
    "    elif event == cv2.EVENT_RBUTTONDOWN:\n",
    "        if len(points) >= 3:\n",
    "            cv2.polylines(img, [np.array(points)], isClosed=True, color=(0, 255, 0), thickness=2)\n",
    "            points = []\n",
    "\n",
    "# Create a black image\n",
    "img = np.ones((800, 1500, 3), np.uint8) * 255\n",
    "\n",
    "# Open a video file or capture from a camera (replace 'video.mp4' with your video file or 0 for the default camera)\n",
    "cap = cv2.VideoCapture('2023-12-19 07_44_06.mp4')\n",
    "\n",
    "cv2.namedWindow('Draw Polygon')\n",
    "cv2.setMouseCallback('Draw Polygon', draw_polygon)\n",
    "\n",
    "while cap.isOpened():\n",
    "    success, frame = cap.read()\n",
    "    frame = cv2.resize(frame, (1500, 800))\n",
    "\n",
    "    if success:\n",
    "        results = model.track(frame, persist=True, classes=2, conf=0.3)\n",
    "        for out in results[0].boxes.data.tolist():\n",
    "            try:\n",
    "                x1, y1, x2, y2, score, class_id = out\n",
    "                center = ((x1+x2) / 2, (y1+y2) / 2)\n",
    "                print(center)\n",
    "                \n",
    "            except:\n",
    "                continue\n",
    "        annotated_frame = results[0].plot()\n",
    "        print(annotated_frame.shape)\n",
    "        annotated_frame = cv2.bitwise_and(annotated_frame, img)\n",
    "        \n",
    "        cv2.imshow(\"Draw Polygon\", annotated_frame)\n",
    "\n",
    "        if cv2.waitKey(1) & 0xFF == ord(\"q\"):\n",
    "            break\n",
    "    else:\n",
    "        break\n",
    "\n",
    "cap.release()\n",
    "cv2.destroyAllWindows()\n"
   ]
  },
  {
   "cell_type": "code",
   "execution_count": null,
   "id": "7b43ab3b-3a15-45d4-b889-62eb60df1b56",
   "metadata": {
    "tags": []
   },
   "outputs": [],
   "source": [
    "import torch\n",
    "torch.cuda.is_available()"
   ]
  },
  {
   "cell_type": "code",
   "execution_count": null,
   "id": "7c75e33f-e127-45d4-893b-676cf6186383",
   "metadata": {
    "tags": []
   },
   "outputs": [],
   "source": [
    "print(unique_id, counter, all_count, frame_count, c, pred)\n",
    "# input_image"
   ]
  },
  {
   "cell_type": "code",
   "execution_count": null,
   "id": "aafea057-f295-4890-9109-ea9cf5f41b01",
   "metadata": {
    "tags": []
   },
   "outputs": [],
   "source": [
    "import cv2\n",
    "import numpy as np\n",
    "from ultralytics import YOLO\n",
    "import torch\n",
    "from torchvision import transforms\n",
    "from PIL import Image\n",
    "import torchvision.models as models\n",
    "\n",
    "\n",
    "test_transform = transforms.Compose([\n",
    "    transforms.Resize((640, 640)),\n",
    "    transforms.ToTensor(),\n",
    "    transforms.Normalize(mean=[0.485, 0.456, 0.406], std=[0.229, 0.224, 0.225])\n",
    "])\n",
    "\n",
    "model = YOLO('yolov8x.pt')\n",
    "\n",
    "video_path = \"Untitled video - Made with Clipchamp (1).mp4\"\n",
    "cap = cv2.VideoCapture(video_path)\n",
    "\n",
    "points = []\n",
    "def draw_polygon(event, x, y, flags, param):\n",
    "    global points\n",
    "\n",
    "    if event == cv2.EVENT_LBUTTONDOWN:\n",
    "        points.append((x, y))\n",
    "        cv2.circle(img, (x, y), 5, (0, 0, 255), -1)\n",
    "    \n",
    "    elif event == cv2.EVENT_RBUTTONDOWN:\n",
    "        if len(points) >= 3:\n",
    "            cv2.polylines(img, [np.array(points)], isClosed=True, color=(0, 255, 0), thickness=2)\n",
    "            # points = []\n",
    "\n",
    "saved_model_path = 'resnet_model_train_97_val_95.pth'\n",
    "loaded_model = models.resnet50(pretrained=False)\n",
    "num_ftrs = loaded_model.fc.in_features\n",
    "loaded_model.fc = torch.nn.Linear(num_ftrs, 2)\n",
    "loaded_model.load_state_dict(torch.load(saved_model_path, map_location=torch.device('cpu')))\n",
    "loaded_model.eval()\n",
    "            \n",
    "unique_id = None\n",
    "counter = 0            \n",
    "all_count = 0\n",
    "frame_count = 0\n",
    "c = 0\n",
    "pred = [0, 0, 0]\n",
    "\n",
    "img = np.ones((1080, 1920, 3), np.uint8) * 255\n",
    "cap = cv2.VideoCapture('Untitled video - Made with Clipchamp (1).mp4')\n",
    "cv2.namedWindow('Draw Polygon')\n",
    "cv2.setMouseCallback('Draw Polygon', draw_polygon)\n",
    "\n",
    "while cap.isOpened():\n",
    "    success, frame = cap.read()\n",
    "    # frame = cv2.resize(frame, (1500, 800))\n",
    "    frame_count += 1\n",
    "    if success:\n",
    "        results = model.track(frame, persist=True, classes=2, conf=0.1, iou=0.2, imgsz=(320, 320))\n",
    "        for out in results[0].boxes.data.tolist():\n",
    "            try:\n",
    "                x1, y1, x2, y2, Id, score, class_id = out\n",
    "                center = ((x1+x2) / 2, (y1+y2) / 2)\n",
    "                # Id = out[4]\n",
    "                \n",
    "                # if int(Id) == 3:\n",
    "                check = cv2.pointPolygonTest(np.array(points), center, measureDist=False)\n",
    "                if check == 1:\n",
    "                    if Id != unique_id:\n",
    "                        all_count += 1\n",
    "                        unique_id = Id\n",
    "                        c = 0\n",
    "                        pred = [0, 0, 0]\n",
    "                    elif Id == unique_id:\n",
    "                        if frame_count % 500 == 0:\n",
    "                            if c < 3:\n",
    "                                pil_image = Image.fromarray(frame[int(y1):int(y2), int(x1):int(x2)])\n",
    "                                input_image = test_transform(pil_image).unsqueeze(0)\n",
    "                                with torch.no_grad():\n",
    "                                    output = loaded_model(input_image)\n",
    "\n",
    "                                _, predicted = torch.max(output, 1)\n",
    "                                predicted_class = predicted.item()\n",
    "                                pred.append(predicted_class)\n",
    "                                if sum(pred[-3:]) >= 2:\n",
    "                                    counter += 1\n",
    "                                    c = 3\n",
    "                                elif sum(pred[-3:]) < 2:\n",
    "                                    c = 0\n",
    "            except:\n",
    "                continue\n",
    "        annotated_frame = results[0].plot()\n",
    "        annotated_frame = cv2.bitwise_and(annotated_frame, img)\n",
    "        \n",
    "        cv2.imshow(\"Draw Polygon\", annotated_frame)\n",
    "\n",
    "        if cv2.waitKey(1) & 0xFF == ord(\"q\"):\n",
    "            break\n",
    "    else:\n",
    "        break\n",
    "\n",
    "cap.release()\n",
    "cv2.destroyAllWindows()\n"
   ]
  },
  {
   "cell_type": "code",
   "execution_count": null,
   "id": "7b1ada09-38ab-4b2b-a637-0463d0cfbf68",
   "metadata": {},
   "outputs": [],
   "source": [
    "import torch\n",
    "from torchvision import transforms\n",
    "from PIL import Image\n",
    "import torchvision.models as models\n",
    "import matplotlib.pyplot as plt\n",
    "\n",
    "test_transform = transforms.Compose([\n",
    "    transforms.Resize((640, 640)),\n",
    "    transforms.ToTensor(),\n",
    "    transforms.Normalize(mean=[0.485, 0.456, 0.406], std=[0.229, 0.224, 0.225])\n",
    "])\n",
    "\n",
    "saved_model_path = 'resnet_model_train_97_val_95.pth'\n",
    "loaded_model = models.resnet50(pretrained=False)\n",
    "num_ftrs = loaded_model.fc.in_features\n",
    "loaded_model.fc = torch.nn.Linear(num_ftrs, 2)\n",
    "loaded_model.load_state_dict(torch.load(saved_model_path, map_location=torch.device('cpu')))\n",
    "loaded_model.eval()\n",
    "\n",
    "test_image_path = 'Screenshot 2024-01-15 182416.png'\n",
    "test_image = Image.open(test_image_path).convert('RGB')\n",
    "input_image = test_transform(test_image).unsqueeze(0)\n",
    "plt.imshow(test_image)\n",
    "with torch.no_grad():\n",
    "    output = loaded_model(input_image)\n",
    "\n",
    "_, predicted = torch.max(output, 1)\n",
    "predicted_class = predicted.item()\n",
    "\n",
    "if predicted_class == 0:\n",
    "    print(\"Predicted: Not Washed\")\n",
    "else:\n",
    "    print(\"Predicted: Washed\")\n",
    "plt.axis('off')\n",
    "plt.show()"
   ]
  },
  {
   "cell_type": "code",
   "execution_count": null,
   "id": "00fd7837-5b9c-4046-93ea-20a6cfa9f9ed",
   "metadata": {
    "tags": []
   },
   "outputs": [],
   "source": [
    "import cv2\n",
    "import numpy as np\n",
    "from ultralytics import YOLO\n",
    "import torch\n",
    "from torchvision import transforms\n",
    "from PIL import Image\n",
    "import torchvision.models as models\n",
    "import matplotlib.pyplot as plt\n",
    "#test_image = Image.open(frame[y2:y1, x2:x1]).convert('RGB')\n",
    "\n",
    "model = YOLO('yolov8x.pt')\n",
    "\n",
    "cap = cv2.VideoCapture('Untitled video - Made with Clipchamp (1).mp4')\n",
    "\n",
    "points = []\n",
    "test_transform = transforms.Compose([\n",
    "    transforms.Resize((640, 640)),\n",
    "    transforms.ToTensor(),\n",
    "    transforms.Normalize(mean=[0.485, 0.456, 0.406], std=[0.229, 0.224, 0.225])\n",
    "])\n",
    "def draw_polygon(event, x, y, flags, param):\n",
    "    global points\n",
    "\n",
    "    if event == cv2.EVENT_LBUTTONDOWN:\n",
    "        points.append((x, y))\n",
    "        cv2.circle(img, (x, y), 5, (0, 0, 255), -1)\n",
    "    \n",
    "    elif event == cv2.EVENT_RBUTTONDOWN:\n",
    "        if len(points) >= 3:\n",
    "            cv2.polylines(img, [np.array(points)], isClosed=True, color=(0, 255, 0), thickness=2)\n",
    "            # points = []\n",
    "\n",
    "saved_model_path = 'resnet_model_train_97_val_95.pth'\n",
    "loaded_model = models.resnet50(pretrained=False)\n",
    "num_ftrs = loaded_model.fc.in_features\n",
    "loaded_model.fc = torch.nn.Linear(num_ftrs, 2)\n",
    "loaded_model.load_state_dict(torch.load(saved_model_path, map_location=torch.device('cpu')))\n",
    "loaded_model.eval()\n",
    "            \n",
    "unique_id = None\n",
    "counter = 0            \n",
    "all_count = 0\n",
    "frame_count = 0\n",
    "c = 0\n",
    "pred = [0, 0, 0]\n",
    "\n",
    "img = np.ones((1080, 1920, 3), np.uint8) * 255\n",
    "# cap = cv2.VideoCapture(video_path)\n",
    "cv2.namedWindow('Draw Polygon')\n",
    "cv2.setMouseCallback('Draw Polygon', draw_polygon)\n",
    "\n",
    "while cap.isOpened():\n",
    "    success, frame = cap.read()\n",
    "    # frame = cv2.resize(frame, (1500, 800))\n",
    "    frame_count += 1\n",
    "    if success:\n",
    "        results = model.track(frame, persist=True, classes=2, conf=0.1, iou=0.2, imgsz=(320,320))\n",
    "        for out in results[0].boxes.data.tolist():\n",
    "            try:\n",
    "                x1, y1, x2, y2, Id, score, class_id = out\n",
    "                center = ((x1+x2) / 2, (y1+y2) / 2)\n",
    "                # Id = out[4]\n",
    "                \n",
    "                # if int(Id) == 3:\n",
    "                check = cv2.pointPolygonTest(np.array(points), center, measureDist=False)\n",
    "                if check == 1:\n",
    "                    if Id != unique_id:\n",
    "                        print(\"unique_id take\")\n",
    "                        all_count += 1\n",
    "                        unique_id = Id\n",
    "                        c = 0\n",
    "                        pred = [0, 0, 0]\n",
    "                    elif Id == unique_id:\n",
    "                        print(\"unique_id old\",c,pred[-3:],counter, frame_count)\n",
    "                        \n",
    "                        if frame_count % 500 == 0:\n",
    "                            print(\"unique_id old\",c,len(pred),pred[-3:],counter, frame_count)\n",
    "                            if c < 3:\n",
    "                                print(\"unique_id old input img\",c,pred[-3:],counter, frame_count)\n",
    "                                \n",
    "                                pil_image = Image.fromarray(frame[int(y1):int(y2), int(x1):int(x2)])\n",
    "                                input_image = test_transform(pil_image).unsqueeze(0)\n",
    "                                \n",
    "                                with torch.no_grad():\n",
    "                                    output = loaded_model(input_image)\n",
    "                                    \n",
    "                                _, predicted = torch.max(output, 1)\n",
    "                                predicted_class = predicted.item()\n",
    "                                pred.append(predicted_class)\n",
    "                                print(\"predicted_class == \",predicted_class)\n",
    "                                \n",
    "                                if sum(pred[-3:]) >= 2:\n",
    "                                    counter += 1\n",
    "                                    c = 3\n",
    "                                elif sum(pred[-3:]) < 2:\n",
    "                                    c += 1\n",
    "            except:\n",
    "                continue\n",
    "        annotated_frame = results[0].plot()\n",
    "        annotated_frame = cv2.bitwise_and(annotated_frame, img)\n",
    "        \n",
    "        cv2.imshow(\"Draw Polygon\", annotated_frame)\n",
    "\n",
    "        if cv2.waitKey(1) & 0xFF == ord(\"q\"):\n",
    "            break\n",
    "    else:\n",
    "        break\n",
    "\n",
    "cap.release()\n",
    "cv2.destroyAllWindows()"
   ]
  },
  {
   "cell_type": "code",
   "execution_count": null,
   "id": "67ae48d8-770f-4f2b-b96d-517adc97c6dd",
   "metadata": {
    "tags": []
   },
   "outputs": [],
   "source": [
    "import cv2\n",
    "import numpy as np\n",
    "from ultralytics import YOLO\n",
    "import torch\n",
    "from torchvision import transforms\n",
    "from PIL import Image\n",
    "import torchvision.models as models\n",
    "import matplotlib.pyplot as plt\n",
    "\n",
    "\n",
    "#test_image = Image.open(frame[y2:y1, x2:x1]).convert('RGB')\n",
    "\n",
    "model = YOLO('yolov8x.pt')\n",
    "\n",
    "video_path = r\"C:\\Users\\user\\Downloads\\Test.mp4\"\n",
    "cap = cv2.VideoCapture(video_path)\n",
    "\n",
    "points = []\n",
    "test_transform = transforms.Compose([\n",
    "    transforms.Resize((640, 640)),\n",
    "    transforms.ToTensor(),\n",
    "    transforms.Normalize(mean=[0.485, 0.456, 0.406], std=[0.229, 0.224, 0.225])\n",
    "])\n",
    "def draw_polygon(event, x, y, flags, param):\n",
    "    global points\n",
    "\n",
    "    if event == cv2.EVENT_LBUTTONDOWN:\n",
    "        points.append((x, y))\n",
    "        cv2.circle(img, (x, y), 5, (0, 0, 255), -1)\n",
    "    \n",
    "    elif event == cv2.EVENT_RBUTTONDOWN:\n",
    "        if len(points) >= 3:\n",
    "            cv2.polylines(img, [np.array(points)], isClosed=True, color=(0, 255, 0), thickness=2)\n",
    "            # points = []\n",
    "\n",
    "saved_model_path = 'resnet_model_train_97_val_95.pth'\n",
    "loaded_model = models.resnet50(pretrained=False)\n",
    "num_ftrs = loaded_model.fc.in_features\n",
    "loaded_model.fc = torch.nn.Linear(num_ftrs, 2)\n",
    "loaded_model.load_state_dict(torch.load(saved_model_path, map_location=torch.device('cpu')))\n",
    "loaded_model.eval()\n",
    "            \n",
    "unique_id = None\n",
    "counter = 0            \n",
    "all_count = 0\n",
    "frame_count = 0\n",
    "c = 0\n",
    "pred = [0, 0, 0]\n",
    "\n",
    "\n",
    "img = np.ones((720, 1280 , 3), np.uint8) * 255\n",
    "cap = cv2.VideoCapture(video_path)\n",
    "cv2.namedWindow('Draw Polygon')\n",
    "cv2.setMouseCallback('Draw Polygon', draw_polygon)\n",
    "\n",
    "while cap.isOpened():\n",
    "    success, frame = cap.read()\n",
    "    # frame = cv2.resize(frame, (1500, 800))\n",
    "    frame_count += 1\n",
    "    if success:\n",
    "        results = model.track(frame, persist=True, classes=2, conf=0.1, iou=0.2, imgsz=(320,320))\n",
    "        for out in results[0].boxes.data.tolist():\n",
    "            try:\n",
    "                x1, y1, x2, y2, Id, score, class_id = out\n",
    "                center = ((x1+x2) / 2, (y1+y2) / 2)\n",
    "                # Id = out[4]\n",
    "                \n",
    "                # if int(Id) == 3:\n",
    "                check = cv2.pointPolygonTest(np.array(points), center, measureDist=False)\n",
    "                if check == 1:\n",
    "                    if Id != unique_id:\n",
    "                        print(\"unique_id take\")\n",
    "                        all_count += 1\n",
    "                        unique_id = Id\n",
    "                        c = 0\n",
    "                        pred = [0, 0, 0]\n",
    "                    elif Id == unique_id:\n",
    "                        print(\"unique_id old\",c,pred[-3:],counter, frame_count)\n",
    "                        \n",
    "                        if frame_count % 100 == 0:\n",
    "                            print(\"unique_id old\",c,len(pred),pred[-3:],counter, frame_count)\n",
    "                            if c < 3:\n",
    "                                print(\"unique_id old input img\",c,pred[-3:],counter, frame_count)\n",
    "                                \n",
    "                                pil_image = Image.fromarray(frame[int(y1):int(y2), int(x1):int(x2)])\n",
    "                                input_image = test_transform(pil_image).unsqueeze(0)\n",
    "                                \n",
    "                                with torch.no_grad():\n",
    "                                    output = loaded_model(input_image)\n",
    "                                    \n",
    "                                _, predicted = torch.max(output, 1)\n",
    "                                predicted_class = predicted.item()\n",
    "                                pred.append(predicted_class)\n",
    "                                print(\"predicted_class == \",predicted_class)\n",
    "                                \n",
    "                                if sum(pred[-3:]) >= 2:\n",
    "                                    counter += 1\n",
    "                                    c = 3\n",
    "                                elif sum(pred[-3:]) < 2:\n",
    "                                    c = 0\n",
    "            except:\n",
    "                continue\n",
    "        annotated_frame = results[0].plot()\n",
    "        annotated_frame = cv2.bitwise_and(annotated_frame, img)\n",
    "        \n",
    "        cv2.imshow(\"Draw Polygon\", annotated_frame)\n",
    "\n",
    "        if cv2.waitKey(1) & 0xFF == ord(\"q\"):\n",
    "            break\n",
    "    else:\n",
    "        break\n",
    "\n",
    "cap.release()\n",
    "cv2.destroyAllWindows()"
   ]
  },
  {
   "cell_type": "code",
   "execution_count": 1,
   "id": "45bb5425-b47e-4f17-b4a4-a518fb8f57b4",
   "metadata": {},
   "outputs": [
    {
     "name": "stderr",
     "output_type": "stream",
     "text": [
      "\n",
      "0: 192x320 1 car, 48.7ms\n"
     ]
    },
    {
     "name": "stdout",
     "output_type": "stream",
     "text": [
      "unique_id old 3 [0, 1, 1] 2 15612\n",
      "unique_id old 3 [0, 1, 1] 2 15613\n"
     ]
    },
    {
     "name": "stderr",
     "output_type": "stream",
     "text": [
      "Speed: 0.9ms preprocess, 48.7ms inference, 4.0ms postprocess per image at shape (1, 3, 192, 320)\n",
      "\n",
      "0: 192x320 1 car, 54.6ms\n",
      "Speed: 2.0ms preprocess, 54.6ms inference, 4.0ms postprocess per image at shape (1, 3, 192, 320)\n",
      "\n"
     ]
    },
    {
     "name": "stdout",
     "output_type": "stream",
     "text": [
      "unique_id old 3 [0, 1, 1] 2 15614\n",
      "unique_id old 3 [0, 1, 1] 2 15615\n"
     ]
    },
    {
     "name": "stderr",
     "output_type": "stream",
     "text": [
      "0: 192x320 1 car, 55.7ms\n",
      "Speed: 2.1ms preprocess, 55.7ms inference, 4.9ms postprocess per image at shape (1, 3, 192, 320)\n",
      "\n",
      "0: 192x320 1 car, 53.6ms\n",
      "Speed: 2.0ms preprocess, 53.6ms inference, 5.9ms postprocess per image at shape (1, 3, 192, 320)\n",
      "\n",
      "0: 192x320 1 car, 43.8ms\n"
     ]
    },
    {
     "name": "stdout",
     "output_type": "stream",
     "text": [
      "unique_id old 3 [0, 1, 1] 2 15616\n",
      "unique_id old 3 [0, 1, 1] 2 15617\n"
     ]
    },
    {
     "name": "stderr",
     "output_type": "stream",
     "text": [
      "Speed: 2.0ms preprocess, 43.8ms inference, 2.0ms postprocess per image at shape (1, 3, 192, 320)\n",
      "\n",
      "0: 192x320 1 car, 42.4ms\n",
      "Speed: 2.0ms preprocess, 42.4ms inference, 4.0ms postprocess per image at shape (1, 3, 192, 320)\n",
      "\n",
      "0: 192x320 1 car, 51.8ms\n"
     ]
    },
    {
     "name": "stdout",
     "output_type": "stream",
     "text": [
      "unique_id old 3 [0, 1, 1] 2 15618\n",
      "unique_id old 3 [0, 1, 1] 2 15619\n"
     ]
    },
    {
     "name": "stderr",
     "output_type": "stream",
     "text": [
      "Speed: 1.9ms preprocess, 51.8ms inference, 3.0ms postprocess per image at shape (1, 3, 192, 320)\n",
      "\n",
      "0: 192x320 1 car, 42.7ms\n",
      "Speed: 1.0ms preprocess, 42.7ms inference, 3.0ms postprocess per image at shape (1, 3, 192, 320)\n",
      "\n",
      "0: 192x320 1 car, 42.1ms\n"
     ]
    },
    {
     "name": "stdout",
     "output_type": "stream",
     "text": [
      "unique_id old 3 [0, 1, 1] 2 15620\n",
      "unique_id old 3 [0, 1, 1] 2 15621\n"
     ]
    },
    {
     "name": "stderr",
     "output_type": "stream",
     "text": [
      "Speed: 1.0ms preprocess, 42.1ms inference, 1.9ms postprocess per image at shape (1, 3, 192, 320)\n",
      "\n",
      "0: 192x320 1 car, 55.7ms\n",
      "Speed: 1.1ms preprocess, 55.7ms inference, 2.0ms postprocess per image at shape (1, 3, 192, 320)\n",
      "\n",
      "0: 192x320 1 car, 59.5ms\n"
     ]
    },
    {
     "name": "stdout",
     "output_type": "stream",
     "text": [
      "unique_id old 3 [0, 1, 1] 2 15622\n",
      "unique_id old 3 [0, 1, 1] 2 15623\n"
     ]
    },
    {
     "name": "stderr",
     "output_type": "stream",
     "text": [
      "Speed: 1.0ms preprocess, 59.5ms inference, 5.1ms postprocess per image at shape (1, 3, 192, 320)\n",
      "\n",
      "0: 192x320 1 car, 49.3ms\n",
      "Speed: 3.0ms preprocess, 49.3ms inference, 3.0ms postprocess per image at shape (1, 3, 192, 320)\n",
      "\n"
     ]
    },
    {
     "name": "stdout",
     "output_type": "stream",
     "text": [
      "unique_id old 3 [0, 1, 1] 2 15624\n",
      "unique_id old 3 [0, 1, 1] 2 15625\n"
     ]
    },
    {
     "name": "stderr",
     "output_type": "stream",
     "text": [
      "0: 192x320 1 car, 65.1ms\n",
      "Speed: 2.9ms preprocess, 65.1ms inference, 4.9ms postprocess per image at shape (1, 3, 192, 320)\n",
      "\n",
      "0: 192x320 1 car, 45.0ms\n",
      "Speed: 2.0ms preprocess, 45.0ms inference, 6.0ms postprocess per image at shape (1, 3, 192, 320)\n",
      "\n"
     ]
    },
    {
     "name": "stdout",
     "output_type": "stream",
     "text": [
      "unique_id old 3 [0, 1, 1] 2 15626\n",
      "unique_id old 3 [0, 1, 1] 2 15627\n"
     ]
    },
    {
     "name": "stderr",
     "output_type": "stream",
     "text": [
      "0: 192x320 1 car, 63.1ms\n",
      "Speed: 2.0ms preprocess, 63.1ms inference, 2.6ms postprocess per image at shape (1, 3, 192, 320)\n",
      "\n",
      "0: 192x320 1 car, 40.1ms\n",
      "Speed: 1.0ms preprocess, 40.1ms inference, 2.9ms postprocess per image at shape (1, 3, 192, 320)\n",
      "\n",
      "0: 192x320 1 car, 49.0ms\n"
     ]
    },
    {
     "name": "stdout",
     "output_type": "stream",
     "text": [
      "unique_id old 3 [0, 1, 1] 2 15628\n",
      "unique_id old 3 [0, 1, 1] 2 15629\n"
     ]
    },
    {
     "name": "stderr",
     "output_type": "stream",
     "text": [
      "Speed: 2.1ms preprocess, 49.0ms inference, 2.0ms postprocess per image at shape (1, 3, 192, 320)\n",
      "\n",
      "0: 192x320 1 car, 52.0ms\n",
      "Speed: 2.1ms preprocess, 52.0ms inference, 4.0ms postprocess per image at shape (1, 3, 192, 320)\n",
      "\n",
      "0: 192x320 1 car, 47.0ms\n"
     ]
    },
    {
     "name": "stdout",
     "output_type": "stream",
     "text": [
      "unique_id old 3 [0, 1, 1] 2 15630\n",
      "unique_id old 3 [0, 1, 1] 2 15631\n"
     ]
    },
    {
     "name": "stderr",
     "output_type": "stream",
     "text": [
      "Speed: 3.0ms preprocess, 47.0ms inference, 2.0ms postprocess per image at shape (1, 3, 192, 320)\n",
      "\n",
      "0: 192x320 1 car, 43.0ms\n",
      "Speed: 1.0ms preprocess, 43.0ms inference, 3.0ms postprocess per image at shape (1, 3, 192, 320)\n",
      "\n",
      "0: 192x320 1 car, 46.0ms\n"
     ]
    },
    {
     "name": "stdout",
     "output_type": "stream",
     "text": [
      "unique_id old 3 [0, 1, 1] 2 15632\n",
      "unique_id old 3 [0, 1, 1] 2 15633\n"
     ]
    },
    {
     "name": "stderr",
     "output_type": "stream",
     "text": [
      "Speed: 1.0ms preprocess, 46.0ms inference, 2.0ms postprocess per image at shape (1, 3, 192, 320)\n",
      "\n",
      "0: 192x320 1 car, 40.9ms\n",
      "Speed: 2.1ms preprocess, 40.9ms inference, 2.1ms postprocess per image at shape (1, 3, 192, 320)\n",
      "\n",
      "0: 192x320 1 car, 40.8ms\n"
     ]
    },
    {
     "name": "stdout",
     "output_type": "stream",
     "text": [
      "unique_id old 3 [0, 1, 1] 2 15634\n",
      "unique_id old 3 [0, 1, 1] 2 15635\n"
     ]
    },
    {
     "name": "stderr",
     "output_type": "stream",
     "text": [
      "Speed: 1.0ms preprocess, 40.8ms inference, 6.0ms postprocess per image at shape (1, 3, 192, 320)\n",
      "\n",
      "0: 192x320 1 car, 50.0ms\n",
      "Speed: 2.0ms preprocess, 50.0ms inference, 3.0ms postprocess per image at shape (1, 3, 192, 320)\n",
      "\n",
      "0: 192x320 1 car, 53.0ms\n"
     ]
    },
    {
     "name": "stdout",
     "output_type": "stream",
     "text": [
      "unique_id old 3 [0, 1, 1] 2 15636\n",
      "unique_id old 3 [0, 1, 1] 2 15637\n"
     ]
    },
    {
     "name": "stderr",
     "output_type": "stream",
     "text": [
      "Speed: 2.1ms preprocess, 53.0ms inference, 5.4ms postprocess per image at shape (1, 3, 192, 320)\n",
      "\n",
      "0: 192x320 1 car, 67.1ms\n",
      "Speed: 2.1ms preprocess, 67.1ms inference, 4.9ms postprocess per image at shape (1, 3, 192, 320)\n",
      "\n"
     ]
    },
    {
     "name": "stdout",
     "output_type": "stream",
     "text": [
      "unique_id old 3 [0, 1, 1] 2 15638\n",
      "unique_id old 3 [0, 1, 1] 2 15639\n"
     ]
    },
    {
     "name": "stderr",
     "output_type": "stream",
     "text": [
      "0: 192x320 1 car, 41.0ms\n",
      "Speed: 0.9ms preprocess, 41.0ms inference, 5.0ms postprocess per image at shape (1, 3, 192, 320)\n",
      "\n",
      "0: 192x320 1 car, 51.3ms\n",
      "Speed: 1.6ms preprocess, 51.3ms inference, 8.0ms postprocess per image at shape (1, 3, 192, 320)\n",
      "\n"
     ]
    },
    {
     "name": "stdout",
     "output_type": "stream",
     "text": [
      "unique_id old 3 [0, 1, 1] 2 15640\n",
      "unique_id old 3 [0, 1, 1] 2 15641\n"
     ]
    },
    {
     "name": "stderr",
     "output_type": "stream",
     "text": [
      "0: 192x320 1 car, 50.9ms\n",
      "Speed: 3.0ms preprocess, 50.9ms inference, 2.0ms postprocess per image at shape (1, 3, 192, 320)\n",
      "\n",
      "0: 192x320 1 car, 48.2ms\n",
      "Speed: 1.9ms preprocess, 48.2ms inference, 3.0ms postprocess per image at shape (1, 3, 192, 320)\n",
      "\n"
     ]
    },
    {
     "name": "stdout",
     "output_type": "stream",
     "text": [
      "unique_id old 3 [0, 1, 1] 2 15642\n",
      "unique_id old 3 [0, 1, 1] 2 15643\n"
     ]
    },
    {
     "name": "stderr",
     "output_type": "stream",
     "text": [
      "0: 192x320 1 car, 43.0ms\n",
      "Speed: 0.9ms preprocess, 43.0ms inference, 2.0ms postprocess per image at shape (1, 3, 192, 320)\n",
      "\n",
      "0: 192x320 1 car, 52.7ms\n",
      "Speed: 1.0ms preprocess, 52.7ms inference, 5.1ms postprocess per image at shape (1, 3, 192, 320)\n",
      "\n"
     ]
    },
    {
     "name": "stdout",
     "output_type": "stream",
     "text": [
      "unique_id old 3 [0, 1, 1] 2 15644\n",
      "unique_id old 3 [0, 1, 1] 2 15645\n"
     ]
    },
    {
     "name": "stderr",
     "output_type": "stream",
     "text": [
      "0: 192x320 1 car, 66.7ms\n",
      "Speed: 1.0ms preprocess, 66.7ms inference, 5.9ms postprocess per image at shape (1, 3, 192, 320)\n",
      "\n",
      "0: 192x320 1 car, 43.5ms\n",
      "Speed: 2.0ms preprocess, 43.5ms inference, 2.0ms postprocess per image at shape (1, 3, 192, 320)\n",
      "\n",
      "0: 192x320 1 car, 45.3ms\n"
     ]
    },
    {
     "name": "stdout",
     "output_type": "stream",
     "text": [
      "unique_id old 3 [0, 1, 1] 2 15646\n",
      "unique_id old 3 [0, 1, 1] 2 15647\n"
     ]
    },
    {
     "name": "stderr",
     "output_type": "stream",
     "text": [
      "Speed: 1.0ms preprocess, 45.3ms inference, 5.0ms postprocess per image at shape (1, 3, 192, 320)\n",
      "\n",
      "0: 192x320 1 car, 42.9ms\n",
      "Speed: 2.0ms preprocess, 42.9ms inference, 3.1ms postprocess per image at shape (1, 3, 192, 320)\n",
      "\n"
     ]
    },
    {
     "name": "stdout",
     "output_type": "stream",
     "text": [
      "unique_id old 3 [0, 1, 1] 2 15648\n",
      "unique_id old 3 [0, 1, 1] 2 15649\n"
     ]
    },
    {
     "name": "stderr",
     "output_type": "stream",
     "text": [
      "0: 192x320 1 car, 63.3ms\n",
      "Speed: 1.0ms preprocess, 63.3ms inference, 7.2ms postprocess per image at shape (1, 3, 192, 320)\n",
      "\n",
      "0: 192x320 1 car, 47.0ms\n",
      "Speed: 1.0ms preprocess, 47.0ms inference, 2.0ms postprocess per image at shape (1, 3, 192, 320)\n",
      "\n",
      "0: 192x320 1 car, 42.0ms\n"
     ]
    },
    {
     "name": "stdout",
     "output_type": "stream",
     "text": [
      "unique_id old 3 [0, 1, 1] 2 15650\n",
      "unique_id old 3 [0, 1, 1] 2 15651\n"
     ]
    },
    {
     "name": "stderr",
     "output_type": "stream",
     "text": [
      "Speed: 2.0ms preprocess, 42.0ms inference, 5.0ms postprocess per image at shape (1, 3, 192, 320)\n",
      "\n",
      "0: 192x320 1 car, 45.0ms\n",
      "Speed: 2.0ms preprocess, 45.0ms inference, 2.0ms postprocess per image at shape (1, 3, 192, 320)\n",
      "\n",
      "0: 192x320 1 car, 44.0ms\n"
     ]
    },
    {
     "name": "stdout",
     "output_type": "stream",
     "text": [
      "unique_id old 3 [0, 1, 1] 2 15652\n",
      "unique_id old 3 [0, 1, 1] 2 15653\n"
     ]
    },
    {
     "name": "stderr",
     "output_type": "stream",
     "text": [
      "Speed: 1.0ms preprocess, 44.0ms inference, 3.0ms postprocess per image at shape (1, 3, 192, 320)\n",
      "\n",
      "0: 192x320 1 car, 46.1ms\n",
      "Speed: 2.0ms preprocess, 46.1ms inference, 12.0ms postprocess per image at shape (1, 3, 192, 320)\n",
      "\n"
     ]
    },
    {
     "name": "stdout",
     "output_type": "stream",
     "text": [
      "unique_id old 3 [0, 1, 1] 2 15654\n",
      "unique_id old 3 [0, 1, 1] 2 15655\n"
     ]
    },
    {
     "name": "stderr",
     "output_type": "stream",
     "text": [
      "0: 192x320 1 car, 44.1ms\n",
      "Speed: 0.9ms preprocess, 44.1ms inference, 3.0ms postprocess per image at shape (1, 3, 192, 320)\n",
      "\n",
      "0: 192x320 1 car, 63.8ms\n",
      "Speed: 2.0ms preprocess, 63.8ms inference, 3.9ms postprocess per image at shape (1, 3, 192, 320)\n",
      "\n"
     ]
    },
    {
     "name": "stdout",
     "output_type": "stream",
     "text": [
      "unique_id old 3 [0, 1, 1] 2 15656\n",
      "unique_id old 3 [0, 1, 1] 2 15657\n"
     ]
    },
    {
     "name": "stderr",
     "output_type": "stream",
     "text": [
      "0: 192x320 1 car, 43.8ms\n",
      "Speed: 1.0ms preprocess, 43.8ms inference, 2.9ms postprocess per image at shape (1, 3, 192, 320)\n",
      "\n",
      "0: 192x320 1 car, 42.7ms\n",
      "Speed: 2.0ms preprocess, 42.7ms inference, 3.0ms postprocess per image at shape (1, 3, 192, 320)\n",
      "\n",
      "0: 192x320 1 car, 41.1ms\n",
      "Speed: 0.0ms preprocess, 41.1ms inference, 3.0ms postprocess per image at shape (1, 3, 192, 320)\n"
     ]
    },
    {
     "name": "stdout",
     "output_type": "stream",
     "text": [
      "unique_id old 3 [0, 1, 1] 2 15658\n",
      "unique_id old 3 [0, 1, 1] 2 15659\n",
      "unique_id old 3 [0, 1, 1] 2 15660\n"
     ]
    },
    {
     "name": "stderr",
     "output_type": "stream",
     "text": [
      "\n",
      "0: 192x320 1 car, 42.4ms\n",
      "Speed: 1.0ms preprocess, 42.4ms inference, 3.0ms postprocess per image at shape (1, 3, 192, 320)\n",
      "\n",
      "0: 192x320 1 car, 47.5ms\n",
      "Speed: 2.0ms preprocess, 47.5ms inference, 6.0ms postprocess per image at shape (1, 3, 192, 320)\n",
      "\n"
     ]
    },
    {
     "name": "stdout",
     "output_type": "stream",
     "text": [
      "unique_id old 3 [0, 1, 1] 2 15661\n",
      "unique_id old 3 [0, 1, 1] 2 15662\n"
     ]
    },
    {
     "name": "stderr",
     "output_type": "stream",
     "text": [
      "0: 192x320 1 car, 48.7ms\n",
      "Speed: 1.0ms preprocess, 48.7ms inference, 5.0ms postprocess per image at shape (1, 3, 192, 320)\n",
      "\n",
      "0: 192x320 1 car, 43.3ms\n",
      "Speed: 1.0ms preprocess, 43.3ms inference, 3.0ms postprocess per image at shape (1, 3, 192, 320)\n",
      "\n",
      "0: 192x320 1 car, 49.6ms\n"
     ]
    },
    {
     "name": "stdout",
     "output_type": "stream",
     "text": [
      "unique_id old 3 [0, 1, 1] 2 15663\n",
      "unique_id old 3 [0, 1, 1] 2 15664\n"
     ]
    },
    {
     "name": "stderr",
     "output_type": "stream",
     "text": [
      "Speed: 2.0ms preprocess, 49.6ms inference, 2.1ms postprocess per image at shape (1, 3, 192, 320)\n",
      "\n",
      "0: 192x320 1 car, 54.5ms\n",
      "Speed: 1.9ms preprocess, 54.5ms inference, 5.0ms postprocess per image at shape (1, 3, 192, 320)\n",
      "\n"
     ]
    },
    {
     "name": "stdout",
     "output_type": "stream",
     "text": [
      "unique_id old 3 [0, 1, 1] 2 15665\n",
      "unique_id old 3 [0, 1, 1] 2 15666\n"
     ]
    },
    {
     "name": "stderr",
     "output_type": "stream",
     "text": [
      "0: 192x320 1 car, 44.5ms\n",
      "Speed: 2.0ms preprocess, 44.5ms inference, 6.0ms postprocess per image at shape (1, 3, 192, 320)\n",
      "\n",
      "0: 192x320 1 car, 52.0ms\n",
      "Speed: 1.0ms preprocess, 52.0ms inference, 3.0ms postprocess per image at shape (1, 3, 192, 320)\n",
      "\n"
     ]
    },
    {
     "name": "stdout",
     "output_type": "stream",
     "text": [
      "unique_id old 3 [0, 1, 1] 2 15667\n",
      "unique_id old 3 [0, 1, 1] 2 15668\n"
     ]
    },
    {
     "name": "stderr",
     "output_type": "stream",
     "text": [
      "0: 192x320 1 car, 48.0ms\n",
      "Speed: 2.0ms preprocess, 48.0ms inference, 4.0ms postprocess per image at shape (1, 3, 192, 320)\n",
      "\n",
      "0: 192x320 1 car, 39.0ms\n",
      "Speed: 2.0ms preprocess, 39.0ms inference, 3.0ms postprocess per image at shape (1, 3, 192, 320)\n",
      "\n",
      "0: 192x320 1 car, 48.0ms\n"
     ]
    },
    {
     "name": "stdout",
     "output_type": "stream",
     "text": [
      "unique_id old 3 [0, 1, 1] 2 15669\n",
      "unique_id old 3 [0, 1, 1] 2 15670\n"
     ]
    },
    {
     "name": "stderr",
     "output_type": "stream",
     "text": [
      "Speed: 1.0ms preprocess, 48.0ms inference, 2.0ms postprocess per image at shape (1, 3, 192, 320)\n",
      "\n",
      "0: 192x320 1 car, 44.5ms\n",
      "Speed: 2.0ms preprocess, 44.5ms inference, 2.0ms postprocess per image at shape (1, 3, 192, 320)\n",
      "\n",
      "0: 192x320 1 car, 42.7ms\n",
      "Speed: 2.0ms preprocess, 42.7ms inference, 1.9ms postprocess per image at shape (1, 3, 192, 320)\n"
     ]
    },
    {
     "name": "stdout",
     "output_type": "stream",
     "text": [
      "unique_id old 3 [0, 1, 1] 2 15671\n",
      "unique_id old 3 [0, 1, 1] 2 15672\n"
     ]
    },
    {
     "name": "stderr",
     "output_type": "stream",
     "text": [
      "\n",
      "0: 192x320 1 car, 39.5ms\n",
      "Speed: 1.3ms preprocess, 39.5ms inference, 2.0ms postprocess per image at shape (1, 3, 192, 320)\n",
      "\n",
      "0: 192x320 1 car, 37.5ms\n",
      "Speed: 1.0ms preprocess, 37.5ms inference, 3.0ms postprocess per image at shape (1, 3, 192, 320)\n",
      "\n"
     ]
    },
    {
     "name": "stdout",
     "output_type": "stream",
     "text": [
      "unique_id old 3 [0, 1, 1] 2 15673\n",
      "unique_id old 3 [0, 1, 1] 2 15674\n",
      "unique_id old 3 [0, 1, 1] 2 15675\n"
     ]
    },
    {
     "name": "stderr",
     "output_type": "stream",
     "text": [
      "0: 192x320 1 car, 51.1ms\n",
      "Speed: 1.0ms preprocess, 51.1ms inference, 2.1ms postprocess per image at shape (1, 3, 192, 320)\n",
      "\n",
      "0: 192x320 1 car, 53.9ms\n",
      "Speed: 2.0ms preprocess, 53.9ms inference, 2.0ms postprocess per image at shape (1, 3, 192, 320)\n",
      "\n",
      "0: 192x320 1 car, 39.8ms\n"
     ]
    },
    {
     "name": "stdout",
     "output_type": "stream",
     "text": [
      "unique_id old 3 [0, 1, 1] 2 15676\n",
      "unique_id old 3 [0, 1, 1] 2 15677\n"
     ]
    },
    {
     "name": "stderr",
     "output_type": "stream",
     "text": [
      "Speed: 1.0ms preprocess, 39.8ms inference, 2.9ms postprocess per image at shape (1, 3, 192, 320)\n",
      "\n",
      "0: 192x320 1 car, 48.1ms\n",
      "Speed: 2.0ms preprocess, 48.1ms inference, 2.1ms postprocess per image at shape (1, 3, 192, 320)\n",
      "\n"
     ]
    },
    {
     "name": "stdout",
     "output_type": "stream",
     "text": [
      "unique_id old 3 [0, 1, 1] 2 15678\n",
      "unique_id old 3 [0, 1, 1] 2 15679\n"
     ]
    },
    {
     "name": "stderr",
     "output_type": "stream",
     "text": [
      "0: 192x320 1 car, 63.5ms\n",
      "Speed: 2.0ms preprocess, 63.5ms inference, 6.0ms postprocess per image at shape (1, 3, 192, 320)\n",
      "\n",
      "0: 192x320 1 car, 42.0ms\n",
      "Speed: 2.0ms preprocess, 42.0ms inference, 3.0ms postprocess per image at shape (1, 3, 192, 320)\n",
      "\n",
      "0: 192x320 1 car, 39.1ms\n",
      "Speed: 1.0ms preprocess, 39.1ms inference, 2.5ms postprocess per image at shape (1, 3, 192, 320)\n",
      "\n"
     ]
    },
    {
     "name": "stdout",
     "output_type": "stream",
     "text": [
      "unique_id old 3 [0, 1, 1] 2 15680\n",
      "unique_id old 3 [0, 1, 1] 2 15681\n",
      "unique_id old 3 [0, 1, 1] 2 15682\n"
     ]
    },
    {
     "name": "stderr",
     "output_type": "stream",
     "text": [
      "0: 192x320 1 car, 57.5ms\n",
      "Speed: 1.0ms preprocess, 57.5ms inference, 5.0ms postprocess per image at shape (1, 3, 192, 320)\n",
      "\n",
      "0: 192x320 1 car, 49.6ms\n",
      "Speed: 2.0ms preprocess, 49.6ms inference, 3.0ms postprocess per image at shape (1, 3, 192, 320)\n",
      "\n"
     ]
    },
    {
     "name": "stdout",
     "output_type": "stream",
     "text": [
      "unique_id old 3 [0, 1, 1] 2 15683\n",
      "unique_id old 3 [0, 1, 1] 2 15684\n"
     ]
    },
    {
     "name": "stderr",
     "output_type": "stream",
     "text": [
      "0: 192x320 1 car, 48.5ms\n",
      "Speed: 2.0ms preprocess, 48.5ms inference, 2.0ms postprocess per image at shape (1, 3, 192, 320)\n",
      "\n",
      "0: 192x320 1 car, 41.5ms\n",
      "Speed: 2.0ms preprocess, 41.5ms inference, 2.0ms postprocess per image at shape (1, 3, 192, 320)\n",
      "\n",
      "0: 192x320 1 car, 49.6ms\n"
     ]
    },
    {
     "name": "stdout",
     "output_type": "stream",
     "text": [
      "unique_id old 3 [0, 1, 1] 2 15685\n",
      "unique_id old 3 [0, 1, 1] 2 15686\n"
     ]
    },
    {
     "name": "stderr",
     "output_type": "stream",
     "text": [
      "Speed: 2.0ms preprocess, 49.6ms inference, 3.1ms postprocess per image at shape (1, 3, 192, 320)\n",
      "\n",
      "0: 192x320 1 car, 39.7ms\n",
      "Speed: 1.0ms preprocess, 39.7ms inference, 2.0ms postprocess per image at shape (1, 3, 192, 320)\n",
      "\n",
      "0: 192x320 1 car, 40.1ms\n",
      "Speed: 1.0ms preprocess, 40.1ms inference, 3.0ms postprocess per image at shape (1, 3, 192, 320)\n",
      "\n"
     ]
    },
    {
     "name": "stdout",
     "output_type": "stream",
     "text": [
      "unique_id old 3 [0, 1, 1] 2 15687\n",
      "unique_id old 3 [0, 1, 1] 2 15688\n",
      "unique_id old 3 [0, 1, 1] 2 15689\n"
     ]
    },
    {
     "name": "stderr",
     "output_type": "stream",
     "text": [
      "0: 192x320 1 car, 49.3ms\n",
      "Speed: 2.1ms preprocess, 49.3ms inference, 2.0ms postprocess per image at shape (1, 3, 192, 320)\n",
      "\n",
      "0: 192x320 1 car, 52.0ms\n",
      "Speed: 2.0ms preprocess, 52.0ms inference, 6.0ms postprocess per image at shape (1, 3, 192, 320)\n",
      "\n",
      "0: 192x320 1 car, 41.0ms\n"
     ]
    },
    {
     "name": "stdout",
     "output_type": "stream",
     "text": [
      "unique_id old 3 [0, 1, 1] 2 15690\n",
      "unique_id old 3 [0, 1, 1] 2 15691\n"
     ]
    },
    {
     "name": "stderr",
     "output_type": "stream",
     "text": [
      "Speed: 1.0ms preprocess, 41.0ms inference, 2.0ms postprocess per image at shape (1, 3, 192, 320)\n",
      "\n",
      "0: 192x320 1 car, 38.0ms\n",
      "Speed: 1.0ms preprocess, 38.0ms inference, 3.0ms postprocess per image at shape (1, 3, 192, 320)\n",
      "\n",
      "0: 192x320 1 car, 37.0ms\n",
      "Speed: 1.0ms preprocess, 37.0ms inference, 5.0ms postprocess per image at shape (1, 3, 192, 320)\n",
      "\n"
     ]
    },
    {
     "name": "stdout",
     "output_type": "stream",
     "text": [
      "unique_id old 3 [0, 1, 1] 2 15692\n",
      "unique_id old 3 [0, 1, 1] 2 15693\n",
      "unique_id old 3 [0, 1, 1] 2 15694\n"
     ]
    },
    {
     "name": "stderr",
     "output_type": "stream",
     "text": [
      "0: 192x320 1 car, 38.0ms\n",
      "Speed: 1.0ms preprocess, 38.0ms inference, 3.0ms postprocess per image at shape (1, 3, 192, 320)\n",
      "\n",
      "0: 192x320 1 car, 61.4ms\n",
      "Speed: 0.9ms preprocess, 61.4ms inference, 5.0ms postprocess per image at shape (1, 3, 192, 320)\n",
      "\n"
     ]
    },
    {
     "name": "stdout",
     "output_type": "stream",
     "text": [
      "unique_id old 3 [0, 1, 1] 2 15695\n",
      "unique_id old 3 [0, 1, 1] 2 15696\n"
     ]
    },
    {
     "name": "stderr",
     "output_type": "stream",
     "text": [
      "0: 192x320 1 car, 39.9ms\n",
      "Speed: 3.0ms preprocess, 39.9ms inference, 3.0ms postprocess per image at shape (1, 3, 192, 320)\n",
      "\n",
      "0: 192x320 1 car, 55.5ms\n",
      "Speed: 3.0ms preprocess, 55.5ms inference, 5.0ms postprocess per image at shape (1, 3, 192, 320)\n",
      "\n",
      "0: 192x320 1 car, 38.8ms\n"
     ]
    },
    {
     "name": "stdout",
     "output_type": "stream",
     "text": [
      "unique_id old 3 [0, 1, 1] 2 15697\n",
      "unique_id old 3 [0, 1, 1] 2 15698\n"
     ]
    },
    {
     "name": "stderr",
     "output_type": "stream",
     "text": [
      "Speed: 1.5ms preprocess, 38.8ms inference, 6.1ms postprocess per image at shape (1, 3, 192, 320)\n",
      "\n",
      "0: 192x320 1 car, 50.0ms\n",
      "Speed: 2.0ms preprocess, 50.0ms inference, 2.0ms postprocess per image at shape (1, 3, 192, 320)\n",
      "\n",
      "0: 192x320 1 car, 51.9ms\n"
     ]
    },
    {
     "name": "stdout",
     "output_type": "stream",
     "text": [
      "unique_id old 3 [0, 1, 1] 2 15699\n",
      "unique_id old 3 [0, 1, 1] 2 15700\n",
      "unique_id old 3 25 [0, 1, 1] 2 15700\n"
     ]
    },
    {
     "name": "stderr",
     "output_type": "stream",
     "text": [
      "Speed: 2.1ms preprocess, 51.9ms inference, 3.5ms postprocess per image at shape (1, 3, 192, 320)\n",
      "\n",
      "0: 192x320 1 car, 43.6ms\n",
      "Speed: 2.2ms preprocess, 43.6ms inference, 3.0ms postprocess per image at shape (1, 3, 192, 320)\n",
      "\n",
      "0: 192x320 1 car, 46.5ms\n"
     ]
    },
    {
     "name": "stdout",
     "output_type": "stream",
     "text": [
      "unique_id old 3 [0, 1, 1] 2 15701\n",
      "unique_id old 3 [0, 1, 1] 2 15702\n"
     ]
    },
    {
     "name": "stderr",
     "output_type": "stream",
     "text": [
      "Speed: 2.0ms preprocess, 46.5ms inference, 6.0ms postprocess per image at shape (1, 3, 192, 320)\n",
      "\n",
      "0: 192x320 1 car, 42.1ms\n",
      "Speed: 2.0ms preprocess, 42.1ms inference, 5.0ms postprocess per image at shape (1, 3, 192, 320)\n",
      "\n",
      "0: 192x320 1 car, 47.8ms\n"
     ]
    },
    {
     "name": "stdout",
     "output_type": "stream",
     "text": [
      "unique_id old 3 [0, 1, 1] 2 15703\n",
      "unique_id old 3 [0, 1, 1] 2 15704\n"
     ]
    },
    {
     "name": "stderr",
     "output_type": "stream",
     "text": [
      "Speed: 1.5ms preprocess, 47.8ms inference, 3.0ms postprocess per image at shape (1, 3, 192, 320)\n",
      "\n",
      "0: 192x320 1 car, 41.5ms\n",
      "Speed: 1.0ms preprocess, 41.5ms inference, 2.0ms postprocess per image at shape (1, 3, 192, 320)\n",
      "\n",
      "0: 192x320 1 car, 52.6ms\n"
     ]
    },
    {
     "name": "stdout",
     "output_type": "stream",
     "text": [
      "unique_id old 3 [0, 1, 1] 2 15705\n",
      "unique_id old 3 [0, 1, 1] 2 15706\n"
     ]
    },
    {
     "name": "stderr",
     "output_type": "stream",
     "text": [
      "Speed: 3.0ms preprocess, 52.6ms inference, 3.0ms postprocess per image at shape (1, 3, 192, 320)\n",
      "\n",
      "0: 192x320 1 car, 62.5ms\n",
      "Speed: 2.0ms preprocess, 62.5ms inference, 5.0ms postprocess per image at shape (1, 3, 192, 320)\n",
      "\n"
     ]
    },
    {
     "name": "stdout",
     "output_type": "stream",
     "text": [
      "unique_id old 3 [0, 1, 1] 2 15707\n",
      "unique_id old 3 [0, 1, 1] 2 15708\n"
     ]
    },
    {
     "name": "stderr",
     "output_type": "stream",
     "text": [
      "0: 192x320 1 car, 56.0ms\n",
      "Speed: 2.0ms preprocess, 56.0ms inference, 6.0ms postprocess per image at shape (1, 3, 192, 320)\n",
      "\n",
      "0: 192x320 1 car, 40.0ms\n",
      "Speed: 1.0ms preprocess, 40.0ms inference, 2.0ms postprocess per image at shape (1, 3, 192, 320)\n",
      "\n",
      "0: 192x320 1 car, 45.0ms\n",
      "Speed: 1.9ms preprocess, 45.0ms inference, 2.0ms postprocess per image at shape (1, 3, 192, 320)\n"
     ]
    },
    {
     "name": "stdout",
     "output_type": "stream",
     "text": [
      "unique_id old 3 [0, 1, 1] 2 15709\n",
      "unique_id old 3 [0, 1, 1] 2 15710\n",
      "unique_id old 3 [0, 1, 1] 2 15711\n"
     ]
    },
    {
     "name": "stderr",
     "output_type": "stream",
     "text": [
      "\n",
      "0: 192x320 1 car, 43.1ms\n",
      "Speed: 2.0ms preprocess, 43.1ms inference, 4.2ms postprocess per image at shape (1, 3, 192, 320)\n",
      "\n",
      "0: 192x320 1 car, 59.8ms\n",
      "Speed: 2.2ms preprocess, 59.8ms inference, 6.0ms postprocess per image at shape (1, 3, 192, 320)\n",
      "\n",
      "0: 192x320 1 car, 41.0ms\n"
     ]
    },
    {
     "name": "stdout",
     "output_type": "stream",
     "text": [
      "unique_id old 3 [0, 1, 1] 2 15712\n",
      "unique_id old 3 [0, 1, 1] 2 15713\n"
     ]
    },
    {
     "name": "stderr",
     "output_type": "stream",
     "text": [
      "Speed: 2.0ms preprocess, 41.0ms inference, 3.0ms postprocess per image at shape (1, 3, 192, 320)\n",
      "\n",
      "0: 192x320 1 car, 68.5ms\n",
      "Speed: 3.0ms preprocess, 68.5ms inference, 6.0ms postprocess per image at shape (1, 3, 192, 320)\n",
      "\n"
     ]
    },
    {
     "name": "stdout",
     "output_type": "stream",
     "text": [
      "unique_id old 3 [0, 1, 1] 2 15714\n",
      "unique_id old 3 [0, 1, 1] 2 15715\n"
     ]
    },
    {
     "name": "stderr",
     "output_type": "stream",
     "text": [
      "0: 192x320 1 car, 48.2ms\n",
      "Speed: 1.0ms preprocess, 48.2ms inference, 5.0ms postprocess per image at shape (1, 3, 192, 320)\n",
      "\n",
      "0: 192x320 1 car, 52.3ms\n",
      "Speed: 1.4ms preprocess, 52.3ms inference, 2.0ms postprocess per image at shape (1, 3, 192, 320)\n",
      "\n",
      "0: 192x320 1 car, 53.4ms\n"
     ]
    },
    {
     "name": "stdout",
     "output_type": "stream",
     "text": [
      "unique_id old 3 [0, 1, 1] 2 15716\n",
      "unique_id old 3 [0, 1, 1] 2 15717\n"
     ]
    },
    {
     "name": "stderr",
     "output_type": "stream",
     "text": [
      "Speed: 2.1ms preprocess, 53.4ms inference, 3.0ms postprocess per image at shape (1, 3, 192, 320)\n",
      "\n",
      "0: 192x320 1 car, 48.4ms\n",
      "Speed: 2.0ms preprocess, 48.4ms inference, 3.0ms postprocess per image at shape (1, 3, 192, 320)\n",
      "\n",
      "0: 192x320 1 car, 52.6ms\n"
     ]
    },
    {
     "name": "stdout",
     "output_type": "stream",
     "text": [
      "unique_id old 3 [0, 1, 1] 2 15718\n",
      "unique_id old 3 [0, 1, 1] 2 15719\n"
     ]
    },
    {
     "name": "stderr",
     "output_type": "stream",
     "text": [
      "Speed: 2.0ms preprocess, 52.6ms inference, 5.0ms postprocess per image at shape (1, 3, 192, 320)\n",
      "\n",
      "0: 192x320 1 car, 54.5ms\n",
      "Speed: 2.0ms preprocess, 54.5ms inference, 4.0ms postprocess per image at shape (1, 3, 192, 320)\n",
      "\n",
      "0: 192x320 1 car, 42.8ms\n"
     ]
    },
    {
     "name": "stdout",
     "output_type": "stream",
     "text": [
      "unique_id old 3 [0, 1, 1] 2 15720\n",
      "unique_id old 3 [0, 1, 1] 2 15721\n"
     ]
    },
    {
     "name": "stderr",
     "output_type": "stream",
     "text": [
      "Speed: 2.0ms preprocess, 42.8ms inference, 2.9ms postprocess per image at shape (1, 3, 192, 320)\n",
      "\n",
      "0: 192x320 1 car, 49.4ms\n",
      "Speed: 2.0ms preprocess, 49.4ms inference, 2.9ms postprocess per image at shape (1, 3, 192, 320)\n",
      "\n",
      "0: 192x320 1 car, 47.7ms\n"
     ]
    },
    {
     "name": "stdout",
     "output_type": "stream",
     "text": [
      "unique_id old 3 [0, 1, 1] 2 15722\n",
      "unique_id old 3 [0, 1, 1] 2 15723\n"
     ]
    },
    {
     "name": "stderr",
     "output_type": "stream",
     "text": [
      "Speed: 1.0ms preprocess, 47.7ms inference, 3.0ms postprocess per image at shape (1, 3, 192, 320)\n",
      "\n",
      "0: 192x320 1 car, 59.5ms\n",
      "Speed: 2.0ms preprocess, 59.5ms inference, 7.0ms postprocess per image at shape (1, 3, 192, 320)\n",
      "\n"
     ]
    },
    {
     "name": "stdout",
     "output_type": "stream",
     "text": [
      "unique_id old 3 [0, 1, 1] 2 15724\n",
      "unique_id old 3 [0, 1, 1] 2 15725\n"
     ]
    },
    {
     "name": "stderr",
     "output_type": "stream",
     "text": [
      "0: 192x320 1 car, 44.0ms\n",
      "Speed: 2.9ms preprocess, 44.0ms inference, 2.0ms postprocess per image at shape (1, 3, 192, 320)\n",
      "\n",
      "0: 192x320 1 car, 58.4ms\n",
      "Speed: 1.5ms preprocess, 58.4ms inference, 4.0ms postprocess per image at shape (1, 3, 192, 320)\n",
      "\n"
     ]
    },
    {
     "name": "stdout",
     "output_type": "stream",
     "text": [
      "unique_id old 3 [0, 1, 1] 2 15726\n",
      "unique_id old 3 [0, 1, 1] 2 15727\n"
     ]
    },
    {
     "name": "stderr",
     "output_type": "stream",
     "text": [
      "0: 192x320 1 car, 49.9ms\n",
      "Speed: 2.0ms preprocess, 49.9ms inference, 3.0ms postprocess per image at shape (1, 3, 192, 320)\n",
      "\n",
      "0: 192x320 1 car, 63.6ms\n",
      "Speed: 2.0ms preprocess, 63.6ms inference, 5.0ms postprocess per image at shape (1, 3, 192, 320)\n",
      "\n"
     ]
    },
    {
     "name": "stdout",
     "output_type": "stream",
     "text": [
      "unique_id old 3 [0, 1, 1] 2 15728\n",
      "unique_id old 3 [0, 1, 1] 2 15729\n"
     ]
    },
    {
     "name": "stderr",
     "output_type": "stream",
     "text": [
      "0: 192x320 1 car, 41.0ms\n",
      "Speed: 1.6ms preprocess, 41.0ms inference, 3.0ms postprocess per image at shape (1, 3, 192, 320)\n",
      "\n",
      "0: 192x320 1 car, 43.9ms\n",
      "Speed: 1.1ms preprocess, 43.9ms inference, 4.0ms postprocess per image at shape (1, 3, 192, 320)\n",
      "\n"
     ]
    },
    {
     "name": "stdout",
     "output_type": "stream",
     "text": [
      "unique_id old 3 [0, 1, 1] 2 15730\n",
      "unique_id old 3 [0, 1, 1] 2 15731\n"
     ]
    },
    {
     "name": "stderr",
     "output_type": "stream",
     "text": [
      "0: 192x320 1 car, 47.6ms\n",
      "Speed: 1.0ms preprocess, 47.6ms inference, 2.0ms postprocess per image at shape (1, 3, 192, 320)\n",
      "\n",
      "0: 192x320 1 car, 52.6ms\n",
      "Speed: 2.0ms preprocess, 52.6ms inference, 3.0ms postprocess per image at shape (1, 3, 192, 320)\n",
      "\n"
     ]
    },
    {
     "name": "stdout",
     "output_type": "stream",
     "text": [
      "unique_id old 3 [0, 1, 1] 2 15732\n",
      "unique_id old 3 [0, 1, 1] 2 15733\n"
     ]
    },
    {
     "name": "stderr",
     "output_type": "stream",
     "text": [
      "0: 192x320 1 car, 52.2ms\n",
      "Speed: 1.0ms preprocess, 52.2ms inference, 4.0ms postprocess per image at shape (1, 3, 192, 320)\n",
      "\n",
      "0: 192x320 1 car, 43.0ms\n",
      "Speed: 2.0ms preprocess, 43.0ms inference, 3.0ms postprocess per image at shape (1, 3, 192, 320)\n",
      "\n"
     ]
    },
    {
     "name": "stdout",
     "output_type": "stream",
     "text": [
      "unique_id old 3 [0, 1, 1] 2 15734\n",
      "unique_id old 3 [0, 1, 1] 2 15735\n"
     ]
    },
    {
     "name": "stderr",
     "output_type": "stream",
     "text": [
      "0: 192x320 1 car, 46.5ms\n",
      "Speed: 3.0ms preprocess, 46.5ms inference, 3.0ms postprocess per image at shape (1, 3, 192, 320)\n",
      "\n",
      "0: 192x320 1 car, 51.1ms\n",
      "Speed: 2.5ms preprocess, 51.1ms inference, 2.0ms postprocess per image at shape (1, 3, 192, 320)\n",
      "\n"
     ]
    },
    {
     "name": "stdout",
     "output_type": "stream",
     "text": [
      "unique_id old 3 [0, 1, 1] 2 15736\n",
      "unique_id old 3 [0, 1, 1] 2 15737\n"
     ]
    },
    {
     "name": "stderr",
     "output_type": "stream",
     "text": [
      "0: 192x320 1 car, 49.5ms\n",
      "Speed: 3.0ms preprocess, 49.5ms inference, 3.0ms postprocess per image at shape (1, 3, 192, 320)\n",
      "\n",
      "0: 192x320 1 car, 58.8ms\n",
      "Speed: 2.0ms preprocess, 58.8ms inference, 5.4ms postprocess per image at shape (1, 3, 192, 320)\n",
      "\n"
     ]
    },
    {
     "name": "stdout",
     "output_type": "stream",
     "text": [
      "unique_id old 3 [0, 1, 1] 2 15738\n",
      "unique_id old 3 [0, 1, 1] 2 15739\n"
     ]
    },
    {
     "name": "stderr",
     "output_type": "stream",
     "text": [
      "0: 192x320 1 car, 63.1ms\n",
      "Speed: 1.9ms preprocess, 63.1ms inference, 5.0ms postprocess per image at shape (1, 3, 192, 320)\n",
      "\n",
      "0: 192x320 1 car, 43.6ms\n",
      "Speed: 1.9ms preprocess, 43.6ms inference, 4.0ms postprocess per image at shape (1, 3, 192, 320)\n",
      "\n"
     ]
    },
    {
     "name": "stdout",
     "output_type": "stream",
     "text": [
      "unique_id old 3 [0, 1, 1] 2 15740\n",
      "unique_id old 3 [0, 1, 1] 2 15741\n"
     ]
    },
    {
     "name": "stderr",
     "output_type": "stream",
     "text": [
      "0: 192x320 1 car, 48.4ms\n",
      "Speed: 1.9ms preprocess, 48.4ms inference, 3.0ms postprocess per image at shape (1, 3, 192, 320)\n",
      "\n",
      "0: 192x320 1 car, 40.7ms\n",
      "Speed: 0.9ms preprocess, 40.7ms inference, 2.0ms postprocess per image at shape (1, 3, 192, 320)\n",
      "\n",
      "0: 192x320 1 car, 47.2ms\n"
     ]
    },
    {
     "name": "stdout",
     "output_type": "stream",
     "text": [
      "unique_id old 3 [0, 1, 1] 2 15742\n",
      "unique_id old 3 [0, 1, 1] 2 15743\n"
     ]
    },
    {
     "name": "stderr",
     "output_type": "stream",
     "text": [
      "Speed: 3.0ms preprocess, 47.2ms inference, 4.0ms postprocess per image at shape (1, 3, 192, 320)\n",
      "\n",
      "0: 192x320 1 car, 46.0ms\n",
      "Speed: 1.0ms preprocess, 46.0ms inference, 5.0ms postprocess per image at shape (1, 3, 192, 320)\n",
      "\n",
      "0: 192x320 1 car, 38.0ms\n"
     ]
    },
    {
     "name": "stdout",
     "output_type": "stream",
     "text": [
      "unique_id old 3 [0, 1, 1] 2 15744\n",
      "unique_id old 3 [0, 1, 1] 2 15745\n"
     ]
    },
    {
     "name": "stderr",
     "output_type": "stream",
     "text": [
      "Speed: 1.0ms preprocess, 38.0ms inference, 3.0ms postprocess per image at shape (1, 3, 192, 320)\n",
      "\n",
      "0: 192x320 1 car, 50.0ms\n",
      "Speed: 2.0ms preprocess, 50.0ms inference, 5.0ms postprocess per image at shape (1, 3, 192, 320)\n",
      "\n",
      "0: 192x320 1 car, 41.1ms\n"
     ]
    },
    {
     "name": "stdout",
     "output_type": "stream",
     "text": [
      "unique_id old 3 [0, 1, 1] 2 15746\n",
      "unique_id old 3 [0, 1, 1] 2 15747\n"
     ]
    },
    {
     "name": "stderr",
     "output_type": "stream",
     "text": [
      "Speed: 2.0ms preprocess, 41.1ms inference, 3.0ms postprocess per image at shape (1, 3, 192, 320)\n",
      "\n",
      "0: 192x320 1 car, 47.2ms\n",
      "Speed: 1.3ms preprocess, 47.2ms inference, 2.0ms postprocess per image at shape (1, 3, 192, 320)\n",
      "\n"
     ]
    },
    {
     "name": "stdout",
     "output_type": "stream",
     "text": [
      "unique_id old 3 [0, 1, 1] 2 15748\n",
      "unique_id old 3 [0, 1, 1] 2 15749\n"
     ]
    },
    {
     "name": "stderr",
     "output_type": "stream",
     "text": [
      "0: 192x320 1 car, 55.0ms\n",
      "Speed: 2.0ms preprocess, 55.0ms inference, 6.5ms postprocess per image at shape (1, 3, 192, 320)\n",
      "\n",
      "0: 192x320 1 car, 48.5ms\n",
      "Speed: 2.0ms preprocess, 48.5ms inference, 4.0ms postprocess per image at shape (1, 3, 192, 320)\n",
      "\n"
     ]
    },
    {
     "name": "stdout",
     "output_type": "stream",
     "text": [
      "unique_id old 3 [0, 1, 1] 2 15750\n",
      "unique_id old 3 [0, 1, 1] 2 15751\n"
     ]
    },
    {
     "name": "stderr",
     "output_type": "stream",
     "text": [
      "0: 192x320 1 car, 59.8ms\n",
      "Speed: 2.0ms preprocess, 59.8ms inference, 5.0ms postprocess per image at shape (1, 3, 192, 320)\n",
      "\n",
      "0: 192x320 1 car, 47.5ms\n",
      "Speed: 0.9ms preprocess, 47.5ms inference, 3.0ms postprocess per image at shape (1, 3, 192, 320)\n",
      "\n",
      "0: 192x320 1 car, 43.7ms\n",
      "Speed: 1.0ms preprocess, 43.7ms inference, 3.0ms postprocess per image at shape (1, 3, 192, 320)\n",
      "\n"
     ]
    },
    {
     "name": "stdout",
     "output_type": "stream",
     "text": [
      "unique_id old 3 [0, 1, 1] 2 15752\n",
      "unique_id old 3 [0, 1, 1] 2 15753\n",
      "unique_id old 3 [0, 1, 1] 2 15754\n"
     ]
    },
    {
     "name": "stderr",
     "output_type": "stream",
     "text": [
      "0: 192x320 1 car, 43.5ms\n",
      "Speed: 2.9ms preprocess, 43.5ms inference, 6.0ms postprocess per image at shape (1, 3, 192, 320)\n",
      "\n",
      "0: 192x320 1 car, 51.5ms\n",
      "Speed: 2.0ms preprocess, 51.5ms inference, 2.0ms postprocess per image at shape (1, 3, 192, 320)\n",
      "\n",
      "0: 192x320 1 car, 43.1ms\n",
      "Speed: 1.0ms preprocess, 43.1ms inference, 2.0ms postprocess per image at shape (1, 3, 192, 320)\n",
      "\n"
     ]
    },
    {
     "name": "stdout",
     "output_type": "stream",
     "text": [
      "unique_id old 3 [0, 1, 1] 2 15755\n",
      "unique_id old 3 [0, 1, 1] 2 15756\n",
      "unique_id old 3 [0, 1, 1] 2 15757\n"
     ]
    },
    {
     "name": "stderr",
     "output_type": "stream",
     "text": [
      "0: 192x320 1 car, 42.5ms\n",
      "Speed: 2.0ms preprocess, 42.5ms inference, 2.0ms postprocess per image at shape (1, 3, 192, 320)\n",
      "\n",
      "0: 192x320 1 car, 40.2ms\n",
      "Speed: 2.5ms preprocess, 40.2ms inference, 3.0ms postprocess per image at shape (1, 3, 192, 320)\n",
      "\n",
      "0: 192x320 1 car, 53.4ms\n"
     ]
    },
    {
     "name": "stdout",
     "output_type": "stream",
     "text": [
      "unique_id old 3 [0, 1, 1] 2 15758\n",
      "unique_id old 3 [0, 1, 1] 2 15759\n"
     ]
    },
    {
     "name": "stderr",
     "output_type": "stream",
     "text": [
      "Speed: 2.1ms preprocess, 53.4ms inference, 3.0ms postprocess per image at shape (1, 3, 192, 320)\n",
      "\n",
      "0: 192x320 1 car, 38.0ms\n",
      "Speed: 1.0ms preprocess, 38.0ms inference, 3.0ms postprocess per image at shape (1, 3, 192, 320)\n",
      "\n",
      "0: 192x320 1 car, 45.0ms\n",
      "Speed: 2.0ms preprocess, 45.0ms inference, 3.0ms postprocess per image at shape (1, 3, 192, 320)\n",
      "\n"
     ]
    },
    {
     "name": "stdout",
     "output_type": "stream",
     "text": [
      "unique_id old 3 [0, 1, 1] 2 15760\n",
      "unique_id old 3 [0, 1, 1] 2 15761\n",
      "unique_id old 3 [0, 1, 1] 2 15762\n"
     ]
    },
    {
     "name": "stderr",
     "output_type": "stream",
     "text": [
      "0: 192x320 1 car, 42.2ms\n",
      "Speed: 0.9ms preprocess, 42.2ms inference, 5.0ms postprocess per image at shape (1, 3, 192, 320)\n",
      "\n",
      "0: 192x320 1 car, 51.0ms\n",
      "Speed: 2.9ms preprocess, 51.0ms inference, 3.0ms postprocess per image at shape (1, 3, 192, 320)\n",
      "\n",
      "0: 192x320 1 car, 40.0ms\n"
     ]
    },
    {
     "name": "stdout",
     "output_type": "stream",
     "text": [
      "unique_id old 3 [0, 1, 1] 2 15763\n",
      "unique_id old 3 [0, 1, 1] 2 15764\n"
     ]
    },
    {
     "name": "stderr",
     "output_type": "stream",
     "text": [
      "Speed: 1.0ms preprocess, 40.0ms inference, 11.0ms postprocess per image at shape (1, 3, 192, 320)\n",
      "\n",
      "0: 192x320 1 car, 47.1ms\n",
      "Speed: 2.0ms preprocess, 47.1ms inference, 3.0ms postprocess per image at shape (1, 3, 192, 320)\n",
      "\n",
      "0: 192x320 1 car, 43.0ms\n",
      "Speed: 1.0ms preprocess, 43.0ms inference, 3.0ms postprocess per image at shape (1, 3, 192, 320)\n",
      "\n"
     ]
    },
    {
     "name": "stdout",
     "output_type": "stream",
     "text": [
      "unique_id old 3 [0, 1, 1] 2 15765\n",
      "unique_id old 3 [0, 1, 1] 2 15766\n",
      "unique_id old 3 [0, 1, 1] 2 15767\n"
     ]
    },
    {
     "name": "stderr",
     "output_type": "stream",
     "text": [
      "0: 192x320 1 car, 49.0ms\n",
      "Speed: 2.0ms preprocess, 49.0ms inference, 2.0ms postprocess per image at shape (1, 3, 192, 320)\n",
      "\n",
      "0: 192x320 1 car, 51.0ms\n",
      "Speed: 1.0ms preprocess, 51.0ms inference, 3.0ms postprocess per image at shape (1, 3, 192, 320)\n",
      "\n",
      "0: 192x320 1 car, 53.0ms\n"
     ]
    },
    {
     "name": "stdout",
     "output_type": "stream",
     "text": [
      "unique_id old 3 [0, 1, 1] 2 15768\n",
      "unique_id old 3 [0, 1, 1] 2 15769\n"
     ]
    },
    {
     "name": "stderr",
     "output_type": "stream",
     "text": [
      "Speed: 1.0ms preprocess, 53.0ms inference, 3.0ms postprocess per image at shape (1, 3, 192, 320)\n",
      "\n",
      "0: 192x320 1 car, 45.9ms\n",
      "Speed: 1.1ms preprocess, 45.9ms inference, 3.0ms postprocess per image at shape (1, 3, 192, 320)\n",
      "\n",
      "0: 192x320 1 car, 38.2ms\n",
      "Speed: 1.1ms preprocess, 38.2ms inference, 2.0ms postprocess per image at shape (1, 3, 192, 320)\n",
      "\n"
     ]
    },
    {
     "name": "stdout",
     "output_type": "stream",
     "text": [
      "unique_id old 3 [0, 1, 1] 2 15770\n",
      "unique_id old 3 [0, 1, 1] 2 15771\n",
      "unique_id old 3 [0, 1, 1] 2 15772\n"
     ]
    },
    {
     "name": "stderr",
     "output_type": "stream",
     "text": [
      "0: 192x320 1 car, 43.6ms\n",
      "Speed: 1.0ms preprocess, 43.6ms inference, 3.0ms postprocess per image at shape (1, 3, 192, 320)\n",
      "\n",
      "0: 192x320 1 car, 55.5ms\n",
      "Speed: 2.0ms preprocess, 55.5ms inference, 5.0ms postprocess per image at shape (1, 3, 192, 320)\n",
      "\n",
      "0: 192x320 1 car, 39.5ms\n"
     ]
    },
    {
     "name": "stdout",
     "output_type": "stream",
     "text": [
      "unique_id old 3 [0, 1, 1] 2 15773\n",
      "unique_id old 3 [0, 1, 1] 2 15774\n"
     ]
    },
    {
     "name": "stderr",
     "output_type": "stream",
     "text": [
      "Speed: 1.0ms preprocess, 39.5ms inference, 5.0ms postprocess per image at shape (1, 3, 192, 320)\n",
      "\n",
      "0: 192x320 1 car, 49.5ms\n",
      "Speed: 2.0ms preprocess, 49.5ms inference, 2.0ms postprocess per image at shape (1, 3, 192, 320)\n",
      "\n"
     ]
    },
    {
     "name": "stdout",
     "output_type": "stream",
     "text": [
      "unique_id old 3 [0, 1, 1] 2 15775\n",
      "unique_id old 3 [0, 1, 1] 2 15776\n"
     ]
    },
    {
     "name": "stderr",
     "output_type": "stream",
     "text": [
      "0: 192x320 1 car, 53.4ms\n",
      "Speed: 1.9ms preprocess, 53.4ms inference, 5.0ms postprocess per image at shape (1, 3, 192, 320)\n",
      "\n",
      "0: 192x320 1 car, 45.7ms\n",
      "Speed: 2.0ms preprocess, 45.7ms inference, 2.0ms postprocess per image at shape (1, 3, 192, 320)\n",
      "\n",
      "0: 192x320 1 car, 37.5ms\n",
      "Speed: 1.0ms preprocess, 37.5ms inference, 3.0ms postprocess per image at shape (1, 3, 192, 320)\n",
      "\n"
     ]
    },
    {
     "name": "stdout",
     "output_type": "stream",
     "text": [
      "unique_id old 3 [0, 1, 1] 2 15777\n",
      "unique_id old 3 [0, 1, 1] 2 15778\n",
      "unique_id old 3 [0, 1, 1] 2 15779\n"
     ]
    },
    {
     "name": "stderr",
     "output_type": "stream",
     "text": [
      "0: 192x320 1 car, 39.0ms\n",
      "Speed: 1.0ms preprocess, 39.0ms inference, 2.0ms postprocess per image at shape (1, 3, 192, 320)\n",
      "\n",
      "0: 192x320 1 car, 48.5ms\n",
      "Speed: 1.9ms preprocess, 48.5ms inference, 2.0ms postprocess per image at shape (1, 3, 192, 320)\n",
      "\n",
      "0: 192x320 1 car, 42.5ms\n"
     ]
    },
    {
     "name": "stdout",
     "output_type": "stream",
     "text": [
      "unique_id old 3 [0, 1, 1] 2 15780\n",
      "unique_id old 3 [0, 1, 1] 2 15781\n"
     ]
    },
    {
     "name": "stderr",
     "output_type": "stream",
     "text": [
      "Speed: 2.9ms preprocess, 42.5ms inference, 3.0ms postprocess per image at shape (1, 3, 192, 320)\n",
      "\n",
      "0: 192x320 1 car, 50.5ms\n",
      "Speed: 2.0ms preprocess, 50.5ms inference, 4.0ms postprocess per image at shape (1, 3, 192, 320)\n",
      "\n",
      "0: 192x320 1 car, 44.0ms\n"
     ]
    },
    {
     "name": "stdout",
     "output_type": "stream",
     "text": [
      "unique_id old 3 [0, 1, 1] 2 15782\n",
      "unique_id old 3 [0, 1, 1] 2 15783\n"
     ]
    },
    {
     "name": "stderr",
     "output_type": "stream",
     "text": [
      "Speed: 2.0ms preprocess, 44.0ms inference, 2.0ms postprocess per image at shape (1, 3, 192, 320)\n",
      "\n",
      "0: 192x320 1 car, 39.1ms\n",
      "Speed: 1.0ms preprocess, 39.1ms inference, 2.9ms postprocess per image at shape (1, 3, 192, 320)\n",
      "\n",
      "0: 192x320 1 car, 57.1ms\n"
     ]
    },
    {
     "name": "stdout",
     "output_type": "stream",
     "text": [
      "unique_id old 3 [0, 1, 1] 2 15784\n",
      "unique_id old 3 [0, 1, 1] 2 15785\n"
     ]
    },
    {
     "name": "stderr",
     "output_type": "stream",
     "text": [
      "Speed: 2.0ms preprocess, 57.1ms inference, 5.0ms postprocess per image at shape (1, 3, 192, 320)\n",
      "\n",
      "0: 192x320 1 car, 47.7ms\n",
      "Speed: 1.5ms preprocess, 47.7ms inference, 2.0ms postprocess per image at shape (1, 3, 192, 320)\n",
      "\n",
      "0: 192x320 1 car, 49.0ms\n"
     ]
    },
    {
     "name": "stdout",
     "output_type": "stream",
     "text": [
      "unique_id old 3 [0, 1, 1] 2 15786\n",
      "unique_id old 3 [0, 1, 1] 2 15787\n"
     ]
    },
    {
     "name": "stderr",
     "output_type": "stream",
     "text": [
      "Speed: 1.9ms preprocess, 49.0ms inference, 3.5ms postprocess per image at shape (1, 3, 192, 320)\n",
      "\n",
      "0: 192x320 1 car, 58.7ms\n",
      "Speed: 2.0ms preprocess, 58.7ms inference, 6.0ms postprocess per image at shape (1, 3, 192, 320)\n",
      "\n",
      "0: 192x320 1 car, 39.8ms\n"
     ]
    },
    {
     "name": "stdout",
     "output_type": "stream",
     "text": [
      "unique_id old 3 [0, 1, 1] 2 15788\n",
      "unique_id old 3 [0, 1, 1] 2 15789\n"
     ]
    },
    {
     "name": "stderr",
     "output_type": "stream",
     "text": [
      "Speed: 1.0ms preprocess, 39.8ms inference, 4.1ms postprocess per image at shape (1, 3, 192, 320)\n",
      "\n",
      "0: 192x320 1 car, 55.5ms\n",
      "Speed: 2.0ms preprocess, 55.5ms inference, 3.0ms postprocess per image at shape (1, 3, 192, 320)\n",
      "\n"
     ]
    },
    {
     "name": "stdout",
     "output_type": "stream",
     "text": [
      "unique_id old 3 [0, 1, 1] 2 15790\n",
      "unique_id old 3 [0, 1, 1] 2 15791\n"
     ]
    },
    {
     "name": "stderr",
     "output_type": "stream",
     "text": [
      "0: 192x320 1 car, 40.0ms\n",
      "Speed: 0.7ms preprocess, 40.0ms inference, 3.0ms postprocess per image at shape (1, 3, 192, 320)\n",
      "\n",
      "0: 192x320 1 car, 40.0ms\n",
      "Speed: 1.0ms preprocess, 40.0ms inference, 3.0ms postprocess per image at shape (1, 3, 192, 320)\n",
      "\n",
      "0: 192x320 1 car, 39.0ms\n",
      "Speed: 1.0ms preprocess, 39.0ms inference, 3.0ms postprocess per image at shape (1, 3, 192, 320)\n",
      "\n"
     ]
    },
    {
     "name": "stdout",
     "output_type": "stream",
     "text": [
      "unique_id old 3 [0, 1, 1] 2 15792\n",
      "unique_id old 3 [0, 1, 1] 2 15793\n",
      "unique_id old 3 [0, 1, 1] 2 15794\n"
     ]
    },
    {
     "name": "stderr",
     "output_type": "stream",
     "text": [
      "0: 192x320 1 car, 64.2ms\n",
      "Speed: 2.7ms preprocess, 64.2ms inference, 4.9ms postprocess per image at shape (1, 3, 192, 320)\n",
      "\n",
      "0: 192x320 1 car, 57.2ms\n",
      "Speed: 2.0ms preprocess, 57.2ms inference, 5.0ms postprocess per image at shape (1, 3, 192, 320)\n",
      "\n"
     ]
    },
    {
     "name": "stdout",
     "output_type": "stream",
     "text": [
      "unique_id old 3 [0, 1, 1] 2 15795\n",
      "unique_id old 3 [0, 1, 1] 2 15796\n"
     ]
    },
    {
     "name": "stderr",
     "output_type": "stream",
     "text": [
      "0: 192x320 1 car, 55.6ms\n",
      "Speed: 1.6ms preprocess, 55.6ms inference, 5.0ms postprocess per image at shape (1, 3, 192, 320)\n",
      "\n",
      "0: 192x320 1 car, 41.5ms\n",
      "Speed: 2.1ms preprocess, 41.5ms inference, 3.0ms postprocess per image at shape (1, 3, 192, 320)\n",
      "\n"
     ]
    },
    {
     "name": "stdout",
     "output_type": "stream",
     "text": [
      "unique_id old 3 [0, 1, 1] 2 15797\n",
      "unique_id old 3 [0, 1, 1] 2 15798\n"
     ]
    },
    {
     "name": "stderr",
     "output_type": "stream",
     "text": [
      "0: 192x320 1 car, 63.6ms\n",
      "Speed: 1.9ms preprocess, 63.6ms inference, 3.0ms postprocess per image at shape (1, 3, 192, 320)\n",
      "\n",
      "0: 192x320 1 car, 49.4ms\n",
      "Speed: 4.0ms preprocess, 49.4ms inference, 3.0ms postprocess per image at shape (1, 3, 192, 320)\n",
      "\n"
     ]
    },
    {
     "name": "stdout",
     "output_type": "stream",
     "text": [
      "unique_id old 3 [0, 1, 1] 2 15799\n",
      "unique_id old 3 [0, 1, 1] 2 15800\n",
      "unique_id old 3 25 [0, 1, 1] 2 15800\n"
     ]
    },
    {
     "name": "stderr",
     "output_type": "stream",
     "text": [
      "0: 192x320 1 car, 56.0ms\n",
      "Speed: 2.0ms preprocess, 56.0ms inference, 3.0ms postprocess per image at shape (1, 3, 192, 320)\n",
      "\n",
      "0: 192x320 1 car, 39.6ms\n",
      "Speed: 1.9ms preprocess, 39.6ms inference, 3.0ms postprocess per image at shape (1, 3, 192, 320)\n",
      "\n",
      "0: 192x320 1 car, 53.0ms\n"
     ]
    },
    {
     "name": "stdout",
     "output_type": "stream",
     "text": [
      "unique_id old 3 [0, 1, 1] 2 15801\n",
      "unique_id old 3 [0, 1, 1] 2 15802\n"
     ]
    },
    {
     "name": "stderr",
     "output_type": "stream",
     "text": [
      "Speed: 2.0ms preprocess, 53.0ms inference, 2.0ms postprocess per image at shape (1, 3, 192, 320)\n",
      "\n",
      "0: 192x320 1 car, 50.0ms\n",
      "Speed: 2.0ms preprocess, 50.0ms inference, 3.0ms postprocess per image at shape (1, 3, 192, 320)\n",
      "\n",
      "0: 192x320 1 car, 51.0ms\n"
     ]
    },
    {
     "name": "stdout",
     "output_type": "stream",
     "text": [
      "unique_id old 3 [0, 1, 1] 2 15803\n",
      "unique_id old 3 [0, 1, 1] 2 15804\n"
     ]
    },
    {
     "name": "stderr",
     "output_type": "stream",
     "text": [
      "Speed: 2.0ms preprocess, 51.0ms inference, 3.1ms postprocess per image at shape (1, 3, 192, 320)\n",
      "\n",
      "0: 192x320 1 car, 51.0ms\n",
      "Speed: 2.0ms preprocess, 51.0ms inference, 3.0ms postprocess per image at shape (1, 3, 192, 320)\n",
      "\n",
      "0: 192x320 1 car, 52.0ms\n"
     ]
    },
    {
     "name": "stdout",
     "output_type": "stream",
     "text": [
      "unique_id old 3 [0, 1, 1] 2 15805\n",
      "unique_id old 3 [0, 1, 1] 2 15806\n"
     ]
    },
    {
     "name": "stderr",
     "output_type": "stream",
     "text": [
      "Speed: 2.0ms preprocess, 52.0ms inference, 2.0ms postprocess per image at shape (1, 3, 192, 320)\n",
      "\n",
      "0: 192x320 1 car, 40.0ms\n",
      "Speed: 1.0ms preprocess, 40.0ms inference, 2.0ms postprocess per image at shape (1, 3, 192, 320)\n",
      "\n",
      "0: 192x320 1 car, 42.0ms\n",
      "Speed: 1.0ms preprocess, 42.0ms inference, 4.0ms postprocess per image at shape (1, 3, 192, 320)\n",
      "\n"
     ]
    },
    {
     "name": "stdout",
     "output_type": "stream",
     "text": [
      "unique_id old 3 [0, 1, 1] 2 15807\n",
      "unique_id old 3 [0, 1, 1] 2 15808\n",
      "unique_id old 3 [0, 1, 1] 2 15809\n"
     ]
    },
    {
     "name": "stderr",
     "output_type": "stream",
     "text": [
      "0: 192x320 1 car, 46.0ms\n",
      "Speed: 3.0ms preprocess, 46.0ms inference, 2.0ms postprocess per image at shape (1, 3, 192, 320)\n",
      "\n",
      "0: 192x320 1 car, 48.5ms\n",
      "Speed: 2.0ms preprocess, 48.5ms inference, 3.0ms postprocess per image at shape (1, 3, 192, 320)\n",
      "\n",
      "0: 192x320 1 car, 42.0ms\n"
     ]
    },
    {
     "name": "stdout",
     "output_type": "stream",
     "text": [
      "unique_id old 3 [0, 1, 1] 2 15810\n",
      "unique_id old 3 [0, 1, 1] 2 15811\n"
     ]
    },
    {
     "name": "stderr",
     "output_type": "stream",
     "text": [
      "Speed: 1.0ms preprocess, 42.0ms inference, 3.0ms postprocess per image at shape (1, 3, 192, 320)\n",
      "\n",
      "0: 192x320 1 car, 49.2ms\n",
      "Speed: 1.0ms preprocess, 49.2ms inference, 2.0ms postprocess per image at shape (1, 3, 192, 320)\n",
      "\n",
      "0: 192x320 1 car, 48.0ms\n"
     ]
    },
    {
     "name": "stdout",
     "output_type": "stream",
     "text": [
      "unique_id old 3 [0, 1, 1] 2 15812\n",
      "unique_id old 3 [0, 1, 1] 2 15813\n"
     ]
    },
    {
     "name": "stderr",
     "output_type": "stream",
     "text": [
      "Speed: 2.3ms preprocess, 48.0ms inference, 2.0ms postprocess per image at shape (1, 3, 192, 320)\n",
      "\n",
      "0: 192x320 1 car, 39.6ms\n",
      "Speed: 1.0ms preprocess, 39.6ms inference, 7.0ms postprocess per image at shape (1, 3, 192, 320)\n",
      "\n",
      "0: 192x320 1 car, 41.7ms\n"
     ]
    },
    {
     "name": "stdout",
     "output_type": "stream",
     "text": [
      "unique_id old 3 [0, 1, 1] 2 15814\n",
      "unique_id old 3 [0, 1, 1] 2 15815\n"
     ]
    },
    {
     "name": "stderr",
     "output_type": "stream",
     "text": [
      "Speed: 2.0ms preprocess, 41.7ms inference, 3.1ms postprocess per image at shape (1, 3, 192, 320)\n",
      "\n",
      "0: 192x320 1 car, 43.5ms\n",
      "Speed: 1.0ms preprocess, 43.5ms inference, 3.0ms postprocess per image at shape (1, 3, 192, 320)\n",
      "\n",
      "0: 192x320 1 car, 58.7ms\n"
     ]
    },
    {
     "name": "stdout",
     "output_type": "stream",
     "text": [
      "unique_id old 3 [0, 1, 1] 2 15816\n",
      "unique_id old 3 [0, 1, 1] 2 15817\n"
     ]
    },
    {
     "name": "stderr",
     "output_type": "stream",
     "text": [
      "Speed: 1.0ms preprocess, 58.7ms inference, 4.0ms postprocess per image at shape (1, 3, 192, 320)\n",
      "\n",
      "0: 192x320 1 car, 60.6ms\n",
      "Speed: 2.0ms preprocess, 60.6ms inference, 3.0ms postprocess per image at shape (1, 3, 192, 320)\n",
      "\n"
     ]
    },
    {
     "name": "stdout",
     "output_type": "stream",
     "text": [
      "unique_id old 3 [0, 1, 1] 2 15818\n",
      "unique_id old 3 [0, 1, 1] 2 15819\n"
     ]
    },
    {
     "name": "stderr",
     "output_type": "stream",
     "text": [
      "0: 192x320 1 car, 45.1ms\n",
      "Speed: 1.5ms preprocess, 45.1ms inference, 2.0ms postprocess per image at shape (1, 3, 192, 320)\n",
      "\n",
      "0: 192x320 1 car, 46.4ms\n",
      "Speed: 1.0ms preprocess, 46.4ms inference, 2.0ms postprocess per image at shape (1, 3, 192, 320)\n",
      "\n",
      "0: 192x320 1 car, 50.5ms\n",
      "Speed: 2.0ms preprocess, 50.5ms inference, 2.0ms postprocess per image at shape (1, 3, 192, 320)\n"
     ]
    },
    {
     "name": "stdout",
     "output_type": "stream",
     "text": [
      "unique_id old 3 [0, 1, 1] 2 15820\n",
      "unique_id old 3 [0, 1, 1] 2 15821\n",
      "unique_id old 3 [0, 1, 1] 2 15822\n"
     ]
    },
    {
     "name": "stderr",
     "output_type": "stream",
     "text": [
      "\n",
      "0: 192x320 1 car, 40.1ms\n",
      "Speed: 0.9ms preprocess, 40.1ms inference, 2.0ms postprocess per image at shape (1, 3, 192, 320)\n",
      "\n",
      "0: 192x320 1 car, 40.0ms\n",
      "Speed: 2.0ms preprocess, 40.0ms inference, 2.0ms postprocess per image at shape (1, 3, 192, 320)\n",
      "\n",
      "0: 192x320 1 car, 50.5ms\n",
      "Speed: 0.2ms preprocess, 50.5ms inference, 3.0ms postprocess per image at shape (1, 3, 192, 320)\n",
      "\n"
     ]
    },
    {
     "name": "stdout",
     "output_type": "stream",
     "text": [
      "unique_id old 3 [0, 1, 1] 2 15823\n",
      "unique_id old 3 [0, 1, 1] 2 15824\n",
      "unique_id old 3 [0, 1, 1] 2 15825\n"
     ]
    },
    {
     "name": "stderr",
     "output_type": "stream",
     "text": [
      "0: 192x320 1 car, 48.0ms\n",
      "Speed: 0.9ms preprocess, 48.0ms inference, 6.0ms postprocess per image at shape (1, 3, 192, 320)\n",
      "\n",
      "0: 192x320 1 car, 37.9ms\n",
      "Speed: 1.1ms preprocess, 37.9ms inference, 2.0ms postprocess per image at shape (1, 3, 192, 320)\n",
      "\n",
      "0: 192x320 1 car, 37.5ms\n",
      "Speed: 2.0ms preprocess, 37.5ms inference, 3.0ms postprocess per image at shape (1, 3, 192, 320)\n",
      "\n"
     ]
    },
    {
     "name": "stdout",
     "output_type": "stream",
     "text": [
      "unique_id old 3 [0, 1, 1] 2 15826\n",
      "unique_id old 3 [0, 1, 1] 2 15827\n",
      "unique_id old 3 [0, 1, 1] 2 15828\n"
     ]
    },
    {
     "name": "stderr",
     "output_type": "stream",
     "text": [
      "0: 192x320 1 car, 52.5ms\n",
      "Speed: 3.0ms preprocess, 52.5ms inference, 3.0ms postprocess per image at shape (1, 3, 192, 320)\n",
      "\n",
      "0: 192x320 1 car, 38.7ms\n",
      "Speed: 2.1ms preprocess, 38.7ms inference, 2.0ms postprocess per image at shape (1, 3, 192, 320)\n",
      "\n",
      "0: 192x320 1 car, 37.6ms\n",
      "Speed: 1.1ms preprocess, 37.6ms inference, 2.9ms postprocess per image at shape (1, 3, 192, 320)\n",
      "\n"
     ]
    },
    {
     "name": "stdout",
     "output_type": "stream",
     "text": [
      "unique_id old 3 [0, 1, 1] 2 15829\n",
      "unique_id old 3 [0, 1, 1] 2 15830\n",
      "unique_id old 3 [0, 1, 1] 2 15831\n"
     ]
    },
    {
     "name": "stderr",
     "output_type": "stream",
     "text": [
      "0: 192x320 1 car, 39.0ms\n",
      "Speed: 1.0ms preprocess, 39.0ms inference, 2.0ms postprocess per image at shape (1, 3, 192, 320)\n",
      "\n",
      "0: 192x320 1 car, 49.5ms\n",
      "Speed: 2.0ms preprocess, 49.5ms inference, 5.0ms postprocess per image at shape (1, 3, 192, 320)\n",
      "\n"
     ]
    },
    {
     "name": "stdout",
     "output_type": "stream",
     "text": [
      "unique_id old 3 [0, 1, 1] 2 15832\n",
      "unique_id old 3 [0, 1, 1] 2 15833\n"
     ]
    },
    {
     "name": "stderr",
     "output_type": "stream",
     "text": [
      "0: 192x320 1 car, 50.6ms\n",
      "Speed: 2.0ms preprocess, 50.6ms inference, 4.0ms postprocess per image at shape (1, 3, 192, 320)\n",
      "\n",
      "0: 192x320 1 car, 45.1ms\n",
      "Speed: 1.5ms preprocess, 45.1ms inference, 2.0ms postprocess per image at shape (1, 3, 192, 320)\n",
      "\n",
      "0: 192x320 1 car, 40.6ms\n",
      "Speed: 2.0ms preprocess, 40.6ms inference, 3.0ms postprocess per image at shape (1, 3, 192, 320)\n",
      "\n"
     ]
    },
    {
     "name": "stdout",
     "output_type": "stream",
     "text": [
      "unique_id old 3 [0, 1, 1] 2 15834\n",
      "unique_id old 3 [0, 1, 1] 2 15835\n",
      "unique_id old 3 [0, 1, 1] 2 15836\n"
     ]
    },
    {
     "name": "stderr",
     "output_type": "stream",
     "text": [
      "0: 192x320 1 car, 48.5ms\n",
      "Speed: 1.1ms preprocess, 48.5ms inference, 3.0ms postprocess per image at shape (1, 3, 192, 320)\n",
      "\n",
      "0: 192x320 1 car, 38.0ms\n",
      "Speed: 1.0ms preprocess, 38.0ms inference, 2.0ms postprocess per image at shape (1, 3, 192, 320)\n",
      "\n",
      "0: 192x320 1 car, 38.0ms\n",
      "Speed: 2.0ms preprocess, 38.0ms inference, 3.0ms postprocess per image at shape (1, 3, 192, 320)\n",
      "\n"
     ]
    },
    {
     "name": "stdout",
     "output_type": "stream",
     "text": [
      "unique_id old 3 [0, 1, 1] 2 15837\n",
      "unique_id old 3 [0, 1, 1] 2 15838\n",
      "unique_id old 3 [0, 1, 1] 2 15839\n"
     ]
    },
    {
     "name": "stderr",
     "output_type": "stream",
     "text": [
      "0: 192x320 1 car, 50.0ms\n",
      "Speed: 1.0ms preprocess, 50.0ms inference, 3.0ms postprocess per image at shape (1, 3, 192, 320)\n",
      "\n",
      "0: 192x320 1 car, 37.0ms\n",
      "Speed: 2.0ms preprocess, 37.0ms inference, 3.0ms postprocess per image at shape (1, 3, 192, 320)\n",
      "\n",
      "0: 192x320 1 car, 46.0ms\n"
     ]
    },
    {
     "name": "stdout",
     "output_type": "stream",
     "text": [
      "unique_id old 3 [0, 1, 1] 2 15840\n",
      "unique_id old 3 [0, 1, 1] 2 15841\n"
     ]
    },
    {
     "name": "stderr",
     "output_type": "stream",
     "text": [
      "Speed: 2.0ms preprocess, 46.0ms inference, 2.0ms postprocess per image at shape (1, 3, 192, 320)\n",
      "\n",
      "0: 192x320 1 car, 39.5ms\n",
      "Speed: 1.0ms preprocess, 39.5ms inference, 3.0ms postprocess per image at shape (1, 3, 192, 320)\n",
      "\n",
      "0: 192x320 1 car, 39.3ms\n",
      "Speed: 1.0ms preprocess, 39.3ms inference, 3.0ms postprocess per image at shape (1, 3, 192, 320)\n",
      "\n"
     ]
    },
    {
     "name": "stdout",
     "output_type": "stream",
     "text": [
      "unique_id old 3 [0, 1, 1] 2 15842\n",
      "unique_id old 3 [0, 1, 1] 2 15843\n",
      "unique_id old 3 [0, 1, 1] 2 15844\n"
     ]
    },
    {
     "name": "stderr",
     "output_type": "stream",
     "text": [
      "0: 192x320 1 car, 40.0ms\n",
      "Speed: 1.0ms preprocess, 40.0ms inference, 3.0ms postprocess per image at shape (1, 3, 192, 320)\n",
      "\n",
      "0: 192x320 1 car, 39.0ms\n",
      "Speed: 1.0ms preprocess, 39.0ms inference, 4.0ms postprocess per image at shape (1, 3, 192, 320)\n",
      "\n",
      "0: 192x320 1 car, 43.1ms\n",
      "Speed: 1.2ms preprocess, 43.1ms inference, 2.0ms postprocess per image at shape (1, 3, 192, 320)\n",
      "\n"
     ]
    },
    {
     "name": "stdout",
     "output_type": "stream",
     "text": [
      "unique_id old 3 [0, 1, 1] 2 15845\n",
      "unique_id old 3 [0, 1, 1] 2 15846\n",
      "unique_id old 3 [0, 1, 1] 2 15847\n"
     ]
    },
    {
     "name": "stderr",
     "output_type": "stream",
     "text": [
      "0: 192x320 1 car, 41.5ms\n",
      "Speed: 1.0ms preprocess, 41.5ms inference, 3.0ms postprocess per image at shape (1, 3, 192, 320)\n",
      "\n",
      "0: 192x320 1 car, 41.0ms\n",
      "Speed: 1.0ms preprocess, 41.0ms inference, 2.0ms postprocess per image at shape (1, 3, 192, 320)\n",
      "\n",
      "0: 192x320 1 car, 45.0ms\n",
      "Speed: 1.0ms preprocess, 45.0ms inference, 2.0ms postprocess per image at shape (1, 3, 192, 320)\n",
      "\n"
     ]
    },
    {
     "name": "stdout",
     "output_type": "stream",
     "text": [
      "unique_id old 3 [0, 1, 1] 2 15848\n",
      "unique_id old 3 [0, 1, 1] 2 15849\n",
      "unique_id old 3 [0, 1, 1] 2 15850\n"
     ]
    },
    {
     "name": "stderr",
     "output_type": "stream",
     "text": [
      "0: 192x320 1 car, 40.4ms\n",
      "Speed: 1.0ms preprocess, 40.4ms inference, 2.0ms postprocess per image at shape (1, 3, 192, 320)\n",
      "\n",
      "0: 192x320 1 car, 42.5ms\n",
      "Speed: 1.0ms preprocess, 42.5ms inference, 2.0ms postprocess per image at shape (1, 3, 192, 320)\n",
      "\n",
      "0: 192x320 1 car, 44.0ms\n",
      "Speed: 1.0ms preprocess, 44.0ms inference, 1.0ms postprocess per image at shape (1, 3, 192, 320)\n",
      "\n"
     ]
    },
    {
     "name": "stdout",
     "output_type": "stream",
     "text": [
      "unique_id old 3 [0, 1, 1] 2 15851\n",
      "unique_id old 3 [0, 1, 1] 2 15852\n",
      "unique_id old 3 [0, 1, 1] 2 15853\n"
     ]
    },
    {
     "name": "stderr",
     "output_type": "stream",
     "text": [
      "0: 192x320 1 car, 40.0ms\n",
      "Speed: 1.0ms preprocess, 40.0ms inference, 2.0ms postprocess per image at shape (1, 3, 192, 320)\n",
      "\n",
      "0: 192x320 1 car, 41.0ms\n",
      "Speed: 1.1ms preprocess, 41.0ms inference, 3.0ms postprocess per image at shape (1, 3, 192, 320)\n",
      "\n",
      "0: 192x320 1 car, 40.0ms\n",
      "Speed: 2.0ms preprocess, 40.0ms inference, 2.2ms postprocess per image at shape (1, 3, 192, 320)\n",
      "\n"
     ]
    },
    {
     "name": "stdout",
     "output_type": "stream",
     "text": [
      "unique_id old 3 [0, 1, 1] 2 15854\n",
      "unique_id old 3 [0, 1, 1] 2 15855\n",
      "unique_id old 3 [0, 1, 1] 2 15856\n"
     ]
    },
    {
     "name": "stderr",
     "output_type": "stream",
     "text": [
      "0: 192x320 1 car, 40.0ms\n",
      "Speed: 1.0ms preprocess, 40.0ms inference, 1.0ms postprocess per image at shape (1, 3, 192, 320)\n",
      "\n",
      "0: 192x320 1 car, 40.2ms\n",
      "Speed: 1.0ms preprocess, 40.2ms inference, 2.0ms postprocess per image at shape (1, 3, 192, 320)\n",
      "\n",
      "0: 192x320 1 car, 39.5ms\n",
      "Speed: 1.0ms preprocess, 39.5ms inference, 2.0ms postprocess per image at shape (1, 3, 192, 320)\n",
      "\n",
      "0: 192x320 1 car, 40.0ms\n"
     ]
    },
    {
     "name": "stdout",
     "output_type": "stream",
     "text": [
      "unique_id old 3 [0, 1, 1] 2 15857\n",
      "unique_id old 3 [0, 1, 1] 2 15858\n",
      "unique_id old 3 [0, 1, 1] 2 15859\n"
     ]
    },
    {
     "name": "stderr",
     "output_type": "stream",
     "text": [
      "Speed: 1.0ms preprocess, 40.0ms inference, 2.0ms postprocess per image at shape (1, 3, 192, 320)\n",
      "\n",
      "0: 192x320 1 car, 41.0ms\n",
      "Speed: 1.0ms preprocess, 41.0ms inference, 2.0ms postprocess per image at shape (1, 3, 192, 320)\n",
      "\n",
      "0: 192x320 1 car, 37.4ms\n",
      "Speed: 1.0ms preprocess, 37.4ms inference, 2.0ms postprocess per image at shape (1, 3, 192, 320)\n",
      "\n"
     ]
    },
    {
     "name": "stdout",
     "output_type": "stream",
     "text": [
      "unique_id old 3 [0, 1, 1] 2 15860\n",
      "unique_id old 3 [0, 1, 1] 2 15861\n",
      "unique_id old 3 [0, 1, 1] 2 15862\n"
     ]
    },
    {
     "name": "stderr",
     "output_type": "stream",
     "text": [
      "0: 192x320 1 car, 41.0ms\n",
      "Speed: 1.0ms preprocess, 41.0ms inference, 2.0ms postprocess per image at shape (1, 3, 192, 320)\n",
      "\n",
      "0: 192x320 1 car, 39.0ms\n",
      "Speed: 1.0ms preprocess, 39.0ms inference, 3.0ms postprocess per image at shape (1, 3, 192, 320)\n",
      "\n",
      "0: 192x320 1 car, 39.2ms\n",
      "Speed: 1.0ms preprocess, 39.2ms inference, 2.0ms postprocess per image at shape (1, 3, 192, 320)\n",
      "\n"
     ]
    },
    {
     "name": "stdout",
     "output_type": "stream",
     "text": [
      "unique_id old 3 [0, 1, 1] 2 15863\n",
      "unique_id old 3 [0, 1, 1] 2 15864\n",
      "unique_id old 3 [0, 1, 1] 2 15865\n"
     ]
    },
    {
     "name": "stderr",
     "output_type": "stream",
     "text": [
      "0: 192x320 1 car, 41.3ms\n",
      "Speed: 1.0ms preprocess, 41.3ms inference, 1.0ms postprocess per image at shape (1, 3, 192, 320)\n",
      "\n",
      "0: 192x320 1 car, 41.0ms\n",
      "Speed: 1.0ms preprocess, 41.0ms inference, 2.0ms postprocess per image at shape (1, 3, 192, 320)\n",
      "\n",
      "0: 192x320 1 car, 39.0ms\n",
      "Speed: 1.0ms preprocess, 39.0ms inference, 2.0ms postprocess per image at shape (1, 3, 192, 320)\n",
      "\n"
     ]
    },
    {
     "name": "stdout",
     "output_type": "stream",
     "text": [
      "unique_id old 3 [0, 1, 1] 2 15866\n",
      "unique_id old 3 [0, 1, 1] 2 15867\n",
      "unique_id old 3 [0, 1, 1] 2 15868\n"
     ]
    },
    {
     "name": "stderr",
     "output_type": "stream",
     "text": [
      "0: 192x320 1 car, 40.3ms\n",
      "Speed: 1.0ms preprocess, 40.3ms inference, 1.0ms postprocess per image at shape (1, 3, 192, 320)\n",
      "\n",
      "0: 192x320 1 car, 39.0ms\n",
      "Speed: 1.0ms preprocess, 39.0ms inference, 1.0ms postprocess per image at shape (1, 3, 192, 320)\n",
      "\n",
      "0: 192x320 1 car, 40.0ms\n",
      "Speed: 0.0ms preprocess, 40.0ms inference, 2.0ms postprocess per image at shape (1, 3, 192, 320)\n",
      "\n"
     ]
    },
    {
     "name": "stdout",
     "output_type": "stream",
     "text": [
      "unique_id old 3 [0, 1, 1] 2 15869\n",
      "unique_id old 3 [0, 1, 1] 2 15870\n",
      "unique_id old 3 [0, 1, 1] 2 15871\n"
     ]
    },
    {
     "name": "stderr",
     "output_type": "stream",
     "text": [
      "0: 192x320 1 car, 41.5ms\n",
      "Speed: 1.0ms preprocess, 41.5ms inference, 2.0ms postprocess per image at shape (1, 3, 192, 320)\n",
      "\n",
      "0: 192x320 1 car, 39.0ms\n",
      "Speed: 1.0ms preprocess, 39.0ms inference, 2.0ms postprocess per image at shape (1, 3, 192, 320)\n",
      "\n",
      "0: 192x320 1 car, 38.0ms\n",
      "Speed: 1.0ms preprocess, 38.0ms inference, 2.0ms postprocess per image at shape (1, 3, 192, 320)\n",
      "\n"
     ]
    },
    {
     "name": "stdout",
     "output_type": "stream",
     "text": [
      "unique_id old 3 [0, 1, 1] 2 15872\n",
      "unique_id old 3 [0, 1, 1] 2 15873\n",
      "unique_id old 3 [0, 1, 1] 2 15874\n"
     ]
    },
    {
     "name": "stderr",
     "output_type": "stream",
     "text": [
      "0: 192x320 1 car, 43.5ms\n",
      "Speed: 1.0ms preprocess, 43.5ms inference, 2.0ms postprocess per image at shape (1, 3, 192, 320)\n",
      "\n",
      "0: 192x320 1 car, 41.0ms\n",
      "Speed: 0.9ms preprocess, 41.0ms inference, 2.0ms postprocess per image at shape (1, 3, 192, 320)\n",
      "\n",
      "0: 192x320 1 car, 42.0ms\n",
      "Speed: 1.0ms preprocess, 42.0ms inference, 2.0ms postprocess per image at shape (1, 3, 192, 320)\n",
      "\n"
     ]
    },
    {
     "name": "stdout",
     "output_type": "stream",
     "text": [
      "unique_id old 3 [0, 1, 1] 2 15875\n",
      "unique_id old 3 [0, 1, 1] 2 15876\n",
      "unique_id old 3 [0, 1, 1] 2 15877\n"
     ]
    },
    {
     "name": "stderr",
     "output_type": "stream",
     "text": [
      "0: 192x320 1 car, 40.0ms\n",
      "Speed: 1.0ms preprocess, 40.0ms inference, 2.0ms postprocess per image at shape (1, 3, 192, 320)\n",
      "\n",
      "0: 192x320 1 car, 40.5ms\n",
      "Speed: 1.0ms preprocess, 40.5ms inference, 2.0ms postprocess per image at shape (1, 3, 192, 320)\n",
      "\n",
      "0: 192x320 1 car, 40.0ms\n",
      "Speed: 1.0ms preprocess, 40.0ms inference, 3.0ms postprocess per image at shape (1, 3, 192, 320)\n",
      "\n"
     ]
    },
    {
     "name": "stdout",
     "output_type": "stream",
     "text": [
      "unique_id old 3 [0, 1, 1] 2 15878\n",
      "unique_id old 3 [0, 1, 1] 2 15879\n",
      "unique_id old 3 [0, 1, 1] 2 15880\n"
     ]
    },
    {
     "name": "stderr",
     "output_type": "stream",
     "text": [
      "0: 192x320 1 car, 38.0ms\n",
      "Speed: 1.0ms preprocess, 38.0ms inference, 2.0ms postprocess per image at shape (1, 3, 192, 320)\n",
      "\n",
      "0: 192x320 1 car, 41.6ms\n",
      "Speed: 0.9ms preprocess, 41.6ms inference, 2.0ms postprocess per image at shape (1, 3, 192, 320)\n",
      "\n",
      "0: 192x320 1 car, 40.5ms\n",
      "Speed: 1.0ms preprocess, 40.5ms inference, 2.0ms postprocess per image at shape (1, 3, 192, 320)\n",
      "\n"
     ]
    },
    {
     "name": "stdout",
     "output_type": "stream",
     "text": [
      "unique_id old 3 [0, 1, 1] 2 15881\n",
      "unique_id old 3 [0, 1, 1] 2 15882\n",
      "unique_id old 3 [0, 1, 1] 2 15883\n"
     ]
    },
    {
     "name": "stderr",
     "output_type": "stream",
     "text": [
      "0: 192x320 1 car, 40.0ms\n",
      "Speed: 1.0ms preprocess, 40.0ms inference, 2.0ms postprocess per image at shape (1, 3, 192, 320)\n",
      "\n",
      "0: 192x320 1 car, 40.0ms\n",
      "Speed: 1.0ms preprocess, 40.0ms inference, 2.0ms postprocess per image at shape (1, 3, 192, 320)\n",
      "\n",
      "0: 192x320 1 car, 43.5ms\n",
      "Speed: 1.0ms preprocess, 43.5ms inference, 2.0ms postprocess per image at shape (1, 3, 192, 320)\n",
      "\n"
     ]
    },
    {
     "name": "stdout",
     "output_type": "stream",
     "text": [
      "unique_id old 3 [0, 1, 1] 2 15884\n",
      "unique_id old 3 [0, 1, 1] 2 15885\n",
      "unique_id old 3 [0, 1, 1] 2 15886\n"
     ]
    },
    {
     "name": "stderr",
     "output_type": "stream",
     "text": [
      "0: 192x320 1 car, 39.0ms\n",
      "Speed: 1.0ms preprocess, 39.0ms inference, 2.0ms postprocess per image at shape (1, 3, 192, 320)\n",
      "\n",
      "0: 192x320 1 car, 41.0ms\n",
      "Speed: 1.0ms preprocess, 41.0ms inference, 3.0ms postprocess per image at shape (1, 3, 192, 320)\n",
      "\n",
      "0: 192x320 1 car, 39.5ms\n",
      "Speed: 1.0ms preprocess, 39.5ms inference, 2.0ms postprocess per image at shape (1, 3, 192, 320)\n",
      "\n"
     ]
    },
    {
     "name": "stdout",
     "output_type": "stream",
     "text": [
      "unique_id old 3 [0, 1, 1] 2 15887\n",
      "unique_id old 3 [0, 1, 1] 2 15888\n",
      "unique_id old 3 [0, 1, 1] 2 15889\n"
     ]
    },
    {
     "name": "stderr",
     "output_type": "stream",
     "text": [
      "0: 192x320 1 car, 40.6ms\n",
      "Speed: 1.5ms preprocess, 40.6ms inference, 2.0ms postprocess per image at shape (1, 3, 192, 320)\n",
      "\n",
      "0: 192x320 1 car, 44.0ms\n",
      "Speed: 1.0ms preprocess, 44.0ms inference, 2.0ms postprocess per image at shape (1, 3, 192, 320)\n",
      "\n",
      "0: 192x320 1 car, 41.0ms\n",
      "Speed: 1.0ms preprocess, 41.0ms inference, 1.0ms postprocess per image at shape (1, 3, 192, 320)\n",
      "\n"
     ]
    },
    {
     "name": "stdout",
     "output_type": "stream",
     "text": [
      "unique_id old 3 [0, 1, 1] 2 15890\n",
      "unique_id old 3 [0, 1, 1] 2 15891\n",
      "unique_id old 3 [0, 1, 1] 2 15892\n"
     ]
    },
    {
     "name": "stderr",
     "output_type": "stream",
     "text": [
      "0: 192x320 1 car, 39.0ms\n",
      "Speed: 1.0ms preprocess, 39.0ms inference, 1.0ms postprocess per image at shape (1, 3, 192, 320)\n",
      "\n",
      "0: 192x320 1 car, 40.0ms\n",
      "Speed: 0.0ms preprocess, 40.0ms inference, 2.0ms postprocess per image at shape (1, 3, 192, 320)\n",
      "\n",
      "0: 192x320 1 car, 40.0ms\n",
      "Speed: 1.0ms preprocess, 40.0ms inference, 2.0ms postprocess per image at shape (1, 3, 192, 320)\n",
      "\n"
     ]
    },
    {
     "name": "stdout",
     "output_type": "stream",
     "text": [
      "unique_id old 3 [0, 1, 1] 2 15893\n",
      "unique_id old 3 [0, 1, 1] 2 15894\n",
      "unique_id old 3 [0, 1, 1] 2 15895\n"
     ]
    },
    {
     "name": "stderr",
     "output_type": "stream",
     "text": [
      "0: 192x320 1 car, 40.5ms\n",
      "Speed: 1.0ms preprocess, 40.5ms inference, 1.0ms postprocess per image at shape (1, 3, 192, 320)\n",
      "\n",
      "0: 192x320 1 car, 42.0ms\n",
      "Speed: 1.0ms preprocess, 42.0ms inference, 2.0ms postprocess per image at shape (1, 3, 192, 320)\n",
      "\n",
      "0: 192x320 1 car, 39.0ms\n",
      "Speed: 1.0ms preprocess, 39.0ms inference, 2.0ms postprocess per image at shape (1, 3, 192, 320)\n",
      "\n"
     ]
    },
    {
     "name": "stdout",
     "output_type": "stream",
     "text": [
      "unique_id old 3 [0, 1, 1] 2 15896\n",
      "unique_id old 3 [0, 1, 1] 2 15897\n",
      "unique_id old 3 [0, 1, 1] 2 15898\n"
     ]
    },
    {
     "name": "stderr",
     "output_type": "stream",
     "text": [
      "0: 192x320 1 car, 41.0ms\n",
      "Speed: 1.0ms preprocess, 41.0ms inference, 1.0ms postprocess per image at shape (1, 3, 192, 320)\n",
      "\n",
      "0: 192x320 1 car, 39.5ms\n",
      "Speed: 1.0ms preprocess, 39.5ms inference, 2.0ms postprocess per image at shape (1, 3, 192, 320)\n",
      "\n",
      "0: 192x320 1 car, 44.0ms\n",
      "Speed: 1.0ms preprocess, 44.0ms inference, 2.0ms postprocess per image at shape (1, 3, 192, 320)\n",
      "\n",
      "0: 192x320 1 car, 41.0ms\n"
     ]
    },
    {
     "name": "stdout",
     "output_type": "stream",
     "text": [
      "unique_id old 3 [0, 1, 1] 2 15899\n",
      "unique_id old 3 [0, 1, 1] 2 15900\n",
      "unique_id old 3 25 [0, 1, 1] 2 15900\n",
      "unique_id old 3 [0, 1, 1] 2 15901\n"
     ]
    },
    {
     "name": "stderr",
     "output_type": "stream",
     "text": [
      "Speed: 1.0ms preprocess, 41.0ms inference, 3.0ms postprocess per image at shape (1, 3, 192, 320)\n",
      "\n",
      "0: 192x320 1 car, 40.5ms\n",
      "Speed: 1.0ms preprocess, 40.5ms inference, 2.0ms postprocess per image at shape (1, 3, 192, 320)\n",
      "\n",
      "0: 192x320 1 car, 42.0ms\n",
      "Speed: 2.0ms preprocess, 42.0ms inference, 2.0ms postprocess per image at shape (1, 3, 192, 320)\n",
      "\n"
     ]
    },
    {
     "name": "stdout",
     "output_type": "stream",
     "text": [
      "unique_id old 3 [0, 1, 1] 2 15902\n",
      "unique_id old 3 [0, 1, 1] 2 15903\n",
      "unique_id old 3 [0, 1, 1] 2 15904\n"
     ]
    },
    {
     "name": "stderr",
     "output_type": "stream",
     "text": [
      "0: 192x320 1 car, 41.0ms\n",
      "Speed: 1.0ms preprocess, 41.0ms inference, 2.0ms postprocess per image at shape (1, 3, 192, 320)\n",
      "\n",
      "0: 192x320 1 car, 39.0ms\n",
      "Speed: 1.0ms preprocess, 39.0ms inference, 2.0ms postprocess per image at shape (1, 3, 192, 320)\n",
      "\n",
      "0: 192x320 1 car, 40.6ms\n",
      "Speed: 1.0ms preprocess, 40.6ms inference, 2.0ms postprocess per image at shape (1, 3, 192, 320)\n",
      "\n"
     ]
    },
    {
     "name": "stdout",
     "output_type": "stream",
     "text": [
      "unique_id old 3 [0, 1, 1] 2 15905\n",
      "unique_id old 3 [0, 1, 1] 2 15906\n",
      "unique_id old 3 [0, 1, 1] 2 15907\n"
     ]
    },
    {
     "name": "stderr",
     "output_type": "stream",
     "text": [
      "0: 192x320 1 car, 44.8ms\n",
      "Speed: 1.0ms preprocess, 44.8ms inference, 2.1ms postprocess per image at shape (1, 3, 192, 320)\n",
      "\n",
      "0: 192x320 1 car, 38.0ms\n",
      "Speed: 0.0ms preprocess, 38.0ms inference, 1.0ms postprocess per image at shape (1, 3, 192, 320)\n",
      "\n",
      "0: 192x320 1 car, 44.6ms\n",
      "Speed: 0.0ms preprocess, 44.6ms inference, 2.0ms postprocess per image at shape (1, 3, 192, 320)\n",
      "\n"
     ]
    },
    {
     "name": "stdout",
     "output_type": "stream",
     "text": [
      "unique_id old 3 [0, 1, 1] 2 15908\n",
      "unique_id old 3 [0, 1, 1] 2 15909\n",
      "unique_id old 3 [0, 1, 1] 2 15910\n"
     ]
    },
    {
     "name": "stderr",
     "output_type": "stream",
     "text": [
      "0: 192x320 1 car, 39.1ms\n",
      "Speed: 1.1ms preprocess, 39.1ms inference, 2.0ms postprocess per image at shape (1, 3, 192, 320)\n",
      "\n",
      "0: 192x320 1 car, 43.1ms\n",
      "Speed: 1.1ms preprocess, 43.1ms inference, 2.0ms postprocess per image at shape (1, 3, 192, 320)\n",
      "\n",
      "0: 192x320 1 car, 38.1ms\n",
      "Speed: 1.9ms preprocess, 38.1ms inference, 2.0ms postprocess per image at shape (1, 3, 192, 320)\n",
      "\n"
     ]
    },
    {
     "name": "stdout",
     "output_type": "stream",
     "text": [
      "unique_id old 3 [0, 1, 1] 2 15911\n",
      "unique_id old 3 [0, 1, 1] 2 15912\n",
      "unique_id old 3 [0, 1, 1] 2 15913\n"
     ]
    },
    {
     "name": "stderr",
     "output_type": "stream",
     "text": [
      "0: 192x320 1 car, 39.5ms\n",
      "Speed: 1.0ms preprocess, 39.5ms inference, 2.0ms postprocess per image at shape (1, 3, 192, 320)\n",
      "\n",
      "0: 192x320 1 car, 40.6ms\n",
      "Speed: 1.0ms preprocess, 40.6ms inference, 3.0ms postprocess per image at shape (1, 3, 192, 320)\n",
      "\n",
      "0: 192x320 1 car, 42.0ms\n",
      "Speed: 1.0ms preprocess, 42.0ms inference, 2.0ms postprocess per image at shape (1, 3, 192, 320)\n",
      "\n"
     ]
    },
    {
     "name": "stdout",
     "output_type": "stream",
     "text": [
      "unique_id old 3 [0, 1, 1] 2 15914\n",
      "unique_id old 3 [0, 1, 1] 2 15915\n",
      "unique_id old 3 [0, 1, 1] 2 15916\n"
     ]
    },
    {
     "name": "stderr",
     "output_type": "stream",
     "text": [
      "0: 192x320 1 car, 40.0ms\n",
      "Speed: 0.9ms preprocess, 40.0ms inference, 1.0ms postprocess per image at shape (1, 3, 192, 320)\n",
      "\n",
      "0: 192x320 1 car, 37.6ms\n",
      "Speed: 1.0ms preprocess, 37.6ms inference, 2.0ms postprocess per image at shape (1, 3, 192, 320)\n",
      "\n",
      "0: 192x320 1 car, 38.0ms\n",
      "Speed: 1.0ms preprocess, 38.0ms inference, 2.1ms postprocess per image at shape (1, 3, 192, 320)\n",
      "\n",
      "0: 192x320 1 car, 39.0ms\n"
     ]
    },
    {
     "name": "stdout",
     "output_type": "stream",
     "text": [
      "unique_id old 3 [0, 1, 1] 2 15917\n",
      "unique_id old 3 [0, 1, 1] 2 15918\n",
      "unique_id old 3 [0, 1, 1] 2 15919\n"
     ]
    },
    {
     "name": "stderr",
     "output_type": "stream",
     "text": [
      "Speed: 1.0ms preprocess, 39.0ms inference, 2.0ms postprocess per image at shape (1, 3, 192, 320)\n",
      "\n",
      "0: 192x320 1 car, 40.6ms\n",
      "Speed: 1.0ms preprocess, 40.6ms inference, 2.0ms postprocess per image at shape (1, 3, 192, 320)\n",
      "\n",
      "0: 192x320 1 car, 40.1ms\n",
      "Speed: 1.0ms preprocess, 40.1ms inference, 1.9ms postprocess per image at shape (1, 3, 192, 320)\n",
      "\n",
      "0: 192x320 1 car, 39.0ms\n"
     ]
    },
    {
     "name": "stdout",
     "output_type": "stream",
     "text": [
      "unique_id old 3 [0, 1, 1] 2 15920\n",
      "unique_id old 3 [0, 1, 1] 2 15921\n",
      "unique_id old 3 [0, 1, 1] 2 15922\n"
     ]
    },
    {
     "name": "stderr",
     "output_type": "stream",
     "text": [
      "Speed: 1.0ms preprocess, 39.0ms inference, 2.0ms postprocess per image at shape (1, 3, 192, 320)\n",
      "\n",
      "0: 192x320 1 car, 38.5ms\n",
      "Speed: 1.0ms preprocess, 38.5ms inference, 2.0ms postprocess per image at shape (1, 3, 192, 320)\n",
      "\n",
      "0: 192x320 1 car, 41.5ms\n",
      "Speed: 1.0ms preprocess, 41.5ms inference, 2.0ms postprocess per image at shape (1, 3, 192, 320)\n",
      "\n"
     ]
    },
    {
     "name": "stdout",
     "output_type": "stream",
     "text": [
      "unique_id old 3 [0, 1, 1] 2 15923\n",
      "unique_id old 3 [0, 1, 1] 2 15924\n",
      "unique_id old 3 [0, 1, 1] 2 15925\n"
     ]
    },
    {
     "name": "stderr",
     "output_type": "stream",
     "text": [
      "0: 192x320 1 car, 43.1ms\n",
      "Speed: 1.0ms preprocess, 43.1ms inference, 2.0ms postprocess per image at shape (1, 3, 192, 320)\n",
      "\n",
      "0: 192x320 1 car, 41.0ms\n",
      "Speed: 1.0ms preprocess, 41.0ms inference, 2.0ms postprocess per image at shape (1, 3, 192, 320)\n",
      "\n",
      "0: 192x320 1 car, 39.7ms\n",
      "Speed: 0.9ms preprocess, 39.7ms inference, 2.9ms postprocess per image at shape (1, 3, 192, 320)\n",
      "\n"
     ]
    },
    {
     "name": "stdout",
     "output_type": "stream",
     "text": [
      "unique_id old 3 [0, 1, 1] 2 15926\n",
      "unique_id old 3 [0, 1, 1] 2 15927\n",
      "unique_id old 3 [0, 1, 1] 2 15928\n"
     ]
    },
    {
     "name": "stderr",
     "output_type": "stream",
     "text": [
      "0: 192x320 1 car, 40.5ms\n",
      "Speed: 1.0ms preprocess, 40.5ms inference, 2.0ms postprocess per image at shape (1, 3, 192, 320)\n",
      "\n",
      "0: 192x320 1 car, 40.0ms\n",
      "Speed: 1.0ms preprocess, 40.0ms inference, 2.0ms postprocess per image at shape (1, 3, 192, 320)\n",
      "\n",
      "0: 192x320 1 car, 39.0ms\n",
      "Speed: 1.0ms preprocess, 39.0ms inference, 2.0ms postprocess per image at shape (1, 3, 192, 320)\n",
      "\n"
     ]
    },
    {
     "name": "stdout",
     "output_type": "stream",
     "text": [
      "unique_id old 3 [0, 1, 1] 2 15929\n",
      "unique_id old 3 [0, 1, 1] 2 15930\n",
      "unique_id old 3 [0, 1, 1] 2 15931\n"
     ]
    },
    {
     "name": "stderr",
     "output_type": "stream",
     "text": [
      "0: 192x320 1 car, 40.6ms\n",
      "Speed: 1.0ms preprocess, 40.6ms inference, 2.1ms postprocess per image at shape (1, 3, 192, 320)\n",
      "\n",
      "0: 192x320 1 car, 41.0ms\n",
      "Speed: 1.1ms preprocess, 41.0ms inference, 2.0ms postprocess per image at shape (1, 3, 192, 320)\n",
      "\n",
      "0: 192x320 1 car, 38.0ms\n",
      "Speed: 1.0ms preprocess, 38.0ms inference, 2.0ms postprocess per image at shape (1, 3, 192, 320)\n",
      "\n"
     ]
    },
    {
     "name": "stdout",
     "output_type": "stream",
     "text": [
      "unique_id old 3 [0, 1, 1] 2 15932\n",
      "unique_id old 3 [0, 1, 1] 2 15933\n",
      "unique_id old 3 [0, 1, 1] 2 15934\n"
     ]
    },
    {
     "name": "stderr",
     "output_type": "stream",
     "text": [
      "0: 192x320 1 car, 40.5ms\n",
      "Speed: 1.0ms preprocess, 40.5ms inference, 1.9ms postprocess per image at shape (1, 3, 192, 320)\n",
      "\n",
      "0: 192x320 1 car, 40.1ms\n",
      "Speed: 0.9ms preprocess, 40.1ms inference, 1.9ms postprocess per image at shape (1, 3, 192, 320)\n",
      "\n",
      "0: 192x320 1 car, 42.0ms\n",
      "Speed: 1.0ms preprocess, 42.0ms inference, 2.0ms postprocess per image at shape (1, 3, 192, 320)\n",
      "\n"
     ]
    },
    {
     "name": "stdout",
     "output_type": "stream",
     "text": [
      "unique_id old 3 [0, 1, 1] 2 15935\n",
      "unique_id old 3 [0, 1, 1] 2 15936\n",
      "unique_id old 3 [0, 1, 1] 2 15937\n"
     ]
    },
    {
     "name": "stderr",
     "output_type": "stream",
     "text": [
      "0: 192x320 1 car, 41.1ms\n",
      "Speed: 1.0ms preprocess, 41.1ms inference, 1.0ms postprocess per image at shape (1, 3, 192, 320)\n",
      "\n",
      "0: 192x320 1 car, 41.6ms\n",
      "Speed: 1.0ms preprocess, 41.6ms inference, 2.0ms postprocess per image at shape (1, 3, 192, 320)\n",
      "\n",
      "0: 192x320 1 car, 44.3ms\n",
      "Speed: 1.0ms preprocess, 44.3ms inference, 2.0ms postprocess per image at shape (1, 3, 192, 320)\n",
      "\n"
     ]
    },
    {
     "name": "stdout",
     "output_type": "stream",
     "text": [
      "unique_id old 3 [0, 1, 1] 2 15938\n",
      "unique_id old 3 [0, 1, 1] 2 15939\n",
      "unique_id old 3 [0, 1, 1] 2 15940\n"
     ]
    },
    {
     "name": "stderr",
     "output_type": "stream",
     "text": [
      "0: 192x320 1 car, 44.0ms\n",
      "Speed: 1.0ms preprocess, 44.0ms inference, 2.0ms postprocess per image at shape (1, 3, 192, 320)\n",
      "\n",
      "0: 192x320 1 car, 38.9ms\n",
      "Speed: 1.1ms preprocess, 38.9ms inference, 2.0ms postprocess per image at shape (1, 3, 192, 320)\n",
      "\n",
      "0: 192x320 1 car, 42.1ms\n",
      "Speed: 1.0ms preprocess, 42.1ms inference, 3.0ms postprocess per image at shape (1, 3, 192, 320)\n",
      "\n"
     ]
    },
    {
     "name": "stdout",
     "output_type": "stream",
     "text": [
      "unique_id old 3 [0, 1, 1] 2 15941\n",
      "unique_id old 3 [0, 1, 1] 2 15942\n",
      "unique_id old 3 [0, 1, 1] 2 15943\n"
     ]
    },
    {
     "name": "stderr",
     "output_type": "stream",
     "text": [
      "0: 192x320 1 car, 38.9ms\n",
      "Speed: 1.0ms preprocess, 38.9ms inference, 2.0ms postprocess per image at shape (1, 3, 192, 320)\n",
      "\n",
      "0: 192x320 1 car, 40.9ms\n",
      "Speed: 0.0ms preprocess, 40.9ms inference, 2.0ms postprocess per image at shape (1, 3, 192, 320)\n",
      "\n",
      "0: 192x320 1 car, 44.5ms\n",
      "Speed: 1.0ms preprocess, 44.5ms inference, 2.0ms postprocess per image at shape (1, 3, 192, 320)\n",
      "\n"
     ]
    },
    {
     "name": "stdout",
     "output_type": "stream",
     "text": [
      "unique_id old 3 [0, 1, 1] 2 15944\n",
      "unique_id old 3 [0, 1, 1] 2 15945\n",
      "unique_id old 3 [0, 1, 1] 2 15946\n"
     ]
    },
    {
     "name": "stderr",
     "output_type": "stream",
     "text": [
      "0: 192x320 1 car, 41.1ms\n",
      "Speed: 1.0ms preprocess, 41.1ms inference, 2.7ms postprocess per image at shape (1, 3, 192, 320)\n",
      "\n",
      "0: 192x320 1 car, 42.3ms\n",
      "Speed: 1.0ms preprocess, 42.3ms inference, 1.9ms postprocess per image at shape (1, 3, 192, 320)\n",
      "\n",
      "0: 192x320 1 car, 43.6ms\n",
      "Speed: 1.0ms preprocess, 43.6ms inference, 1.0ms postprocess per image at shape (1, 3, 192, 320)\n",
      "\n",
      "0: 192x320 1 car, 42.8ms\n"
     ]
    },
    {
     "name": "stdout",
     "output_type": "stream",
     "text": [
      "unique_id old 3 [0, 1, 1] 2 15947\n",
      "unique_id old 3 [0, 1, 1] 2 15948\n",
      "unique_id old 3 [0, 1, 1] 2 15949\n"
     ]
    },
    {
     "name": "stderr",
     "output_type": "stream",
     "text": [
      "Speed: 1.0ms preprocess, 42.8ms inference, 2.0ms postprocess per image at shape (1, 3, 192, 320)\n",
      "\n",
      "0: 192x320 1 car, 44.0ms\n",
      "Speed: 1.0ms preprocess, 44.0ms inference, 3.0ms postprocess per image at shape (1, 3, 192, 320)\n",
      "\n",
      "0: 192x320 1 car, 38.0ms\n",
      "Speed: 1.1ms preprocess, 38.0ms inference, 2.1ms postprocess per image at shape (1, 3, 192, 320)\n",
      "\n"
     ]
    },
    {
     "name": "stdout",
     "output_type": "stream",
     "text": [
      "unique_id old 3 [0, 1, 1] 2 15950\n",
      "unique_id old 3 [0, 1, 1] 2 15951\n",
      "unique_id old 3 [0, 1, 1] 2 15952\n"
     ]
    },
    {
     "name": "stderr",
     "output_type": "stream",
     "text": [
      "0: 192x320 1 car, 39.2ms\n",
      "Speed: 1.0ms preprocess, 39.2ms inference, 2.0ms postprocess per image at shape (1, 3, 192, 320)\n",
      "\n",
      "0: 192x320 1 car, 45.5ms\n",
      "Speed: 0.0ms preprocess, 45.5ms inference, 3.0ms postprocess per image at shape (1, 3, 192, 320)\n",
      "\n",
      "0: 192x320 1 car, 43.1ms\n",
      "Speed: 1.0ms preprocess, 43.1ms inference, 2.0ms postprocess per image at shape (1, 3, 192, 320)\n",
      "\n"
     ]
    },
    {
     "name": "stdout",
     "output_type": "stream",
     "text": [
      "unique_id old 3 [0, 1, 1] 2 15953\n",
      "unique_id old 3 [0, 1, 1] 2 15954\n",
      "unique_id old 3 [0, 1, 1] 2 15955\n"
     ]
    },
    {
     "name": "stderr",
     "output_type": "stream",
     "text": [
      "0: 192x320 1 car, 37.1ms\n",
      "Speed: 1.6ms preprocess, 37.1ms inference, 1.9ms postprocess per image at shape (1, 3, 192, 320)\n",
      "\n",
      "0: 192x320 1 car, 41.6ms\n",
      "Speed: 1.0ms preprocess, 41.6ms inference, 1.9ms postprocess per image at shape (1, 3, 192, 320)\n",
      "\n",
      "0: 192x320 1 car, 40.9ms\n",
      "Speed: 1.0ms preprocess, 40.9ms inference, 1.0ms postprocess per image at shape (1, 3, 192, 320)\n",
      "\n",
      "0: 192x320 1 car, 41.9ms\n"
     ]
    },
    {
     "name": "stdout",
     "output_type": "stream",
     "text": [
      "unique_id old 3 [0, 1, 1] 2 15956\n",
      "unique_id old 3 [0, 1, 1] 2 15957\n",
      "unique_id old 3 [0, 1, 1] 2 15958\n"
     ]
    },
    {
     "name": "stderr",
     "output_type": "stream",
     "text": [
      "Speed: 1.0ms preprocess, 41.9ms inference, 2.0ms postprocess per image at shape (1, 3, 192, 320)\n",
      "\n",
      "0: 192x320 1 car, 39.4ms\n",
      "Speed: 1.0ms preprocess, 39.4ms inference, 1.0ms postprocess per image at shape (1, 3, 192, 320)\n",
      "\n",
      "0: 192x320 1 car, 41.9ms\n",
      "Speed: 1.1ms preprocess, 41.9ms inference, 2.0ms postprocess per image at shape (1, 3, 192, 320)\n",
      "\n"
     ]
    },
    {
     "name": "stdout",
     "output_type": "stream",
     "text": [
      "unique_id old 3 [0, 1, 1] 2 15959\n",
      "unique_id old 3 [0, 1, 1] 2 15960\n",
      "unique_id old 3 [0, 1, 1] 2 15961\n"
     ]
    },
    {
     "name": "stderr",
     "output_type": "stream",
     "text": [
      "0: 192x320 1 car, 38.7ms\n",
      "Speed: 1.4ms preprocess, 38.7ms inference, 1.9ms postprocess per image at shape (1, 3, 192, 320)\n",
      "\n",
      "0: 192x320 1 car, 41.6ms\n",
      "Speed: 1.0ms preprocess, 41.6ms inference, 2.0ms postprocess per image at shape (1, 3, 192, 320)\n",
      "\n",
      "0: 192x320 1 car, 39.1ms\n",
      "Speed: 1.0ms preprocess, 39.1ms inference, 2.0ms postprocess per image at shape (1, 3, 192, 320)\n",
      "\n",
      "0: 192x320 1 car, 40.0ms\n"
     ]
    },
    {
     "name": "stdout",
     "output_type": "stream",
     "text": [
      "unique_id old 3 [0, 1, 1] 2 15962\n",
      "unique_id old 3 [0, 1, 1] 2 15963\n",
      "unique_id old 3 [0, 1, 1] 2 15964\n"
     ]
    },
    {
     "name": "stderr",
     "output_type": "stream",
     "text": [
      "Speed: 1.0ms preprocess, 40.0ms inference, 2.0ms postprocess per image at shape (1, 3, 192, 320)\n",
      "\n",
      "0: 192x320 1 car, 39.6ms\n",
      "Speed: 1.0ms preprocess, 39.6ms inference, 2.1ms postprocess per image at shape (1, 3, 192, 320)\n",
      "\n",
      "0: 192x320 1 car, 40.3ms\n",
      "Speed: 1.9ms preprocess, 40.3ms inference, 1.9ms postprocess per image at shape (1, 3, 192, 320)\n",
      "\n",
      "0: 192x320 1 car, 43.0ms\n"
     ]
    },
    {
     "name": "stdout",
     "output_type": "stream",
     "text": [
      "unique_id old 3 [0, 1, 1] 2 15965\n",
      "unique_id old 3 [0, 1, 1] 2 15966\n",
      "unique_id old 3 [0, 1, 1] 2 15967\n"
     ]
    },
    {
     "name": "stderr",
     "output_type": "stream",
     "text": [
      "Speed: 1.0ms preprocess, 43.0ms inference, 2.1ms postprocess per image at shape (1, 3, 192, 320)\n",
      "\n",
      "0: 192x320 1 car, 44.1ms\n",
      "Speed: 0.9ms preprocess, 44.1ms inference, 0.9ms postprocess per image at shape (1, 3, 192, 320)\n",
      "\n",
      "0: 192x320 1 car, 41.4ms\n",
      "Speed: 1.0ms preprocess, 41.4ms inference, 2.0ms postprocess per image at shape (1, 3, 192, 320)\n",
      "\n"
     ]
    },
    {
     "name": "stdout",
     "output_type": "stream",
     "text": [
      "unique_id old 3 [0, 1, 1] 2 15968\n",
      "unique_id old 3 [0, 1, 1] 2 15969\n",
      "unique_id old 3 [0, 1, 1] 2 15970\n"
     ]
    },
    {
     "name": "stderr",
     "output_type": "stream",
     "text": [
      "0: 192x320 1 car, 39.9ms\n",
      "Speed: 1.0ms preprocess, 39.9ms inference, 3.0ms postprocess per image at shape (1, 3, 192, 320)\n",
      "\n",
      "0: 192x320 1 car, 42.1ms\n",
      "Speed: 1.0ms preprocess, 42.1ms inference, 2.0ms postprocess per image at shape (1, 3, 192, 320)\n",
      "\n",
      "0: 192x320 1 car, 43.9ms\n",
      "Speed: 1.0ms preprocess, 43.9ms inference, 1.8ms postprocess per image at shape (1, 3, 192, 320)\n",
      "\n"
     ]
    },
    {
     "name": "stdout",
     "output_type": "stream",
     "text": [
      "unique_id old 3 [0, 1, 1] 2 15971\n",
      "unique_id old 3 [0, 1, 1] 2 15972\n",
      "unique_id old 3 [0, 1, 1] 2 15973\n"
     ]
    },
    {
     "name": "stderr",
     "output_type": "stream",
     "text": [
      "0: 192x320 1 car, 45.9ms\n",
      "Speed: 1.0ms preprocess, 45.9ms inference, 2.9ms postprocess per image at shape (1, 3, 192, 320)\n",
      "\n",
      "0: 192x320 1 car, 45.0ms\n",
      "Speed: 1.0ms preprocess, 45.0ms inference, 2.0ms postprocess per image at shape (1, 3, 192, 320)\n",
      "\n",
      "0: 192x320 1 car, 41.1ms\n",
      "Speed: 1.0ms preprocess, 41.1ms inference, 2.0ms postprocess per image at shape (1, 3, 192, 320)\n",
      "\n"
     ]
    },
    {
     "name": "stdout",
     "output_type": "stream",
     "text": [
      "unique_id old 3 [0, 1, 1] 2 15974\n",
      "unique_id old 3 [0, 1, 1] 2 15975\n",
      "unique_id old 3 [0, 1, 1] 2 15976\n"
     ]
    },
    {
     "name": "stderr",
     "output_type": "stream",
     "text": [
      "0: 192x320 1 car, 40.6ms\n",
      "Speed: 1.0ms preprocess, 40.6ms inference, 2.0ms postprocess per image at shape (1, 3, 192, 320)\n",
      "\n",
      "0: 192x320 1 car, 39.1ms\n",
      "Speed: 1.0ms preprocess, 39.1ms inference, 2.0ms postprocess per image at shape (1, 3, 192, 320)\n",
      "\n",
      "0: 192x320 1 car, 39.0ms\n",
      "Speed: 1.0ms preprocess, 39.0ms inference, 2.1ms postprocess per image at shape (1, 3, 192, 320)\n",
      "\n"
     ]
    },
    {
     "name": "stdout",
     "output_type": "stream",
     "text": [
      "unique_id old 3 [0, 1, 1] 2 15977\n",
      "unique_id old 3 [0, 1, 1] 2 15978\n",
      "unique_id old 3 [0, 1, 1] 2 15979\n"
     ]
    },
    {
     "name": "stderr",
     "output_type": "stream",
     "text": [
      "0: 192x320 1 car, 46.6ms\n",
      "Speed: 1.1ms preprocess, 46.6ms inference, 2.0ms postprocess per image at shape (1, 3, 192, 320)\n",
      "\n",
      "0: 192x320 1 car, 41.1ms\n",
      "Speed: 1.1ms preprocess, 41.1ms inference, 2.7ms postprocess per image at shape (1, 3, 192, 320)\n",
      "\n",
      "0: 192x320 1 car, 43.9ms\n",
      "Speed: 1.0ms preprocess, 43.9ms inference, 0.9ms postprocess per image at shape (1, 3, 192, 320)\n",
      "\n"
     ]
    },
    {
     "name": "stdout",
     "output_type": "stream",
     "text": [
      "unique_id old 3 [0, 1, 1] 2 15980\n",
      "unique_id old 3 [0, 1, 1] 2 15981\n",
      "unique_id old 3 [0, 1, 1] 2 15982\n"
     ]
    },
    {
     "name": "stderr",
     "output_type": "stream",
     "text": [
      "0: 192x320 1 car, 44.0ms\n",
      "Speed: 1.1ms preprocess, 44.0ms inference, 2.0ms postprocess per image at shape (1, 3, 192, 320)\n",
      "\n",
      "0: 192x320 1 car, 40.7ms\n",
      "Speed: 1.0ms preprocess, 40.7ms inference, 2.0ms postprocess per image at shape (1, 3, 192, 320)\n",
      "\n",
      "0: 192x320 1 car, 39.0ms\n",
      "Speed: 1.0ms preprocess, 39.0ms inference, 2.0ms postprocess per image at shape (1, 3, 192, 320)\n",
      "\n",
      "0: 192x320 1 car, 39.0ms\n"
     ]
    },
    {
     "name": "stdout",
     "output_type": "stream",
     "text": [
      "unique_id old 3 [0, 1, 1] 2 15983\n",
      "unique_id old 3 [0, 1, 1] 2 15984\n",
      "unique_id old 3 [0, 1, 1] 2 15985\n"
     ]
    },
    {
     "name": "stderr",
     "output_type": "stream",
     "text": [
      "Speed: 1.0ms preprocess, 39.0ms inference, 1.0ms postprocess per image at shape (1, 3, 192, 320)\n",
      "\n",
      "0: 192x320 1 car, 43.7ms\n",
      "Speed: 1.0ms preprocess, 43.7ms inference, 3.1ms postprocess per image at shape (1, 3, 192, 320)\n",
      "\n",
      "0: 192x320 1 car, 40.1ms\n",
      "Speed: 1.0ms preprocess, 40.1ms inference, 3.0ms postprocess per image at shape (1, 3, 192, 320)\n",
      "\n"
     ]
    },
    {
     "name": "stdout",
     "output_type": "stream",
     "text": [
      "unique_id old 3 [0, 1, 1] 2 15986\n",
      "unique_id old 3 [0, 1, 1] 2 15987\n",
      "unique_id old 3 [0, 1, 1] 2 15988\n"
     ]
    },
    {
     "name": "stderr",
     "output_type": "stream",
     "text": [
      "0: 192x320 1 car, 42.9ms\n",
      "Speed: 1.0ms preprocess, 42.9ms inference, 1.0ms postprocess per image at shape (1, 3, 192, 320)\n",
      "\n",
      "0: 192x320 1 car, 39.7ms\n",
      "Speed: 0.9ms preprocess, 39.7ms inference, 1.0ms postprocess per image at shape (1, 3, 192, 320)\n",
      "\n",
      "0: 192x320 1 car, 40.1ms\n",
      "Speed: 1.0ms preprocess, 40.1ms inference, 2.0ms postprocess per image at shape (1, 3, 192, 320)\n",
      "\n"
     ]
    },
    {
     "name": "stdout",
     "output_type": "stream",
     "text": [
      "unique_id old 3 [0, 1, 1] 2 15989\n",
      "unique_id old 3 [0, 1, 1] 2 15990\n",
      "unique_id old 3 [0, 1, 1] 2 15991\n"
     ]
    },
    {
     "name": "stderr",
     "output_type": "stream",
     "text": [
      "0: 192x320 1 car, 42.1ms\n",
      "Speed: 0.0ms preprocess, 42.1ms inference, 1.9ms postprocess per image at shape (1, 3, 192, 320)\n",
      "\n",
      "0: 192x320 1 car, 38.6ms\n",
      "Speed: 1.0ms preprocess, 38.6ms inference, 0.9ms postprocess per image at shape (1, 3, 192, 320)\n",
      "\n",
      "0: 192x320 1 car, 45.9ms\n",
      "Speed: 1.0ms preprocess, 45.9ms inference, 2.0ms postprocess per image at shape (1, 3, 192, 320)\n",
      "\n",
      "0: 192x320 1 car, 38.1ms\n"
     ]
    },
    {
     "name": "stdout",
     "output_type": "stream",
     "text": [
      "unique_id old 3 [0, 1, 1] 2 15992\n",
      "unique_id old 3 [0, 1, 1] 2 15993\n",
      "unique_id old 3 [0, 1, 1] 2 15994\n"
     ]
    },
    {
     "name": "stderr",
     "output_type": "stream",
     "text": [
      "Speed: 0.9ms preprocess, 38.1ms inference, 1.9ms postprocess per image at shape (1, 3, 192, 320)\n",
      "\n",
      "0: 192x320 1 car, 43.0ms\n",
      "Speed: 1.0ms preprocess, 43.0ms inference, 2.0ms postprocess per image at shape (1, 3, 192, 320)\n",
      "\n",
      "0: 192x320 1 car, 40.0ms\n",
      "Speed: 0.0ms preprocess, 40.0ms inference, 2.0ms postprocess per image at shape (1, 3, 192, 320)\n",
      "\n"
     ]
    },
    {
     "name": "stdout",
     "output_type": "stream",
     "text": [
      "unique_id old 3 [0, 1, 1] 2 15995\n",
      "unique_id old 3 [0, 1, 1] 2 15996\n",
      "unique_id old 3 [0, 1, 1] 2 15997\n"
     ]
    },
    {
     "name": "stderr",
     "output_type": "stream",
     "text": [
      "0: 192x320 1 car, 41.1ms\n",
      "Speed: 1.0ms preprocess, 41.1ms inference, 3.9ms postprocess per image at shape (1, 3, 192, 320)\n",
      "\n",
      "0: 192x320 1 car, 41.0ms\n",
      "Speed: 1.0ms preprocess, 41.0ms inference, 2.0ms postprocess per image at shape (1, 3, 192, 320)\n",
      "\n",
      "0: 192x320 1 car, 42.6ms\n",
      "Speed: 0.9ms preprocess, 42.6ms inference, 1.0ms postprocess per image at shape (1, 3, 192, 320)\n",
      "\n",
      "0: 192x320 1 car, 42.1ms\n"
     ]
    },
    {
     "name": "stdout",
     "output_type": "stream",
     "text": [
      "unique_id old 3 [0, 1, 1] 2 15998\n",
      "unique_id old 3 [0, 1, 1] 2 15999\n",
      "unique_id old 3 [0, 1, 1] 2 16000\n",
      "unique_id old 3 25 [0, 1, 1] 2 16000\n"
     ]
    },
    {
     "name": "stderr",
     "output_type": "stream",
     "text": [
      "Speed: 1.1ms preprocess, 42.1ms inference, 1.6ms postprocess per image at shape (1, 3, 192, 320)\n",
      "\n",
      "0: 192x320 1 car, 39.0ms\n",
      "Speed: 1.0ms preprocess, 39.0ms inference, 2.1ms postprocess per image at shape (1, 3, 192, 320)\n",
      "\n",
      "0: 192x320 1 car, 38.3ms\n",
      "Speed: 1.1ms preprocess, 38.3ms inference, 2.0ms postprocess per image at shape (1, 3, 192, 320)\n",
      "\n",
      "0: 192x320 1 car, 42.4ms\n"
     ]
    },
    {
     "name": "stdout",
     "output_type": "stream",
     "text": [
      "unique_id old 3 [0, 1, 1] 2 16001\n",
      "unique_id old 3 [0, 1, 1] 2 16002\n",
      "unique_id old 3 [0, 1, 1] 2 16003\n"
     ]
    },
    {
     "name": "stderr",
     "output_type": "stream",
     "text": [
      "Speed: 1.1ms preprocess, 42.4ms inference, 2.1ms postprocess per image at shape (1, 3, 192, 320)\n",
      "\n",
      "0: 192x320 1 car, 38.0ms\n",
      "Speed: 1.1ms preprocess, 38.0ms inference, 1.0ms postprocess per image at shape (1, 3, 192, 320)\n",
      "\n",
      "0: 192x320 1 car, 39.0ms\n",
      "Speed: 1.1ms preprocess, 39.0ms inference, 1.0ms postprocess per image at shape (1, 3, 192, 320)\n",
      "\n"
     ]
    },
    {
     "name": "stdout",
     "output_type": "stream",
     "text": [
      "unique_id old 3 [0, 1, 1] 2 16004\n",
      "unique_id old 3 [0, 1, 1] 2 16005\n",
      "unique_id old 3 [0, 1, 1] 2 16006\n"
     ]
    },
    {
     "name": "stderr",
     "output_type": "stream",
     "text": [
      "0: 192x320 1 car, 41.9ms\n",
      "Speed: 0.0ms preprocess, 41.9ms inference, 1.9ms postprocess per image at shape (1, 3, 192, 320)\n",
      "\n",
      "0: 192x320 1 car, 39.9ms\n",
      "Speed: 1.0ms preprocess, 39.9ms inference, 2.0ms postprocess per image at shape (1, 3, 192, 320)\n",
      "\n",
      "0: 192x320 1 car, 39.9ms\n",
      "Speed: 1.0ms preprocess, 39.9ms inference, 2.1ms postprocess per image at shape (1, 3, 192, 320)\n",
      "\n"
     ]
    },
    {
     "name": "stdout",
     "output_type": "stream",
     "text": [
      "unique_id old 3 [0, 1, 1] 2 16007\n",
      "unique_id old 3 [0, 1, 1] 2 16008\n",
      "unique_id old 3 [0, 1, 1] 2 16009\n"
     ]
    },
    {
     "name": "stderr",
     "output_type": "stream",
     "text": [
      "0: 192x320 1 car, 41.6ms\n",
      "Speed: 1.0ms preprocess, 41.6ms inference, 1.1ms postprocess per image at shape (1, 3, 192, 320)\n",
      "\n",
      "0: 192x320 1 car, 40.4ms\n",
      "Speed: 1.0ms preprocess, 40.4ms inference, 3.0ms postprocess per image at shape (1, 3, 192, 320)\n",
      "\n",
      "0: 192x320 1 car, 40.1ms\n",
      "Speed: 1.0ms preprocess, 40.1ms inference, 0.9ms postprocess per image at shape (1, 3, 192, 320)\n",
      "\n",
      "0: 192x320 1 car, 41.1ms\n"
     ]
    },
    {
     "name": "stdout",
     "output_type": "stream",
     "text": [
      "unique_id old 3 [0, 1, 1] 2 16010\n",
      "unique_id old 3 [0, 1, 1] 2 16011\n",
      "unique_id old 3 [0, 1, 1] 2 16012\n"
     ]
    },
    {
     "name": "stderr",
     "output_type": "stream",
     "text": [
      "Speed: 1.0ms preprocess, 41.1ms inference, 2.0ms postprocess per image at shape (1, 3, 192, 320)\n",
      "\n",
      "0: 192x320 1 car, 38.0ms\n",
      "Speed: 1.0ms preprocess, 38.0ms inference, 2.0ms postprocess per image at shape (1, 3, 192, 320)\n",
      "\n",
      "0: 192x320 1 car, 37.5ms\n",
      "Speed: 1.1ms preprocess, 37.5ms inference, 2.0ms postprocess per image at shape (1, 3, 192, 320)\n",
      "\n"
     ]
    },
    {
     "name": "stdout",
     "output_type": "stream",
     "text": [
      "unique_id old 3 [0, 1, 1] 2 16013\n",
      "unique_id old 3 [0, 1, 1] 2 16014\n",
      "unique_id old 3 [0, 1, 1] 2 16015\n"
     ]
    },
    {
     "name": "stderr",
     "output_type": "stream",
     "text": [
      "0: 192x320 1 car, 37.5ms\n",
      "Speed: 1.0ms preprocess, 37.5ms inference, 3.0ms postprocess per image at shape (1, 3, 192, 320)\n",
      "\n",
      "0: 192x320 1 car, 41.8ms\n",
      "Speed: 0.0ms preprocess, 41.8ms inference, 2.0ms postprocess per image at shape (1, 3, 192, 320)\n",
      "\n",
      "0: 192x320 1 car, 41.0ms\n",
      "Speed: 0.0ms preprocess, 41.0ms inference, 1.0ms postprocess per image at shape (1, 3, 192, 320)\n",
      "\n"
     ]
    },
    {
     "name": "stdout",
     "output_type": "stream",
     "text": [
      "unique_id old 3 [0, 1, 1] 2 16016\n",
      "unique_id old 3 [0, 1, 1] 2 16017\n",
      "unique_id old 3 [0, 1, 1] 2 16018\n"
     ]
    },
    {
     "name": "stderr",
     "output_type": "stream",
     "text": [
      "0: 192x320 1 car, 39.1ms\n",
      "Speed: 0.5ms preprocess, 39.1ms inference, 1.9ms postprocess per image at shape (1, 3, 192, 320)\n",
      "\n",
      "0: 192x320 1 car, 41.7ms\n",
      "Speed: 1.0ms preprocess, 41.7ms inference, 2.2ms postprocess per image at shape (1, 3, 192, 320)\n",
      "\n",
      "0: 192x320 1 car, 41.1ms\n",
      "Speed: 1.1ms preprocess, 41.1ms inference, 1.9ms postprocess per image at shape (1, 3, 192, 320)\n",
      "\n"
     ]
    },
    {
     "name": "stdout",
     "output_type": "stream",
     "text": [
      "unique_id old 3 [0, 1, 1] 2 16019\n",
      "unique_id old 3 [0, 1, 1] 2 16020\n",
      "unique_id old 3 [0, 1, 1] 2 16021\n"
     ]
    },
    {
     "name": "stderr",
     "output_type": "stream",
     "text": [
      "0: 192x320 1 car, 40.0ms\n",
      "Speed: 1.0ms preprocess, 40.0ms inference, 2.0ms postprocess per image at shape (1, 3, 192, 320)\n",
      "\n",
      "0: 192x320 1 car, 42.5ms\n",
      "Speed: 1.0ms preprocess, 42.5ms inference, 2.0ms postprocess per image at shape (1, 3, 192, 320)\n",
      "\n",
      "0: 192x320 1 car, 43.2ms\n",
      "Speed: 0.0ms preprocess, 43.2ms inference, 2.6ms postprocess per image at shape (1, 3, 192, 320)\n",
      "\n"
     ]
    },
    {
     "name": "stdout",
     "output_type": "stream",
     "text": [
      "unique_id old 3 [0, 1, 1] 2 16022\n",
      "unique_id old 3 [0, 1, 1] 2 16023\n",
      "unique_id old 3 [0, 1, 1] 2 16024\n"
     ]
    },
    {
     "name": "stderr",
     "output_type": "stream",
     "text": [
      "0: 192x320 1 car, 39.7ms\n",
      "Speed: 0.6ms preprocess, 39.7ms inference, 3.0ms postprocess per image at shape (1, 3, 192, 320)\n",
      "\n",
      "0: 192x320 1 car, 38.6ms\n",
      "Speed: 1.0ms preprocess, 38.6ms inference, 1.1ms postprocess per image at shape (1, 3, 192, 320)\n",
      "\n",
      "0: 192x320 1 car, 40.6ms\n",
      "Speed: 1.9ms preprocess, 40.6ms inference, 2.0ms postprocess per image at shape (1, 3, 192, 320)\n",
      "\n",
      "0: 192x320 1 car, 39.0ms\n"
     ]
    },
    {
     "name": "stdout",
     "output_type": "stream",
     "text": [
      "unique_id old 3 [0, 1, 1] 2 16025\n",
      "unique_id old 3 [0, 1, 1] 2 16026\n",
      "unique_id old 3 [0, 1, 1] 2 16027\n"
     ]
    },
    {
     "name": "stderr",
     "output_type": "stream",
     "text": [
      "Speed: 1.9ms preprocess, 39.0ms inference, 2.0ms postprocess per image at shape (1, 3, 192, 320)\n",
      "\n",
      "0: 192x320 1 car, 45.0ms\n",
      "Speed: 1.0ms preprocess, 45.0ms inference, 2.0ms postprocess per image at shape (1, 3, 192, 320)\n",
      "\n",
      "0: 192x320 1 car, 41.4ms\n",
      "Speed: 1.0ms preprocess, 41.4ms inference, 1.5ms postprocess per image at shape (1, 3, 192, 320)\n",
      "\n",
      "0: 192x320 1 car, 40.0ms\n"
     ]
    },
    {
     "name": "stdout",
     "output_type": "stream",
     "text": [
      "unique_id old 3 [0, 1, 1] 2 16028\n",
      "unique_id old 3 [0, 1, 1] 2 16029\n",
      "unique_id old 3 [0, 1, 1] 2 16030\n"
     ]
    },
    {
     "name": "stderr",
     "output_type": "stream",
     "text": [
      "Speed: 1.0ms preprocess, 40.0ms inference, 2.0ms postprocess per image at shape (1, 3, 192, 320)\n",
      "\n",
      "0: 192x320 1 car, 41.0ms\n",
      "Speed: 1.0ms preprocess, 41.0ms inference, 2.0ms postprocess per image at shape (1, 3, 192, 320)\n",
      "\n",
      "0: 192x320 1 car, 38.4ms\n",
      "Speed: 1.0ms preprocess, 38.4ms inference, 1.9ms postprocess per image at shape (1, 3, 192, 320)\n",
      "\n"
     ]
    },
    {
     "name": "stdout",
     "output_type": "stream",
     "text": [
      "unique_id old 3 [0, 1, 1] 2 16031\n",
      "unique_id old 3 [0, 1, 1] 2 16032\n",
      "unique_id old 3 [0, 1, 1] 2 16033\n"
     ]
    },
    {
     "name": "stderr",
     "output_type": "stream",
     "text": [
      "0: 192x320 1 car, 41.9ms\n",
      "Speed: 0.0ms preprocess, 41.9ms inference, 2.0ms postprocess per image at shape (1, 3, 192, 320)\n",
      "\n",
      "0: 192x320 1 car, 38.1ms\n",
      "Speed: 1.0ms preprocess, 38.1ms inference, 2.0ms postprocess per image at shape (1, 3, 192, 320)\n",
      "\n",
      "0: 192x320 1 car, 42.4ms\n",
      "Speed: 0.5ms preprocess, 42.4ms inference, 1.0ms postprocess per image at shape (1, 3, 192, 320)\n",
      "\n",
      "0: 192x320 1 car, 39.1ms\n"
     ]
    },
    {
     "name": "stdout",
     "output_type": "stream",
     "text": [
      "unique_id old 3 [0, 1, 1] 2 16034\n",
      "unique_id old 3 [0, 1, 1] 2 16035\n",
      "unique_id old 3 [0, 1, 1] 2 16036\n"
     ]
    },
    {
     "name": "stderr",
     "output_type": "stream",
     "text": [
      "Speed: 0.9ms preprocess, 39.1ms inference, 2.0ms postprocess per image at shape (1, 3, 192, 320)\n",
      "\n",
      "0: 192x320 1 car, 38.1ms\n",
      "Speed: 2.0ms preprocess, 38.1ms inference, 1.9ms postprocess per image at shape (1, 3, 192, 320)\n",
      "\n",
      "0: 192x320 1 car, 38.1ms\n",
      "Speed: 1.0ms preprocess, 38.1ms inference, 2.0ms postprocess per image at shape (1, 3, 192, 320)\n",
      "\n"
     ]
    },
    {
     "name": "stdout",
     "output_type": "stream",
     "text": [
      "unique_id old 3 [0, 1, 1] 2 16037\n",
      "unique_id old 3 [0, 1, 1] 2 16038\n",
      "unique_id old 3 [0, 1, 1] 2 16039\n"
     ]
    },
    {
     "name": "stderr",
     "output_type": "stream",
     "text": [
      "0: 192x320 1 car, 39.0ms\n",
      "Speed: 0.0ms preprocess, 39.0ms inference, 2.1ms postprocess per image at shape (1, 3, 192, 320)\n",
      "\n",
      "0: 192x320 1 car, 40.2ms\n",
      "Speed: 1.0ms preprocess, 40.2ms inference, 2.0ms postprocess per image at shape (1, 3, 192, 320)\n",
      "\n",
      "0: 192x320 1 car, 40.0ms\n",
      "Speed: 1.0ms preprocess, 40.0ms inference, 2.0ms postprocess per image at shape (1, 3, 192, 320)\n",
      "\n",
      "0: 192x320 1 car, 38.8ms\n"
     ]
    },
    {
     "name": "stdout",
     "output_type": "stream",
     "text": [
      "unique_id old 3 [0, 1, 1] 2 16040\n",
      "unique_id old 3 [0, 1, 1] 2 16041\n",
      "unique_id old 3 [0, 1, 1] 2 16042\n"
     ]
    },
    {
     "name": "stderr",
     "output_type": "stream",
     "text": [
      "Speed: 1.1ms preprocess, 38.8ms inference, 2.1ms postprocess per image at shape (1, 3, 192, 320)\n",
      "\n",
      "0: 192x320 1 car, 39.1ms\n",
      "Speed: 0.9ms preprocess, 39.1ms inference, 2.0ms postprocess per image at shape (1, 3, 192, 320)\n",
      "\n",
      "0: 192x320 1 car, 42.1ms\n",
      "Speed: 0.0ms preprocess, 42.1ms inference, 1.9ms postprocess per image at shape (1, 3, 192, 320)\n",
      "\n",
      "0: 192x320 1 car, 39.7ms\n"
     ]
    },
    {
     "name": "stdout",
     "output_type": "stream",
     "text": [
      "unique_id old 3 [0, 1, 1] 2 16043\n",
      "unique_id old 3 [0, 1, 1] 2 16044\n",
      "unique_id old 3 [0, 1, 1] 2 16045\n"
     ]
    },
    {
     "name": "stderr",
     "output_type": "stream",
     "text": [
      "Speed: 1.0ms preprocess, 39.7ms inference, 2.0ms postprocess per image at shape (1, 3, 192, 320)\n",
      "\n",
      "0: 192x320 (no detections), 39.6ms\n",
      "Speed: 1.0ms preprocess, 39.6ms inference, 1.0ms postprocess per image at shape (1, 3, 192, 320)\n",
      "\n",
      "0: 192x320 (no detections), 39.3ms\n",
      "Speed: 0.0ms preprocess, 39.3ms inference, 1.0ms postprocess per image at shape (1, 3, 192, 320)\n",
      "\n",
      "0: 192x320 (no detections), 39.7ms\n",
      "Speed: 1.0ms preprocess, 39.7ms inference, 2.0ms postprocess per image at shape (1, 3, 192, 320)\n",
      "\n"
     ]
    },
    {
     "name": "stdout",
     "output_type": "stream",
     "text": [
      "unique_id old 3 [0, 1, 1] 2 16046\n"
     ]
    },
    {
     "name": "stderr",
     "output_type": "stream",
     "text": [
      "0: 192x320 (no detections), 42.1ms\n",
      "Speed: 0.9ms preprocess, 42.1ms inference, 1.0ms postprocess per image at shape (1, 3, 192, 320)\n",
      "\n",
      "0: 192x320 (no detections), 43.9ms\n",
      "Speed: 0.9ms preprocess, 43.9ms inference, 2.0ms postprocess per image at shape (1, 3, 192, 320)\n",
      "\n",
      "0: 192x320 (no detections), 42.0ms\n",
      "Speed: 1.1ms preprocess, 42.0ms inference, 1.9ms postprocess per image at shape (1, 3, 192, 320)\n",
      "\n",
      "0: 192x320 (no detections), 43.7ms\n",
      "Speed: 1.0ms preprocess, 43.7ms inference, 2.0ms postprocess per image at shape (1, 3, 192, 320)\n",
      "\n",
      "0: 192x320 (no detections), 43.0ms\n",
      "Speed: 1.0ms preprocess, 43.0ms inference, 2.0ms postprocess per image at shape (1, 3, 192, 320)\n",
      "\n",
      "0: 192x320 (no detections), 40.3ms\n",
      "Speed: 1.1ms preprocess, 40.3ms inference, 0.9ms postprocess per image at shape (1, 3, 192, 320)\n",
      "\n",
      "0: 192x320 (no detections), 45.1ms\n",
      "Speed: 1.1ms preprocess, 45.1ms inference, 1.4ms postprocess per image at shape (1, 3, 192, 320)\n",
      "\n",
      "0: 192x320 (no detections), 40.7ms\n",
      "Speed: 1.0ms preprocess, 40.7ms inference, 1.0ms postprocess per image at shape (1, 3, 192, 320)\n",
      "\n",
      "0: 192x320 (no detections), 38.2ms\n",
      "Speed: 0.0ms preprocess, 38.2ms inference, 1.1ms postprocess per image at shape (1, 3, 192, 320)\n",
      "\n",
      "0: 192x320 (no detections), 39.3ms\n",
      "Speed: 1.0ms preprocess, 39.3ms inference, 2.0ms postprocess per image at shape (1, 3, 192, 320)\n",
      "\n",
      "0: 192x320 1 car, 40.2ms\n",
      "Speed: 1.0ms preprocess, 40.2ms inference, 2.0ms postprocess per image at shape (1, 3, 192, 320)\n",
      "\n",
      "0: 192x320 1 car, 39.1ms\n",
      "Speed: 1.0ms preprocess, 39.1ms inference, 2.0ms postprocess per image at shape (1, 3, 192, 320)\n",
      "\n",
      "0: 192x320 (no detections), 42.8ms\n",
      "Speed: 1.0ms preprocess, 42.8ms inference, 1.0ms postprocess per image at shape (1, 3, 192, 320)\n",
      "\n",
      "0: 192x320 (no detections), 40.0ms\n",
      "Speed: 1.4ms preprocess, 40.0ms inference, 0.9ms postprocess per image at shape (1, 3, 192, 320)\n",
      "\n"
     ]
    },
    {
     "name": "stdout",
     "output_type": "stream",
     "text": [
      "unique_id old 3 [0, 1, 1] 2 16060\n",
      "unique_id old 3 [0, 1, 1] 2 16061\n"
     ]
    },
    {
     "name": "stderr",
     "output_type": "stream",
     "text": [
      "0: 192x320 (no detections), 44.1ms\n",
      "Speed: 0.0ms preprocess, 44.1ms inference, 2.0ms postprocess per image at shape (1, 3, 192, 320)\n",
      "\n",
      "0: 192x320 (no detections), 42.7ms\n",
      "Speed: 1.0ms preprocess, 42.7ms inference, 1.1ms postprocess per image at shape (1, 3, 192, 320)\n",
      "\n",
      "0: 192x320 (no detections), 43.9ms\n",
      "Speed: 1.0ms preprocess, 43.9ms inference, 2.0ms postprocess per image at shape (1, 3, 192, 320)\n",
      "\n",
      "0: 192x320 (no detections), 43.0ms\n",
      "Speed: 0.9ms preprocess, 43.0ms inference, 2.1ms postprocess per image at shape (1, 3, 192, 320)\n",
      "\n",
      "0: 192x320 (no detections), 39.0ms\n",
      "Speed: 1.0ms preprocess, 39.0ms inference, 1.9ms postprocess per image at shape (1, 3, 192, 320)\n",
      "\n",
      "0: 192x320 (no detections), 40.7ms\n",
      "Speed: 1.0ms preprocess, 40.7ms inference, 1.0ms postprocess per image at shape (1, 3, 192, 320)\n",
      "\n",
      "0: 192x320 (no detections), 45.0ms\n",
      "Speed: 1.9ms preprocess, 45.0ms inference, 2.0ms postprocess per image at shape (1, 3, 192, 320)\n",
      "\n",
      "0: 192x320 (no detections), 47.8ms\n",
      "Speed: 1.0ms preprocess, 47.8ms inference, 1.0ms postprocess per image at shape (1, 3, 192, 320)\n",
      "\n",
      "0: 192x320 1 car, 38.2ms\n",
      "Speed: 1.9ms preprocess, 38.2ms inference, 2.0ms postprocess per image at shape (1, 3, 192, 320)\n",
      "\n",
      "0: 192x320 1 car, 38.0ms\n",
      "Speed: 1.0ms preprocess, 38.0ms inference, 2.0ms postprocess per image at shape (1, 3, 192, 320)\n",
      "\n",
      "0: 192x320 1 car, 44.8ms\n",
      "Speed: 1.0ms preprocess, 44.8ms inference, 2.2ms postprocess per image at shape (1, 3, 192, 320)\n",
      "\n"
     ]
    },
    {
     "name": "stdout",
     "output_type": "stream",
     "text": [
      "unique_id old 3 [0, 1, 1] 2 16072\n",
      "unique_id old 3 [0, 1, 1] 2 16073\n",
      "unique_id old 3 [0, 1, 1] 2 16074\n"
     ]
    },
    {
     "name": "stderr",
     "output_type": "stream",
     "text": [
      "0: 192x320 1 car, 41.7ms\n",
      "Speed: 1.0ms preprocess, 41.7ms inference, 2.0ms postprocess per image at shape (1, 3, 192, 320)\n",
      "\n",
      "0: 192x320 1 car, 40.1ms\n",
      "Speed: 1.0ms preprocess, 40.1ms inference, 2.0ms postprocess per image at shape (1, 3, 192, 320)\n",
      "\n",
      "0: 192x320 1 car, 38.9ms\n",
      "Speed: 1.0ms preprocess, 38.9ms inference, 3.0ms postprocess per image at shape (1, 3, 192, 320)\n",
      "\n",
      "0: 192x320 1 car, 38.7ms\n"
     ]
    },
    {
     "name": "stdout",
     "output_type": "stream",
     "text": [
      "unique_id old 3 [0, 1, 1] 2 16075\n",
      "unique_id old 3 [0, 1, 1] 2 16076\n",
      "unique_id old 3 [0, 1, 1] 2 16077\n"
     ]
    },
    {
     "name": "stderr",
     "output_type": "stream",
     "text": [
      "Speed: 0.9ms preprocess, 38.7ms inference, 1.9ms postprocess per image at shape (1, 3, 192, 320)\n",
      "\n",
      "0: 192x320 1 car, 39.1ms\n",
      "Speed: 1.0ms preprocess, 39.1ms inference, 2.0ms postprocess per image at shape (1, 3, 192, 320)\n",
      "\n",
      "0: 192x320 1 car, 44.1ms\n",
      "Speed: 1.0ms preprocess, 44.1ms inference, 2.0ms postprocess per image at shape (1, 3, 192, 320)\n",
      "\n",
      "0: 192x320 1 car, 41.5ms\n"
     ]
    },
    {
     "name": "stdout",
     "output_type": "stream",
     "text": [
      "unique_id old 3 [0, 1, 1] 2 16078\n",
      "unique_id old 3 [0, 1, 1] 2 16079\n",
      "unique_id old 3 [0, 1, 1] 2 16080\n"
     ]
    },
    {
     "name": "stderr",
     "output_type": "stream",
     "text": [
      "Speed: 1.0ms preprocess, 41.5ms inference, 2.0ms postprocess per image at shape (1, 3, 192, 320)\n",
      "\n",
      "0: 192x320 1 car, 38.0ms\n",
      "Speed: 1.0ms preprocess, 38.0ms inference, 2.0ms postprocess per image at shape (1, 3, 192, 320)\n",
      "\n",
      "0: 192x320 1 car, 40.5ms\n",
      "Speed: 0.9ms preprocess, 40.5ms inference, 2.0ms postprocess per image at shape (1, 3, 192, 320)\n",
      "\n"
     ]
    },
    {
     "name": "stdout",
     "output_type": "stream",
     "text": [
      "unique_id old 3 [0, 1, 1] 2 16081\n",
      "unique_id old 3 [0, 1, 1] 2 16082\n",
      "unique_id old 3 [0, 1, 1] 2 16083\n"
     ]
    },
    {
     "name": "stderr",
     "output_type": "stream",
     "text": [
      "0: 192x320 1 car, 44.7ms\n",
      "Speed: 1.0ms preprocess, 44.7ms inference, 2.9ms postprocess per image at shape (1, 3, 192, 320)\n",
      "\n",
      "0: 192x320 1 car, 40.6ms\n",
      "Speed: 1.0ms preprocess, 40.6ms inference, 2.0ms postprocess per image at shape (1, 3, 192, 320)\n",
      "\n",
      "0: 192x320 1 car, 41.0ms\n",
      "Speed: 1.0ms preprocess, 41.0ms inference, 2.0ms postprocess per image at shape (1, 3, 192, 320)\n",
      "\n",
      "0: 192x320 1 car, 42.0ms\n"
     ]
    },
    {
     "name": "stdout",
     "output_type": "stream",
     "text": [
      "unique_id old 3 [0, 1, 1] 2 16084\n",
      "unique_id old 3 [0, 1, 1] 2 16085\n",
      "unique_id old 3 [0, 1, 1] 2 16086\n"
     ]
    },
    {
     "name": "stderr",
     "output_type": "stream",
     "text": [
      "Speed: 0.0ms preprocess, 42.0ms inference, 2.0ms postprocess per image at shape (1, 3, 192, 320)\n",
      "\n",
      "0: 192x320 1 car, 41.5ms\n",
      "Speed: 1.0ms preprocess, 41.5ms inference, 2.0ms postprocess per image at shape (1, 3, 192, 320)\n",
      "\n",
      "0: 192x320 1 car, 42.1ms\n",
      "Speed: 0.0ms preprocess, 42.1ms inference, 2.0ms postprocess per image at shape (1, 3, 192, 320)\n",
      "\n"
     ]
    },
    {
     "name": "stdout",
     "output_type": "stream",
     "text": [
      "unique_id old 3 [0, 1, 1] 2 16087\n",
      "unique_id old 3 [0, 1, 1] 2 16088\n",
      "unique_id old 3 [0, 1, 1] 2 16089\n"
     ]
    },
    {
     "name": "stderr",
     "output_type": "stream",
     "text": [
      "0: 192x320 1 car, 39.1ms\n",
      "Speed: 1.0ms preprocess, 39.1ms inference, 1.9ms postprocess per image at shape (1, 3, 192, 320)\n",
      "\n",
      "0: 192x320 1 car, 39.6ms\n",
      "Speed: 0.0ms preprocess, 39.6ms inference, 2.0ms postprocess per image at shape (1, 3, 192, 320)\n",
      "\n",
      "0: 192x320 1 car, 39.0ms\n",
      "Speed: 1.1ms preprocess, 39.0ms inference, 1.0ms postprocess per image at shape (1, 3, 192, 320)\n",
      "\n"
     ]
    },
    {
     "name": "stdout",
     "output_type": "stream",
     "text": [
      "unique_id old 3 [0, 1, 1] 2 16090\n",
      "unique_id old 3 [0, 1, 1] 2 16091\n",
      "unique_id old 3 [0, 1, 1] 2 16092\n"
     ]
    },
    {
     "name": "stderr",
     "output_type": "stream",
     "text": [
      "0: 192x320 1 car, 45.1ms\n",
      "Speed: 1.0ms preprocess, 45.1ms inference, 2.0ms postprocess per image at shape (1, 3, 192, 320)\n",
      "\n",
      "0: 192x320 1 car, 39.6ms\n",
      "Speed: 1.0ms preprocess, 39.6ms inference, 2.0ms postprocess per image at shape (1, 3, 192, 320)\n",
      "\n",
      "0: 192x320 1 car, 42.8ms\n",
      "Speed: 1.0ms preprocess, 42.8ms inference, 1.0ms postprocess per image at shape (1, 3, 192, 320)\n",
      "\n"
     ]
    },
    {
     "name": "stdout",
     "output_type": "stream",
     "text": [
      "unique_id old 3 [0, 1, 1] 2 16093\n",
      "unique_id old 3 [0, 1, 1] 2 16094\n",
      "unique_id old 3 [0, 1, 1] 2 16095\n"
     ]
    },
    {
     "name": "stderr",
     "output_type": "stream",
     "text": [
      "0: 192x320 1 car, 39.0ms\n",
      "Speed: 1.0ms preprocess, 39.0ms inference, 1.0ms postprocess per image at shape (1, 3, 192, 320)\n",
      "\n",
      "0: 192x320 1 car, 42.0ms\n",
      "Speed: 0.5ms preprocess, 42.0ms inference, 3.0ms postprocess per image at shape (1, 3, 192, 320)\n",
      "\n",
      "0: 192x320 1 car, 44.2ms\n",
      "Speed: 0.0ms preprocess, 44.2ms inference, 2.0ms postprocess per image at shape (1, 3, 192, 320)\n",
      "\n"
     ]
    },
    {
     "name": "stdout",
     "output_type": "stream",
     "text": [
      "unique_id old 3 [0, 1, 1] 2 16096\n",
      "unique_id old 3 [0, 1, 1] 2 16097\n",
      "unique_id old 3 [0, 1, 1] 2 16098\n"
     ]
    },
    {
     "name": "stderr",
     "output_type": "stream",
     "text": [
      "0: 192x320 1 car, 40.0ms\n",
      "Speed: 1.0ms preprocess, 40.0ms inference, 2.0ms postprocess per image at shape (1, 3, 192, 320)\n",
      "\n",
      "0: 192x320 1 car, 41.0ms\n",
      "Speed: 1.0ms preprocess, 41.0ms inference, 2.0ms postprocess per image at shape (1, 3, 192, 320)\n",
      "\n",
      "0: 192x320 1 car, 40.6ms\n",
      "Speed: 1.0ms preprocess, 40.6ms inference, 1.9ms postprocess per image at shape (1, 3, 192, 320)\n",
      "\n",
      "0: 192x320 1 car, 40.6ms\n"
     ]
    },
    {
     "name": "stdout",
     "output_type": "stream",
     "text": [
      "unique_id old 3 [0, 1, 1] 2 16099\n",
      "unique_id old 3 [0, 1, 1] 2 16100\n",
      "unique_id old 3 25 [0, 1, 1] 2 16100\n",
      "unique_id old 3 [0, 1, 1] 2 16101\n"
     ]
    },
    {
     "name": "stderr",
     "output_type": "stream",
     "text": [
      "Speed: 1.0ms preprocess, 40.6ms inference, 2.2ms postprocess per image at shape (1, 3, 192, 320)\n",
      "\n",
      "0: 192x320 1 car, 44.0ms\n",
      "Speed: 1.0ms preprocess, 44.0ms inference, 2.0ms postprocess per image at shape (1, 3, 192, 320)\n",
      "\n",
      "0: 192x320 1 car, 40.1ms\n",
      "Speed: 1.0ms preprocess, 40.1ms inference, 2.0ms postprocess per image at shape (1, 3, 192, 320)\n",
      "\n"
     ]
    },
    {
     "name": "stdout",
     "output_type": "stream",
     "text": [
      "unique_id old 3 [0, 1, 1] 2 16102\n",
      "unique_id old 3 [0, 1, 1] 2 16103\n",
      "unique_id old 3 [0, 1, 1] 2 16104\n"
     ]
    },
    {
     "name": "stderr",
     "output_type": "stream",
     "text": [
      "0: 192x320 1 car, 38.6ms\n",
      "Speed: 1.0ms preprocess, 38.6ms inference, 3.0ms postprocess per image at shape (1, 3, 192, 320)\n",
      "\n",
      "0: 192x320 1 car, 41.4ms\n",
      "Speed: 0.0ms preprocess, 41.4ms inference, 2.1ms postprocess per image at shape (1, 3, 192, 320)\n",
      "\n",
      "0: 192x320 1 car, 42.0ms\n",
      "Speed: 1.0ms preprocess, 42.0ms inference, 1.9ms postprocess per image at shape (1, 3, 192, 320)\n",
      "\n"
     ]
    },
    {
     "name": "stdout",
     "output_type": "stream",
     "text": [
      "unique_id old 3 [0, 1, 1] 2 16105\n",
      "unique_id old 3 [0, 1, 1] 2 16106\n",
      "unique_id old 3 [0, 1, 1] 2 16107\n"
     ]
    },
    {
     "name": "stderr",
     "output_type": "stream",
     "text": [
      "0: 192x320 1 car, 39.3ms\n",
      "Speed: 0.0ms preprocess, 39.3ms inference, 1.0ms postprocess per image at shape (1, 3, 192, 320)\n",
      "\n",
      "0: 192x320 1 car, 42.0ms\n",
      "Speed: 0.0ms preprocess, 42.0ms inference, 2.0ms postprocess per image at shape (1, 3, 192, 320)\n",
      "\n",
      "0: 192x320 1 car, 41.4ms\n",
      "Speed: 0.9ms preprocess, 41.4ms inference, 2.0ms postprocess per image at shape (1, 3, 192, 320)\n",
      "\n",
      "0: 192x320 1 car, 40.5ms\n"
     ]
    },
    {
     "name": "stdout",
     "output_type": "stream",
     "text": [
      "unique_id old 3 [0, 1, 1] 2 16108\n",
      "unique_id old 3 [0, 1, 1] 2 16109\n",
      "unique_id old 3 [0, 1, 1] 2 16110\n"
     ]
    },
    {
     "name": "stderr",
     "output_type": "stream",
     "text": [
      "Speed: 1.0ms preprocess, 40.5ms inference, 2.0ms postprocess per image at shape (1, 3, 192, 320)\n",
      "\n",
      "0: 192x320 1 car, 41.4ms\n",
      "Speed: 0.0ms preprocess, 41.4ms inference, 1.9ms postprocess per image at shape (1, 3, 192, 320)\n",
      "\n",
      "0: 192x320 1 car, 41.0ms\n",
      "Speed: 1.0ms preprocess, 41.0ms inference, 2.0ms postprocess per image at shape (1, 3, 192, 320)\n",
      "\n"
     ]
    },
    {
     "name": "stdout",
     "output_type": "stream",
     "text": [
      "unique_id old 3 [0, 1, 1] 2 16111\n",
      "unique_id old 3 [0, 1, 1] 2 16112\n",
      "unique_id old 3 [0, 1, 1] 2 16113\n"
     ]
    },
    {
     "name": "stderr",
     "output_type": "stream",
     "text": [
      "0: 192x320 1 car, 37.1ms\n",
      "Speed: 1.0ms preprocess, 37.1ms inference, 1.9ms postprocess per image at shape (1, 3, 192, 320)\n",
      "\n",
      "0: 192x320 1 car, 39.5ms\n",
      "Speed: 1.0ms preprocess, 39.5ms inference, 1.0ms postprocess per image at shape (1, 3, 192, 320)\n",
      "\n",
      "0: 192x320 1 car, 38.1ms\n",
      "Speed: 1.0ms preprocess, 38.1ms inference, 2.0ms postprocess per image at shape (1, 3, 192, 320)\n",
      "\n"
     ]
    },
    {
     "name": "stdout",
     "output_type": "stream",
     "text": [
      "unique_id old 3 [0, 1, 1] 2 16114\n",
      "unique_id old 3 [0, 1, 1] 2 16115\n",
      "unique_id old 3 [0, 1, 1] 2 16116\n"
     ]
    },
    {
     "name": "stderr",
     "output_type": "stream",
     "text": [
      "0: 192x320 1 car, 46.0ms\n",
      "Speed: 0.0ms preprocess, 46.0ms inference, 2.0ms postprocess per image at shape (1, 3, 192, 320)\n",
      "\n",
      "0: 192x320 1 car, 41.9ms\n",
      "Speed: 1.0ms preprocess, 41.9ms inference, 1.9ms postprocess per image at shape (1, 3, 192, 320)\n",
      "\n",
      "0: 192x320 1 car, 39.0ms\n",
      "Speed: 1.0ms preprocess, 39.0ms inference, 2.0ms postprocess per image at shape (1, 3, 192, 320)\n",
      "\n"
     ]
    },
    {
     "name": "stdout",
     "output_type": "stream",
     "text": [
      "unique_id old 3 [0, 1, 1] 2 16117\n",
      "unique_id old 3 [0, 1, 1] 2 16118\n",
      "unique_id old 3 [0, 1, 1] 2 16119\n"
     ]
    },
    {
     "name": "stderr",
     "output_type": "stream",
     "text": [
      "0: 192x320 1 car, 41.0ms\n",
      "Speed: 1.0ms preprocess, 41.0ms inference, 2.1ms postprocess per image at shape (1, 3, 192, 320)\n",
      "\n",
      "0: 192x320 1 car, 37.5ms\n",
      "Speed: 1.0ms preprocess, 37.5ms inference, 2.0ms postprocess per image at shape (1, 3, 192, 320)\n",
      "\n",
      "0: 192x320 1 car, 39.0ms\n",
      "Speed: 1.0ms preprocess, 39.0ms inference, 3.5ms postprocess per image at shape (1, 3, 192, 320)\n",
      "\n",
      "0: 192x320 1 car, 42.0ms\n"
     ]
    },
    {
     "name": "stdout",
     "output_type": "stream",
     "text": [
      "unique_id old 3 [0, 1, 1] 2 16120\n",
      "unique_id old 3 [0, 1, 1] 2 16121\n",
      "unique_id old 3 [0, 1, 1] 2 16122\n"
     ]
    },
    {
     "name": "stderr",
     "output_type": "stream",
     "text": [
      "Speed: 1.0ms preprocess, 42.0ms inference, 2.0ms postprocess per image at shape (1, 3, 192, 320)\n",
      "\n",
      "0: 192x320 1 car, 40.0ms\n",
      "Speed: 2.0ms preprocess, 40.0ms inference, 2.0ms postprocess per image at shape (1, 3, 192, 320)\n",
      "\n",
      "0: 192x320 1 car, 44.7ms\n",
      "Speed: 1.0ms preprocess, 44.7ms inference, 2.0ms postprocess per image at shape (1, 3, 192, 320)\n",
      "\n"
     ]
    },
    {
     "name": "stdout",
     "output_type": "stream",
     "text": [
      "unique_id old 3 [0, 1, 1] 2 16123\n",
      "unique_id old 3 [0, 1, 1] 2 16124\n",
      "unique_id old 3 [0, 1, 1] 2 16125\n"
     ]
    },
    {
     "name": "stderr",
     "output_type": "stream",
     "text": [
      "0: 192x320 1 car, 39.0ms\n",
      "Speed: 0.0ms preprocess, 39.0ms inference, 2.0ms postprocess per image at shape (1, 3, 192, 320)\n",
      "\n",
      "0: 192x320 1 car, 44.4ms\n",
      "Speed: 0.5ms preprocess, 44.4ms inference, 2.0ms postprocess per image at shape (1, 3, 192, 320)\n",
      "\n",
      "0: 192x320 1 car, 44.6ms\n",
      "Speed: 1.1ms preprocess, 44.6ms inference, 1.9ms postprocess per image at shape (1, 3, 192, 320)\n",
      "\n"
     ]
    },
    {
     "name": "stdout",
     "output_type": "stream",
     "text": [
      "unique_id old 3 [0, 1, 1] 2 16126\n",
      "unique_id old 3 [0, 1, 1] 2 16127\n",
      "unique_id old 3 [0, 1, 1] 2 16128\n"
     ]
    },
    {
     "name": "stderr",
     "output_type": "stream",
     "text": [
      "0: 192x320 1 car, 42.8ms\n",
      "Speed: 1.1ms preprocess, 42.8ms inference, 2.9ms postprocess per image at shape (1, 3, 192, 320)\n",
      "\n",
      "0: 192x320 1 car, 38.0ms\n",
      "Speed: 1.0ms preprocess, 38.0ms inference, 2.9ms postprocess per image at shape (1, 3, 192, 320)\n",
      "\n",
      "0: 192x320 1 car, 46.0ms\n",
      "Speed: 1.0ms preprocess, 46.0ms inference, 2.0ms postprocess per image at shape (1, 3, 192, 320)\n",
      "\n"
     ]
    },
    {
     "name": "stdout",
     "output_type": "stream",
     "text": [
      "unique_id old 3 [0, 1, 1] 2 16129\n",
      "unique_id old 3 [0, 1, 1] 2 16130\n",
      "unique_id old 3 [0, 1, 1] 2 16131\n"
     ]
    },
    {
     "name": "stderr",
     "output_type": "stream",
     "text": [
      "0: 192x320 1 car, 40.6ms\n",
      "Speed: 1.0ms preprocess, 40.6ms inference, 2.0ms postprocess per image at shape (1, 3, 192, 320)\n",
      "\n",
      "0: 192x320 1 car, 45.0ms\n",
      "Speed: 1.0ms preprocess, 45.0ms inference, 1.0ms postprocess per image at shape (1, 3, 192, 320)\n",
      "\n",
      "0: 192x320 1 car, 43.0ms\n",
      "Speed: 1.0ms preprocess, 43.0ms inference, 2.0ms postprocess per image at shape (1, 3, 192, 320)\n",
      "\n"
     ]
    },
    {
     "name": "stdout",
     "output_type": "stream",
     "text": [
      "unique_id old 3 [0, 1, 1] 2 16132\n",
      "unique_id old 3 [0, 1, 1] 2 16133\n",
      "unique_id old 3 [0, 1, 1] 2 16134\n"
     ]
    },
    {
     "name": "stderr",
     "output_type": "stream",
     "text": [
      "0: 192x320 1 car, 45.5ms\n",
      "Speed: 1.0ms preprocess, 45.5ms inference, 2.0ms postprocess per image at shape (1, 3, 192, 320)\n",
      "\n",
      "0: 192x320 1 car, 42.1ms\n",
      "Speed: 1.0ms preprocess, 42.1ms inference, 2.0ms postprocess per image at shape (1, 3, 192, 320)\n",
      "\n",
      "0: 192x320 1 car, 41.0ms\n",
      "Speed: 1.0ms preprocess, 41.0ms inference, 1.0ms postprocess per image at shape (1, 3, 192, 320)\n",
      "\n"
     ]
    },
    {
     "name": "stdout",
     "output_type": "stream",
     "text": [
      "unique_id old 3 [0, 1, 1] 2 16135\n",
      "unique_id old 3 [0, 1, 1] 2 16136\n",
      "unique_id old 3 [0, 1, 1] 2 16137\n"
     ]
    },
    {
     "name": "stderr",
     "output_type": "stream",
     "text": [
      "0: 192x320 1 car, 41.0ms\n",
      "Speed: 1.0ms preprocess, 41.0ms inference, 2.0ms postprocess per image at shape (1, 3, 192, 320)\n",
      "\n",
      "0: 192x320 1 car, 41.1ms\n",
      "Speed: 1.0ms preprocess, 41.1ms inference, 2.0ms postprocess per image at shape (1, 3, 192, 320)\n",
      "\n",
      "0: 192x320 1 car, 41.8ms\n",
      "Speed: 1.1ms preprocess, 41.8ms inference, 1.5ms postprocess per image at shape (1, 3, 192, 320)\n",
      "\n",
      "0: 192x320 1 car, 41.2ms\n"
     ]
    },
    {
     "name": "stdout",
     "output_type": "stream",
     "text": [
      "unique_id old 3 [0, 1, 1] 2 16138\n",
      "unique_id old 3 [0, 1, 1] 2 16139\n",
      "unique_id old 3 [0, 1, 1] 2 16140\n"
     ]
    },
    {
     "name": "stderr",
     "output_type": "stream",
     "text": [
      "Speed: 1.0ms preprocess, 41.2ms inference, 2.0ms postprocess per image at shape (1, 3, 192, 320)\n",
      "\n",
      "0: 192x320 1 car, 41.0ms\n",
      "Speed: 1.0ms preprocess, 41.0ms inference, 3.0ms postprocess per image at shape (1, 3, 192, 320)\n",
      "\n",
      "0: 192x320 1 car, 42.8ms\n",
      "Speed: 1.0ms preprocess, 42.8ms inference, 2.0ms postprocess per image at shape (1, 3, 192, 320)\n",
      "\n"
     ]
    },
    {
     "name": "stdout",
     "output_type": "stream",
     "text": [
      "unique_id old 3 [0, 1, 1] 2 16141\n",
      "unique_id old 3 [0, 1, 1] 2 16142\n",
      "unique_id old 3 [0, 1, 1] 2 16143\n"
     ]
    },
    {
     "name": "stderr",
     "output_type": "stream",
     "text": [
      "0: 192x320 1 car, 40.2ms\n",
      "Speed: 1.0ms preprocess, 40.2ms inference, 1.0ms postprocess per image at shape (1, 3, 192, 320)\n",
      "\n",
      "0: 192x320 1 car, 43.1ms\n",
      "Speed: 2.0ms preprocess, 43.1ms inference, 2.0ms postprocess per image at shape (1, 3, 192, 320)\n",
      "\n",
      "0: 192x320 1 car, 42.0ms\n",
      "Speed: 0.6ms preprocess, 42.0ms inference, 2.0ms postprocess per image at shape (1, 3, 192, 320)\n",
      "\n"
     ]
    },
    {
     "name": "stdout",
     "output_type": "stream",
     "text": [
      "unique_id old 3 [0, 1, 1] 2 16144\n",
      "unique_id old 3 [0, 1, 1] 2 16145\n",
      "unique_id old 3 [0, 1, 1] 2 16146\n"
     ]
    },
    {
     "name": "stderr",
     "output_type": "stream",
     "text": [
      "0: 192x320 1 car, 46.9ms\n",
      "Speed: 1.0ms preprocess, 46.9ms inference, 2.0ms postprocess per image at shape (1, 3, 192, 320)\n",
      "\n",
      "0: 192x320 1 car, 36.0ms\n",
      "Speed: 1.1ms preprocess, 36.0ms inference, 3.1ms postprocess per image at shape (1, 3, 192, 320)\n",
      "\n",
      "0: 192x320 1 car, 44.0ms\n",
      "Speed: 2.0ms preprocess, 44.0ms inference, 2.0ms postprocess per image at shape (1, 3, 192, 320)\n",
      "\n",
      "0: 192x320 1 car, 41.6ms\n"
     ]
    },
    {
     "name": "stdout",
     "output_type": "stream",
     "text": [
      "unique_id old 3 [0, 1, 1] 2 16147\n",
      "unique_id old 3 [0, 1, 1] 2 16148\n",
      "unique_id old 3 [0, 1, 1] 2 16149\n"
     ]
    },
    {
     "name": "stderr",
     "output_type": "stream",
     "text": [
      "Speed: 1.0ms preprocess, 41.6ms inference, 2.1ms postprocess per image at shape (1, 3, 192, 320)\n",
      "\n",
      "0: 192x320 1 car, 43.7ms\n",
      "Speed: 1.0ms preprocess, 43.7ms inference, 2.1ms postprocess per image at shape (1, 3, 192, 320)\n",
      "\n",
      "0: 192x320 1 car, 38.1ms\n",
      "Speed: 0.9ms preprocess, 38.1ms inference, 2.0ms postprocess per image at shape (1, 3, 192, 320)\n",
      "\n"
     ]
    },
    {
     "name": "stdout",
     "output_type": "stream",
     "text": [
      "unique_id old 3 [0, 1, 1] 2 16150\n",
      "unique_id old 3 [0, 1, 1] 2 16151\n",
      "unique_id old 3 [0, 1, 1] 2 16152\n"
     ]
    },
    {
     "name": "stderr",
     "output_type": "stream",
     "text": [
      "0: 192x320 1 car, 43.1ms\n",
      "Speed: 0.0ms preprocess, 43.1ms inference, 2.0ms postprocess per image at shape (1, 3, 192, 320)\n",
      "\n",
      "0: 192x320 1 car, 45.9ms\n",
      "Speed: 2.0ms preprocess, 45.9ms inference, 1.9ms postprocess per image at shape (1, 3, 192, 320)\n",
      "\n",
      "0: 192x320 1 car, 41.9ms\n",
      "Speed: 0.6ms preprocess, 41.9ms inference, 2.0ms postprocess per image at shape (1, 3, 192, 320)\n",
      "\n"
     ]
    },
    {
     "name": "stdout",
     "output_type": "stream",
     "text": [
      "unique_id old 3 [0, 1, 1] 2 16153\n",
      "unique_id old 3 [0, 1, 1] 2 16154\n",
      "unique_id old 3 [0, 1, 1] 2 16155\n"
     ]
    },
    {
     "name": "stderr",
     "output_type": "stream",
     "text": [
      "0: 192x320 1 car, 41.9ms\n",
      "Speed: 1.1ms preprocess, 41.9ms inference, 1.1ms postprocess per image at shape (1, 3, 192, 320)\n",
      "\n",
      "0: 192x320 (no detections), 38.8ms\n",
      "Speed: 0.0ms preprocess, 38.8ms inference, 1.9ms postprocess per image at shape (1, 3, 192, 320)\n",
      "\n",
      "0: 192x320 (no detections), 43.1ms\n",
      "Speed: 1.0ms preprocess, 43.1ms inference, 2.0ms postprocess per image at shape (1, 3, 192, 320)\n",
      "\n",
      "0: 192x320 (no detections), 43.0ms\n",
      "Speed: 0.9ms preprocess, 43.0ms inference, 1.0ms postprocess per image at shape (1, 3, 192, 320)\n",
      "\n"
     ]
    },
    {
     "name": "stdout",
     "output_type": "stream",
     "text": [
      "unique_id old 3 [0, 1, 1] 2 16156\n"
     ]
    },
    {
     "name": "stderr",
     "output_type": "stream",
     "text": [
      "0: 192x320 1 car, 42.0ms\n",
      "Speed: 1.0ms preprocess, 42.0ms inference, 4.0ms postprocess per image at shape (1, 3, 192, 320)\n",
      "\n",
      "0: 192x320 1 car, 40.0ms\n",
      "Speed: 1.0ms preprocess, 40.0ms inference, 2.0ms postprocess per image at shape (1, 3, 192, 320)\n",
      "\n",
      "0: 192x320 1 car, 41.0ms\n",
      "Speed: 2.0ms preprocess, 41.0ms inference, 2.0ms postprocess per image at shape (1, 3, 192, 320)\n",
      "\n"
     ]
    },
    {
     "name": "stdout",
     "output_type": "stream",
     "text": [
      "unique_id old 3 [0, 1, 1] 2 16160\n",
      "unique_id old 3 [0, 1, 1] 2 16161\n",
      "unique_id old 3 [0, 1, 1] 2 16162\n"
     ]
    },
    {
     "name": "stderr",
     "output_type": "stream",
     "text": [
      "0: 192x320 1 car, 42.0ms\n",
      "Speed: 1.0ms preprocess, 42.0ms inference, 1.1ms postprocess per image at shape (1, 3, 192, 320)\n",
      "\n",
      "0: 192x320 1 car, 41.1ms\n",
      "Speed: 1.0ms preprocess, 41.1ms inference, 1.0ms postprocess per image at shape (1, 3, 192, 320)\n",
      "\n",
      "0: 192x320 1 car, 38.4ms\n",
      "Speed: 1.3ms preprocess, 38.4ms inference, 2.0ms postprocess per image at shape (1, 3, 192, 320)\n",
      "\n",
      "0: 192x320 1 car, 40.6ms\n"
     ]
    },
    {
     "name": "stdout",
     "output_type": "stream",
     "text": [
      "unique_id old 3 [0, 1, 1] 2 16163\n",
      "unique_id old 3 [0, 1, 1] 2 16164\n",
      "unique_id old 3 [0, 1, 1] 2 16165\n"
     ]
    },
    {
     "name": "stderr",
     "output_type": "stream",
     "text": [
      "Speed: 1.1ms preprocess, 40.6ms inference, 2.0ms postprocess per image at shape (1, 3, 192, 320)\n",
      "\n",
      "0: 192x320 1 car, 45.9ms\n",
      "Speed: 0.9ms preprocess, 45.9ms inference, 2.0ms postprocess per image at shape (1, 3, 192, 320)\n",
      "\n",
      "0: 192x320 1 car, 45.1ms\n",
      "Speed: 0.9ms preprocess, 45.1ms inference, 2.0ms postprocess per image at shape (1, 3, 192, 320)\n",
      "\n"
     ]
    },
    {
     "name": "stdout",
     "output_type": "stream",
     "text": [
      "unique_id old 3 [0, 1, 1] 2 16166\n",
      "unique_id old 3 [0, 1, 1] 2 16167\n",
      "unique_id old 3 [0, 1, 1] 2 16168\n"
     ]
    },
    {
     "name": "stderr",
     "output_type": "stream",
     "text": [
      "0: 192x320 1 car, 43.9ms\n",
      "Speed: 1.0ms preprocess, 43.9ms inference, 1.0ms postprocess per image at shape (1, 3, 192, 320)\n",
      "\n",
      "0: 192x320 1 car, 40.7ms\n",
      "Speed: 1.1ms preprocess, 40.7ms inference, 1.0ms postprocess per image at shape (1, 3, 192, 320)\n",
      "\n",
      "0: 192x320 1 car, 42.2ms\n",
      "Speed: 0.9ms preprocess, 42.2ms inference, 1.7ms postprocess per image at shape (1, 3, 192, 320)\n",
      "\n",
      "0: 192x320 1 car, 43.0ms\n"
     ]
    },
    {
     "name": "stdout",
     "output_type": "stream",
     "text": [
      "unique_id old 3 [0, 1, 1] 2 16169\n",
      "unique_id old 3 [0, 1, 1] 2 16170\n",
      "unique_id old 3 [0, 1, 1] 2 16171\n"
     ]
    },
    {
     "name": "stderr",
     "output_type": "stream",
     "text": [
      "Speed: 2.0ms preprocess, 43.0ms inference, 2.0ms postprocess per image at shape (1, 3, 192, 320)\n",
      "\n",
      "0: 192x320 1 car, 40.0ms\n",
      "Speed: 1.0ms preprocess, 40.0ms inference, 1.9ms postprocess per image at shape (1, 3, 192, 320)\n",
      "\n",
      "0: 192x320 1 car, 40.8ms\n",
      "Speed: 2.0ms preprocess, 40.8ms inference, 2.0ms postprocess per image at shape (1, 3, 192, 320)\n",
      "\n"
     ]
    },
    {
     "name": "stdout",
     "output_type": "stream",
     "text": [
      "unique_id old 3 [0, 1, 1] 2 16172\n",
      "unique_id old 3 [0, 1, 1] 2 16173\n",
      "unique_id old 3 [0, 1, 1] 2 16174\n"
     ]
    },
    {
     "name": "stderr",
     "output_type": "stream",
     "text": [
      "0: 192x320 1 car, 44.2ms\n",
      "Speed: 1.0ms preprocess, 44.2ms inference, 3.0ms postprocess per image at shape (1, 3, 192, 320)\n",
      "\n",
      "0: 192x320 1 car, 37.6ms\n",
      "Speed: 0.6ms preprocess, 37.6ms inference, 2.0ms postprocess per image at shape (1, 3, 192, 320)\n",
      "\n",
      "0: 192x320 1 car, 39.8ms\n",
      "Speed: 1.1ms preprocess, 39.8ms inference, 1.0ms postprocess per image at shape (1, 3, 192, 320)\n",
      "\n"
     ]
    },
    {
     "name": "stdout",
     "output_type": "stream",
     "text": [
      "unique_id old 3 [0, 1, 1] 2 16175\n",
      "unique_id old 3 [0, 1, 1] 2 16176\n",
      "unique_id old 3 [0, 1, 1] 2 16177\n"
     ]
    },
    {
     "name": "stderr",
     "output_type": "stream",
     "text": [
      "0: 192x320 1 car, 42.1ms\n",
      "Speed: 1.0ms preprocess, 42.1ms inference, 2.0ms postprocess per image at shape (1, 3, 192, 320)\n",
      "\n",
      "0: 192x320 1 car, 40.0ms\n",
      "Speed: 1.0ms preprocess, 40.0ms inference, 2.0ms postprocess per image at shape (1, 3, 192, 320)\n",
      "\n",
      "0: 192x320 1 car, 45.2ms\n",
      "Speed: 1.6ms preprocess, 45.2ms inference, 1.0ms postprocess per image at shape (1, 3, 192, 320)\n",
      "\n"
     ]
    },
    {
     "name": "stdout",
     "output_type": "stream",
     "text": [
      "unique_id old 3 [0, 1, 1] 2 16178\n",
      "unique_id old 3 [0, 1, 1] 2 16179\n",
      "unique_id old 3 [0, 1, 1] 2 16180\n"
     ]
    },
    {
     "name": "stderr",
     "output_type": "stream",
     "text": [
      "0: 192x320 1 car, 39.8ms\n",
      "Speed: 1.1ms preprocess, 39.8ms inference, 2.0ms postprocess per image at shape (1, 3, 192, 320)\n",
      "\n",
      "0: 192x320 1 car, 43.0ms\n",
      "Speed: 0.0ms preprocess, 43.0ms inference, 2.0ms postprocess per image at shape (1, 3, 192, 320)\n",
      "\n",
      "0: 192x320 1 car, 41.0ms\n",
      "Speed: 1.6ms preprocess, 41.0ms inference, 2.0ms postprocess per image at shape (1, 3, 192, 320)\n",
      "\n"
     ]
    },
    {
     "name": "stdout",
     "output_type": "stream",
     "text": [
      "unique_id old 3 [0, 1, 1] 2 16181\n",
      "unique_id old 3 [0, 1, 1] 2 16182\n",
      "unique_id old 3 [0, 1, 1] 2 16183\n"
     ]
    },
    {
     "name": "stderr",
     "output_type": "stream",
     "text": [
      "0: 192x320 1 car, 40.8ms\n",
      "Speed: 1.1ms preprocess, 40.8ms inference, 2.0ms postprocess per image at shape (1, 3, 192, 320)\n",
      "\n",
      "0: 192x320 1 car, 44.2ms\n",
      "Speed: 1.4ms preprocess, 44.2ms inference, 2.0ms postprocess per image at shape (1, 3, 192, 320)\n",
      "\n",
      "0: 192x320 1 car, 48.0ms\n",
      "Speed: 1.0ms preprocess, 48.0ms inference, 2.0ms postprocess per image at shape (1, 3, 192, 320)\n",
      "\n"
     ]
    },
    {
     "name": "stdout",
     "output_type": "stream",
     "text": [
      "unique_id old 3 [0, 1, 1] 2 16184\n",
      "unique_id old 3 [0, 1, 1] 2 16185\n",
      "unique_id old 3 [0, 1, 1] 2 16186\n"
     ]
    },
    {
     "name": "stderr",
     "output_type": "stream",
     "text": [
      "0: 192x320 1 car, 42.4ms\n",
      "Speed: 1.2ms preprocess, 42.4ms inference, 3.1ms postprocess per image at shape (1, 3, 192, 320)\n",
      "\n",
      "0: 192x320 1 car, 41.8ms\n",
      "Speed: 1.0ms preprocess, 41.8ms inference, 2.1ms postprocess per image at shape (1, 3, 192, 320)\n",
      "\n",
      "0: 192x320 1 car, 39.1ms\n",
      "Speed: 1.0ms preprocess, 39.1ms inference, 2.0ms postprocess per image at shape (1, 3, 192, 320)\n",
      "\n"
     ]
    },
    {
     "name": "stdout",
     "output_type": "stream",
     "text": [
      "unique_id old 3 [0, 1, 1] 2 16187\n",
      "unique_id old 3 [0, 1, 1] 2 16188\n",
      "unique_id old 3 [0, 1, 1] 2 16189\n"
     ]
    },
    {
     "name": "stderr",
     "output_type": "stream",
     "text": [
      "0: 192x320 1 car, 40.1ms\n",
      "Speed: 1.0ms preprocess, 40.1ms inference, 3.0ms postprocess per image at shape (1, 3, 192, 320)\n",
      "\n",
      "0: 192x320 1 car, 46.6ms\n",
      "Speed: 1.0ms preprocess, 46.6ms inference, 2.0ms postprocess per image at shape (1, 3, 192, 320)\n",
      "\n",
      "0: 192x320 1 car, 39.9ms\n",
      "Speed: 1.0ms preprocess, 39.9ms inference, 2.0ms postprocess per image at shape (1, 3, 192, 320)\n",
      "\n"
     ]
    },
    {
     "name": "stdout",
     "output_type": "stream",
     "text": [
      "unique_id old 3 [0, 1, 1] 2 16190\n",
      "unique_id old 3 [0, 1, 1] 2 16191\n",
      "unique_id old 3 [0, 1, 1] 2 16192\n"
     ]
    },
    {
     "name": "stderr",
     "output_type": "stream",
     "text": [
      "0: 192x320 1 car, 41.1ms\n",
      "Speed: 1.0ms preprocess, 41.1ms inference, 3.0ms postprocess per image at shape (1, 3, 192, 320)\n",
      "\n",
      "0: 192x320 1 car, 41.0ms\n",
      "Speed: 1.9ms preprocess, 41.0ms inference, 2.0ms postprocess per image at shape (1, 3, 192, 320)\n",
      "\n",
      "0: 192x320 1 car, 40.8ms\n",
      "Speed: 1.1ms preprocess, 40.8ms inference, 2.0ms postprocess per image at shape (1, 3, 192, 320)\n",
      "\n"
     ]
    },
    {
     "name": "stdout",
     "output_type": "stream",
     "text": [
      "unique_id old 3 [0, 1, 1] 2 16193\n",
      "unique_id old 3 [0, 1, 1] 2 16194\n",
      "unique_id old 3 [0, 1, 1] 2 16195\n"
     ]
    },
    {
     "name": "stderr",
     "output_type": "stream",
     "text": [
      "0: 192x320 1 car, 41.0ms\n",
      "Speed: 0.0ms preprocess, 41.0ms inference, 2.0ms postprocess per image at shape (1, 3, 192, 320)\n",
      "\n",
      "0: 192x320 1 car, 37.4ms\n",
      "Speed: 1.0ms preprocess, 37.4ms inference, 3.1ms postprocess per image at shape (1, 3, 192, 320)\n",
      "\n",
      "0: 192x320 1 car, 38.9ms\n",
      "Speed: 1.0ms preprocess, 38.9ms inference, 2.0ms postprocess per image at shape (1, 3, 192, 320)\n",
      "\n"
     ]
    },
    {
     "name": "stdout",
     "output_type": "stream",
     "text": [
      "unique_id old 3 [0, 1, 1] 2 16196\n",
      "unique_id old 3 [0, 1, 1] 2 16197\n",
      "unique_id old 3 [0, 1, 1] 2 16198\n"
     ]
    },
    {
     "name": "stderr",
     "output_type": "stream",
     "text": [
      "0: 192x320 1 car, 43.9ms\n",
      "Speed: 1.0ms preprocess, 43.9ms inference, 2.0ms postprocess per image at shape (1, 3, 192, 320)\n",
      "\n",
      "0: 192x320 1 car, 39.1ms\n",
      "Speed: 1.0ms preprocess, 39.1ms inference, 2.0ms postprocess per image at shape (1, 3, 192, 320)\n",
      "\n",
      "0: 192x320 1 car, 42.0ms\n",
      "Speed: 1.0ms preprocess, 42.0ms inference, 2.9ms postprocess per image at shape (1, 3, 192, 320)\n",
      "\n"
     ]
    },
    {
     "name": "stdout",
     "output_type": "stream",
     "text": [
      "unique_id old 3 [0, 1, 1] 2 16199\n",
      "unique_id old 3 [0, 1, 1] 2 16200\n",
      "unique_id old 3 25 [0, 1, 1] 2 16200\n",
      "unique_id old 3 [0, 1, 1] 2 16201\n"
     ]
    },
    {
     "name": "stderr",
     "output_type": "stream",
     "text": [
      "0: 192x320 1 car, 43.7ms\n",
      "Speed: 1.0ms preprocess, 43.7ms inference, 2.0ms postprocess per image at shape (1, 3, 192, 320)\n",
      "\n",
      "0: 192x320 1 car, 44.1ms\n",
      "Speed: 1.0ms preprocess, 44.1ms inference, 2.0ms postprocess per image at shape (1, 3, 192, 320)\n",
      "\n",
      "0: 192x320 1 car, 39.9ms\n",
      "Speed: 1.0ms preprocess, 39.9ms inference, 2.0ms postprocess per image at shape (1, 3, 192, 320)\n",
      "\n"
     ]
    },
    {
     "name": "stdout",
     "output_type": "stream",
     "text": [
      "unique_id old 3 [0, 1, 1] 2 16202\n",
      "unique_id old 3 [0, 1, 1] 2 16203\n",
      "unique_id old 3 [0, 1, 1] 2 16204\n"
     ]
    },
    {
     "name": "stderr",
     "output_type": "stream",
     "text": [
      "0: 192x320 1 car, 38.5ms\n",
      "Speed: 1.0ms preprocess, 38.5ms inference, 1.0ms postprocess per image at shape (1, 3, 192, 320)\n",
      "\n",
      "0: 192x320 1 car, 41.6ms\n",
      "Speed: 0.9ms preprocess, 41.6ms inference, 3.0ms postprocess per image at shape (1, 3, 192, 320)\n",
      "\n",
      "0: 192x320 1 car, 44.1ms\n",
      "Speed: 1.1ms preprocess, 44.1ms inference, 2.0ms postprocess per image at shape (1, 3, 192, 320)\n",
      "\n"
     ]
    },
    {
     "name": "stdout",
     "output_type": "stream",
     "text": [
      "unique_id old 3 [0, 1, 1] 2 16205\n",
      "unique_id old 3 [0, 1, 1] 2 16206\n",
      "unique_id old 3 [0, 1, 1] 2 16207\n"
     ]
    },
    {
     "name": "stderr",
     "output_type": "stream",
     "text": [
      "0: 192x320 1 car, 40.1ms\n",
      "Speed: 2.0ms preprocess, 40.1ms inference, 1.1ms postprocess per image at shape (1, 3, 192, 320)\n",
      "\n",
      "0: 192x320 1 car, 40.8ms\n",
      "Speed: 1.0ms preprocess, 40.8ms inference, 1.9ms postprocess per image at shape (1, 3, 192, 320)\n",
      "\n",
      "0: 192x320 1 car, 45.9ms\n",
      "Speed: 1.0ms preprocess, 45.9ms inference, 2.0ms postprocess per image at shape (1, 3, 192, 320)\n",
      "\n"
     ]
    },
    {
     "name": "stdout",
     "output_type": "stream",
     "text": [
      "unique_id old 3 [0, 1, 1] 2 16208\n",
      "unique_id old 3 [0, 1, 1] 2 16209\n",
      "unique_id old 3 [0, 1, 1] 2 16210\n"
     ]
    },
    {
     "name": "stderr",
     "output_type": "stream",
     "text": [
      "0: 192x320 1 car, 44.1ms\n",
      "Speed: 0.9ms preprocess, 44.1ms inference, 1.0ms postprocess per image at shape (1, 3, 192, 320)\n",
      "\n",
      "0: 192x320 1 car, 41.6ms\n",
      "Speed: 0.7ms preprocess, 41.6ms inference, 2.0ms postprocess per image at shape (1, 3, 192, 320)\n",
      "\n",
      "0: 192x320 1 car, 38.6ms\n",
      "Speed: 1.1ms preprocess, 38.6ms inference, 2.0ms postprocess per image at shape (1, 3, 192, 320)\n",
      "\n"
     ]
    },
    {
     "name": "stdout",
     "output_type": "stream",
     "text": [
      "unique_id old 3 [0, 1, 1] 2 16211\n",
      "unique_id old 3 [0, 1, 1] 2 16212\n",
      "unique_id old 3 [0, 1, 1] 2 16213\n"
     ]
    },
    {
     "name": "stderr",
     "output_type": "stream",
     "text": [
      "0: 192x320 1 car, 41.1ms\n",
      "Speed: 1.0ms preprocess, 41.1ms inference, 3.0ms postprocess per image at shape (1, 3, 192, 320)\n",
      "\n",
      "0: 192x320 1 car, 43.0ms\n",
      "Speed: 1.0ms preprocess, 43.0ms inference, 2.0ms postprocess per image at shape (1, 3, 192, 320)\n",
      "\n",
      "0: 192x320 1 car, 42.7ms\n",
      "Speed: 1.0ms preprocess, 42.7ms inference, 1.0ms postprocess per image at shape (1, 3, 192, 320)\n",
      "\n"
     ]
    },
    {
     "name": "stdout",
     "output_type": "stream",
     "text": [
      "unique_id old 3 [0, 1, 1] 2 16214\n",
      "unique_id old 3 [0, 1, 1] 2 16215\n",
      "unique_id old 3 [0, 1, 1] 2 16216\n"
     ]
    },
    {
     "name": "stderr",
     "output_type": "stream",
     "text": [
      "0: 192x320 1 car, 37.7ms\n",
      "Speed: 1.1ms preprocess, 37.7ms inference, 1.9ms postprocess per image at shape (1, 3, 192, 320)\n",
      "\n",
      "0: 192x320 1 car, 39.1ms\n",
      "Speed: 0.9ms preprocess, 39.1ms inference, 2.0ms postprocess per image at shape (1, 3, 192, 320)\n",
      "\n",
      "0: 192x320 1 car, 43.0ms\n",
      "Speed: 0.0ms preprocess, 43.0ms inference, 3.0ms postprocess per image at shape (1, 3, 192, 320)\n",
      "\n"
     ]
    },
    {
     "name": "stdout",
     "output_type": "stream",
     "text": [
      "unique_id old 3 [0, 1, 1] 2 16217\n",
      "unique_id old 3 [0, 1, 1] 2 16218\n",
      "unique_id old 3 [0, 1, 1] 2 16219\n"
     ]
    },
    {
     "name": "stderr",
     "output_type": "stream",
     "text": [
      "0: 192x320 1 car, 42.7ms\n",
      "Speed: 1.1ms preprocess, 42.7ms inference, 3.0ms postprocess per image at shape (1, 3, 192, 320)\n",
      "\n",
      "0: 192x320 1 car, 43.3ms\n",
      "Speed: 2.0ms preprocess, 43.3ms inference, 3.1ms postprocess per image at shape (1, 3, 192, 320)\n",
      "\n",
      "0: 192x320 1 car, 46.4ms\n",
      "Speed: 1.2ms preprocess, 46.4ms inference, 0.9ms postprocess per image at shape (1, 3, 192, 320)\n",
      "\n"
     ]
    },
    {
     "name": "stdout",
     "output_type": "stream",
     "text": [
      "unique_id old 3 [0, 1, 1] 2 16220\n",
      "unique_id old 3 [0, 1, 1] 2 16221\n",
      "unique_id old 3 [0, 1, 1] 2 16222\n"
     ]
    },
    {
     "name": "stderr",
     "output_type": "stream",
     "text": [
      "0: 192x320 1 car, 43.0ms\n",
      "Speed: 1.0ms preprocess, 43.0ms inference, 3.0ms postprocess per image at shape (1, 3, 192, 320)\n",
      "\n",
      "0: 192x320 1 car, 43.1ms\n",
      "Speed: 1.0ms preprocess, 43.1ms inference, 2.0ms postprocess per image at shape (1, 3, 192, 320)\n",
      "\n",
      "0: 192x320 1 car, 42.2ms\n",
      "Speed: 2.0ms preprocess, 42.2ms inference, 2.0ms postprocess per image at shape (1, 3, 192, 320)\n",
      "\n"
     ]
    },
    {
     "name": "stdout",
     "output_type": "stream",
     "text": [
      "unique_id old 3 [0, 1, 1] 2 16223\n",
      "unique_id old 3 [0, 1, 1] 2 16224\n",
      "unique_id old 3 [0, 1, 1] 2 16225\n"
     ]
    },
    {
     "name": "stderr",
     "output_type": "stream",
     "text": [
      "0: 192x320 1 car, 46.8ms\n",
      "Speed: 0.0ms preprocess, 46.8ms inference, 2.0ms postprocess per image at shape (1, 3, 192, 320)\n",
      "\n",
      "0: 192x320 1 car, 42.0ms\n",
      "Speed: 0.0ms preprocess, 42.0ms inference, 2.0ms postprocess per image at shape (1, 3, 192, 320)\n",
      "\n",
      "0: 192x320 1 car, 39.9ms\n",
      "Speed: 1.0ms preprocess, 39.9ms inference, 2.0ms postprocess per image at shape (1, 3, 192, 320)\n",
      "\n"
     ]
    },
    {
     "name": "stdout",
     "output_type": "stream",
     "text": [
      "unique_id old 3 [0, 1, 1] 2 16226\n",
      "unique_id old 3 [0, 1, 1] 2 16227\n",
      "unique_id old 3 [0, 1, 1] 2 16228\n"
     ]
    },
    {
     "name": "stderr",
     "output_type": "stream",
     "text": [
      "0: 192x320 1 car, 44.7ms\n",
      "Speed: 1.0ms preprocess, 44.7ms inference, 2.1ms postprocess per image at shape (1, 3, 192, 320)\n",
      "\n",
      "0: 192x320 1 car, 46.6ms\n",
      "Speed: 1.0ms preprocess, 46.6ms inference, 2.1ms postprocess per image at shape (1, 3, 192, 320)\n",
      "\n",
      "0: 192x320 1 car, 42.5ms\n",
      "Speed: 1.0ms preprocess, 42.5ms inference, 2.0ms postprocess per image at shape (1, 3, 192, 320)\n",
      "\n"
     ]
    },
    {
     "name": "stdout",
     "output_type": "stream",
     "text": [
      "unique_id old 3 [0, 1, 1] 2 16229\n",
      "unique_id old 3 [0, 1, 1] 2 16230\n",
      "unique_id old 3 [0, 1, 1] 2 16231\n"
     ]
    },
    {
     "name": "stderr",
     "output_type": "stream",
     "text": [
      "0: 192x320 1 car, 40.1ms\n",
      "Speed: 0.9ms preprocess, 40.1ms inference, 1.9ms postprocess per image at shape (1, 3, 192, 320)\n",
      "\n",
      "0: 192x320 1 car, 38.6ms\n",
      "Speed: 0.9ms preprocess, 38.6ms inference, 2.0ms postprocess per image at shape (1, 3, 192, 320)\n",
      "\n",
      "0: 192x320 1 car, 44.0ms\n",
      "Speed: 1.1ms preprocess, 44.0ms inference, 2.0ms postprocess per image at shape (1, 3, 192, 320)\n",
      "\n"
     ]
    },
    {
     "name": "stdout",
     "output_type": "stream",
     "text": [
      "unique_id old 3 [0, 1, 1] 2 16232\n",
      "unique_id old 3 [0, 1, 1] 2 16233\n",
      "unique_id old 3 [0, 1, 1] 2 16234\n"
     ]
    },
    {
     "name": "stderr",
     "output_type": "stream",
     "text": [
      "0: 192x320 1 car, 42.9ms\n",
      "Speed: 1.0ms preprocess, 42.9ms inference, 1.7ms postprocess per image at shape (1, 3, 192, 320)\n",
      "\n",
      "0: 192x320 1 car, 42.5ms\n",
      "Speed: 1.0ms preprocess, 42.5ms inference, 2.0ms postprocess per image at shape (1, 3, 192, 320)\n",
      "\n",
      "0: 192x320 1 car, 40.7ms\n",
      "Speed: 1.1ms preprocess, 40.7ms inference, 3.0ms postprocess per image at shape (1, 3, 192, 320)\n",
      "\n"
     ]
    },
    {
     "name": "stdout",
     "output_type": "stream",
     "text": [
      "unique_id old 3 [0, 1, 1] 2 16235\n",
      "unique_id old 3 [0, 1, 1] 2 16236\n",
      "unique_id old 3 [0, 1, 1] 2 16237\n"
     ]
    },
    {
     "name": "stderr",
     "output_type": "stream",
     "text": [
      "0: 192x320 1 car, 44.0ms\n",
      "Speed: 1.0ms preprocess, 44.0ms inference, 2.0ms postprocess per image at shape (1, 3, 192, 320)\n",
      "\n",
      "0: 192x320 1 car, 40.0ms\n",
      "Speed: 1.0ms preprocess, 40.0ms inference, 1.0ms postprocess per image at shape (1, 3, 192, 320)\n",
      "\n",
      "0: 192x320 1 car, 40.8ms\n",
      "Speed: 1.0ms preprocess, 40.8ms inference, 1.9ms postprocess per image at shape (1, 3, 192, 320)\n",
      "\n"
     ]
    },
    {
     "name": "stdout",
     "output_type": "stream",
     "text": [
      "unique_id old 3 [0, 1, 1] 2 16238\n",
      "unique_id old 3 [0, 1, 1] 2 16239\n",
      "unique_id old 3 [0, 1, 1] 2 16240\n"
     ]
    },
    {
     "name": "stderr",
     "output_type": "stream",
     "text": [
      "0: 192x320 1 car, 41.1ms\n",
      "Speed: 1.0ms preprocess, 41.1ms inference, 1.9ms postprocess per image at shape (1, 3, 192, 320)\n",
      "\n",
      "0: 192x320 1 car, 37.0ms\n",
      "Speed: 1.1ms preprocess, 37.0ms inference, 2.2ms postprocess per image at shape (1, 3, 192, 320)\n",
      "\n",
      "0: 192x320 1 car, 39.6ms\n",
      "Speed: 1.1ms preprocess, 39.6ms inference, 2.0ms postprocess per image at shape (1, 3, 192, 320)\n",
      "\n",
      "0: 192x320 1 car, 45.0ms\n"
     ]
    },
    {
     "name": "stdout",
     "output_type": "stream",
     "text": [
      "unique_id old 3 [0, 1, 1] 2 16241\n",
      "unique_id old 3 [0, 1, 1] 2 16242\n",
      "unique_id old 3 [0, 1, 1] 2 16243\n"
     ]
    },
    {
     "name": "stderr",
     "output_type": "stream",
     "text": [
      "Speed: 2.0ms preprocess, 45.0ms inference, 1.0ms postprocess per image at shape (1, 3, 192, 320)\n",
      "\n",
      "0: 192x320 1 car, 42.2ms\n",
      "Speed: 1.1ms preprocess, 42.2ms inference, 2.0ms postprocess per image at shape (1, 3, 192, 320)\n",
      "\n",
      "0: 192x320 1 car, 48.0ms\n",
      "Speed: 1.0ms preprocess, 48.0ms inference, 2.1ms postprocess per image at shape (1, 3, 192, 320)\n",
      "\n"
     ]
    },
    {
     "name": "stdout",
     "output_type": "stream",
     "text": [
      "unique_id old 3 [0, 1, 1] 2 16244\n",
      "unique_id old 3 [0, 1, 1] 2 16245\n",
      "unique_id old 3 [0, 1, 1] 2 16246\n"
     ]
    },
    {
     "name": "stderr",
     "output_type": "stream",
     "text": [
      "0: 192x320 1 car, 40.6ms\n",
      "Speed: 0.9ms preprocess, 40.6ms inference, 2.9ms postprocess per image at shape (1, 3, 192, 320)\n",
      "\n",
      "0: 192x320 1 car, 41.2ms\n",
      "Speed: 2.1ms preprocess, 41.2ms inference, 2.9ms postprocess per image at shape (1, 3, 192, 320)\n",
      "\n",
      "0: 192x320 1 car, 38.6ms\n",
      "Speed: 0.6ms preprocess, 38.6ms inference, 2.1ms postprocess per image at shape (1, 3, 192, 320)\n",
      "\n"
     ]
    },
    {
     "name": "stdout",
     "output_type": "stream",
     "text": [
      "unique_id old 3 [0, 1, 1] 2 16247\n",
      "unique_id old 3 [0, 1, 1] 2 16248\n",
      "unique_id old 3 [0, 1, 1] 2 16249\n"
     ]
    },
    {
     "name": "stderr",
     "output_type": "stream",
     "text": [
      "0: 192x320 1 car, 40.0ms\n",
      "Speed: 2.6ms preprocess, 40.0ms inference, 2.0ms postprocess per image at shape (1, 3, 192, 320)\n",
      "\n",
      "0: 192x320 1 car, 43.9ms\n",
      "Speed: 0.9ms preprocess, 43.9ms inference, 2.0ms postprocess per image at shape (1, 3, 192, 320)\n",
      "\n",
      "0: 192x320 1 car, 42.1ms\n",
      "Speed: 1.0ms preprocess, 42.1ms inference, 2.4ms postprocess per image at shape (1, 3, 192, 320)\n",
      "\n"
     ]
    },
    {
     "name": "stdout",
     "output_type": "stream",
     "text": [
      "unique_id old 3 [0, 1, 1] 2 16250\n",
      "unique_id old 3 [0, 1, 1] 2 16251\n",
      "unique_id old 3 [0, 1, 1] 2 16252\n"
     ]
    },
    {
     "name": "stderr",
     "output_type": "stream",
     "text": [
      "0: 192x320 1 car, 40.0ms\n",
      "Speed: 1.0ms preprocess, 40.0ms inference, 2.0ms postprocess per image at shape (1, 3, 192, 320)\n",
      "\n",
      "0: 192x320 1 car, 38.6ms\n",
      "Speed: 0.9ms preprocess, 38.6ms inference, 2.0ms postprocess per image at shape (1, 3, 192, 320)\n",
      "\n",
      "0: 192x320 1 car, 39.9ms\n",
      "Speed: 1.1ms preprocess, 39.9ms inference, 3.0ms postprocess per image at shape (1, 3, 192, 320)\n",
      "\n"
     ]
    },
    {
     "name": "stdout",
     "output_type": "stream",
     "text": [
      "unique_id old 3 [0, 1, 1] 2 16253\n",
      "unique_id old 3 [0, 1, 1] 2 16254\n",
      "unique_id old 3 [0, 1, 1] 2 16255\n"
     ]
    },
    {
     "name": "stderr",
     "output_type": "stream",
     "text": [
      "0: 192x320 1 car, 41.1ms\n",
      "Speed: 1.0ms preprocess, 41.1ms inference, 2.0ms postprocess per image at shape (1, 3, 192, 320)\n",
      "\n",
      "0: 192x320 1 car, 41.0ms\n",
      "Speed: 1.1ms preprocess, 41.0ms inference, 2.0ms postprocess per image at shape (1, 3, 192, 320)\n",
      "\n",
      "0: 192x320 1 car, 39.7ms\n",
      "Speed: 1.0ms preprocess, 39.7ms inference, 2.0ms postprocess per image at shape (1, 3, 192, 320)\n",
      "\n"
     ]
    },
    {
     "name": "stdout",
     "output_type": "stream",
     "text": [
      "unique_id old 3 [0, 1, 1] 2 16256\n",
      "unique_id old 3 [0, 1, 1] 2 16257\n",
      "unique_id old 3 [0, 1, 1] 2 16258\n"
     ]
    },
    {
     "name": "stderr",
     "output_type": "stream",
     "text": [
      "0: 192x320 1 car, 44.9ms\n",
      "Speed: 0.5ms preprocess, 44.9ms inference, 3.0ms postprocess per image at shape (1, 3, 192, 320)\n",
      "\n",
      "0: 192x320 1 car, 40.1ms\n",
      "Speed: 1.0ms preprocess, 40.1ms inference, 1.0ms postprocess per image at shape (1, 3, 192, 320)\n",
      "\n",
      "0: 192x320 1 car, 38.8ms\n",
      "Speed: 1.0ms preprocess, 38.8ms inference, 2.0ms postprocess per image at shape (1, 3, 192, 320)\n",
      "\n"
     ]
    },
    {
     "name": "stdout",
     "output_type": "stream",
     "text": [
      "unique_id old 3 [0, 1, 1] 2 16259\n",
      "unique_id old 3 [0, 1, 1] 2 16260\n",
      "unique_id old 3 [0, 1, 1] 2 16261\n"
     ]
    },
    {
     "name": "stderr",
     "output_type": "stream",
     "text": [
      "0: 192x320 1 car, 40.7ms\n",
      "Speed: 1.0ms preprocess, 40.7ms inference, 2.0ms postprocess per image at shape (1, 3, 192, 320)\n",
      "\n",
      "0: 192x320 1 car, 41.0ms\n",
      "Speed: 2.0ms preprocess, 41.0ms inference, 1.9ms postprocess per image at shape (1, 3, 192, 320)\n",
      "\n",
      "0: 192x320 1 car, 38.6ms\n",
      "Speed: 1.0ms preprocess, 38.6ms inference, 2.3ms postprocess per image at shape (1, 3, 192, 320)\n",
      "\n",
      "0: 192x320 1 car, 40.8ms\n"
     ]
    },
    {
     "name": "stdout",
     "output_type": "stream",
     "text": [
      "unique_id old 3 [0, 1, 1] 2 16262\n",
      "unique_id old 3 [0, 1, 1] 2 16263\n",
      "unique_id old 3 [0, 1, 1] 2 16264\n"
     ]
    },
    {
     "name": "stderr",
     "output_type": "stream",
     "text": [
      "Speed: 2.0ms preprocess, 40.8ms inference, 2.0ms postprocess per image at shape (1, 3, 192, 320)\n",
      "\n",
      "0: 192x320 1 car, 43.1ms\n",
      "Speed: 1.0ms preprocess, 43.1ms inference, 2.0ms postprocess per image at shape (1, 3, 192, 320)\n",
      "\n",
      "0: 192x320 1 car, 40.0ms\n",
      "Speed: 0.0ms preprocess, 40.0ms inference, 2.0ms postprocess per image at shape (1, 3, 192, 320)\n",
      "\n"
     ]
    },
    {
     "name": "stdout",
     "output_type": "stream",
     "text": [
      "unique_id old 3 [0, 1, 1] 2 16265\n",
      "unique_id old 3 [0, 1, 1] 2 16266\n",
      "unique_id old 3 [0, 1, 1] 2 16267\n"
     ]
    },
    {
     "name": "stderr",
     "output_type": "stream",
     "text": [
      "0: 192x320 1 car, 39.7ms\n",
      "Speed: 1.1ms preprocess, 39.7ms inference, 2.0ms postprocess per image at shape (1, 3, 192, 320)\n",
      "\n",
      "0: 192x320 1 car, 40.0ms\n",
      "Speed: 1.7ms preprocess, 40.0ms inference, 2.0ms postprocess per image at shape (1, 3, 192, 320)\n",
      "\n",
      "0: 192x320 1 car, 43.9ms\n",
      "Speed: 1.0ms preprocess, 43.9ms inference, 2.1ms postprocess per image at shape (1, 3, 192, 320)\n",
      "\n"
     ]
    },
    {
     "name": "stdout",
     "output_type": "stream",
     "text": [
      "unique_id old 3 [0, 1, 1] 2 16268\n",
      "unique_id old 3 [0, 1, 1] 2 16269\n",
      "unique_id old 3 [0, 1, 1] 2 16270\n"
     ]
    },
    {
     "name": "stderr",
     "output_type": "stream",
     "text": [
      "0: 192x320 1 car, 40.0ms\n",
      "Speed: 2.0ms preprocess, 40.0ms inference, 2.0ms postprocess per image at shape (1, 3, 192, 320)\n",
      "\n",
      "0: 192x320 1 car, 39.9ms\n",
      "Speed: 1.0ms preprocess, 39.9ms inference, 2.0ms postprocess per image at shape (1, 3, 192, 320)\n",
      "\n",
      "0: 192x320 1 car, 42.1ms\n",
      "Speed: 1.1ms preprocess, 42.1ms inference, 3.0ms postprocess per image at shape (1, 3, 192, 320)\n",
      "\n"
     ]
    },
    {
     "name": "stdout",
     "output_type": "stream",
     "text": [
      "unique_id old 3 [0, 1, 1] 2 16271\n",
      "unique_id old 3 [0, 1, 1] 2 16272\n",
      "unique_id old 3 [0, 1, 1] 2 16273\n"
     ]
    },
    {
     "name": "stderr",
     "output_type": "stream",
     "text": [
      "0: 192x320 1 car, 39.0ms\n",
      "Speed: 1.0ms preprocess, 39.0ms inference, 2.0ms postprocess per image at shape (1, 3, 192, 320)\n",
      "\n",
      "0: 192x320 1 car, 40.6ms\n",
      "Speed: 1.0ms preprocess, 40.6ms inference, 2.1ms postprocess per image at shape (1, 3, 192, 320)\n",
      "\n",
      "0: 192x320 1 car, 41.8ms\n",
      "Speed: 1.0ms preprocess, 41.8ms inference, 2.0ms postprocess per image at shape (1, 3, 192, 320)\n",
      "\n",
      "0: 192x320 1 car, 39.1ms\n"
     ]
    },
    {
     "name": "stdout",
     "output_type": "stream",
     "text": [
      "unique_id old 3 [0, 1, 1] 2 16274\n",
      "unique_id old 3 [0, 1, 1] 2 16275\n",
      "unique_id old 3 [0, 1, 1] 2 16276\n"
     ]
    },
    {
     "name": "stderr",
     "output_type": "stream",
     "text": [
      "Speed: 1.0ms preprocess, 39.1ms inference, 2.0ms postprocess per image at shape (1, 3, 192, 320)\n",
      "\n",
      "0: 192x320 1 car, 41.9ms\n",
      "Speed: 1.0ms preprocess, 41.9ms inference, 2.0ms postprocess per image at shape (1, 3, 192, 320)\n",
      "\n",
      "0: 192x320 1 car, 43.8ms\n",
      "Speed: 1.0ms preprocess, 43.8ms inference, 1.0ms postprocess per image at shape (1, 3, 192, 320)\n",
      "\n"
     ]
    },
    {
     "name": "stdout",
     "output_type": "stream",
     "text": [
      "unique_id old 3 [0, 1, 1] 2 16277\n",
      "unique_id old 3 [0, 1, 1] 2 16278\n",
      "unique_id old 3 [0, 1, 1] 2 16279\n"
     ]
    },
    {
     "name": "stderr",
     "output_type": "stream",
     "text": [
      "0: 192x320 1 car, 43.5ms\n",
      "Speed: 1.0ms preprocess, 43.5ms inference, 3.1ms postprocess per image at shape (1, 3, 192, 320)\n",
      "\n",
      "0: 192x320 1 car, 41.1ms\n",
      "Speed: 1.0ms preprocess, 41.1ms inference, 2.0ms postprocess per image at shape (1, 3, 192, 320)\n",
      "\n",
      "0: 192x320 1 car, 42.7ms\n",
      "Speed: 2.0ms preprocess, 42.7ms inference, 3.1ms postprocess per image at shape (1, 3, 192, 320)\n",
      "\n"
     ]
    },
    {
     "name": "stdout",
     "output_type": "stream",
     "text": [
      "unique_id old 3 [0, 1, 1] 2 16280\n",
      "unique_id old 3 [0, 1, 1] 2 16281\n",
      "unique_id old 3 [0, 1, 1] 2 16282\n"
     ]
    },
    {
     "name": "stderr",
     "output_type": "stream",
     "text": [
      "0: 192x320 1 car, 38.9ms\n",
      "Speed: 1.0ms preprocess, 38.9ms inference, 2.3ms postprocess per image at shape (1, 3, 192, 320)\n",
      "\n",
      "0: 192x320 1 car, 39.9ms\n",
      "Speed: 1.0ms preprocess, 39.9ms inference, 2.0ms postprocess per image at shape (1, 3, 192, 320)\n",
      "\n",
      "0: 192x320 1 car, 42.0ms\n",
      "Speed: 1.0ms preprocess, 42.0ms inference, 2.0ms postprocess per image at shape (1, 3, 192, 320)\n",
      "\n"
     ]
    },
    {
     "name": "stdout",
     "output_type": "stream",
     "text": [
      "unique_id old 3 [0, 1, 1] 2 16283\n",
      "unique_id old 3 [0, 1, 1] 2 16284\n",
      "unique_id old 3 [0, 1, 1] 2 16285\n"
     ]
    },
    {
     "name": "stderr",
     "output_type": "stream",
     "text": [
      "0: 192x320 1 car, 38.7ms\n",
      "Speed: 0.9ms preprocess, 38.7ms inference, 2.0ms postprocess per image at shape (1, 3, 192, 320)\n",
      "\n",
      "0: 192x320 1 car, 41.5ms\n",
      "Speed: 2.0ms preprocess, 41.5ms inference, 2.0ms postprocess per image at shape (1, 3, 192, 320)\n",
      "\n",
      "0: 192x320 1 car, 41.1ms\n",
      "Speed: 2.0ms preprocess, 41.1ms inference, 1.9ms postprocess per image at shape (1, 3, 192, 320)\n",
      "\n"
     ]
    },
    {
     "name": "stdout",
     "output_type": "stream",
     "text": [
      "unique_id old 3 [0, 1, 1] 2 16286\n",
      "unique_id old 3 [0, 1, 1] 2 16287\n",
      "unique_id old 3 [0, 1, 1] 2 16288\n"
     ]
    },
    {
     "name": "stderr",
     "output_type": "stream",
     "text": [
      "0: 192x320 1 car, 37.0ms\n",
      "Speed: 2.0ms preprocess, 37.0ms inference, 1.0ms postprocess per image at shape (1, 3, 192, 320)\n",
      "\n",
      "0: 192x320 1 car, 38.9ms\n",
      "Speed: 1.0ms preprocess, 38.9ms inference, 1.0ms postprocess per image at shape (1, 3, 192, 320)\n",
      "\n",
      "0: 192x320 1 car, 39.7ms\n",
      "Speed: 0.9ms preprocess, 39.7ms inference, 2.1ms postprocess per image at shape (1, 3, 192, 320)\n",
      "\n"
     ]
    },
    {
     "name": "stdout",
     "output_type": "stream",
     "text": [
      "unique_id old 3 [0, 1, 1] 2 16289\n",
      "unique_id old 3 [0, 1, 1] 2 16290\n",
      "unique_id old 3 [0, 1, 1] 2 16291\n"
     ]
    },
    {
     "name": "stderr",
     "output_type": "stream",
     "text": [
      "0: 192x320 1 car, 41.0ms\n",
      "Speed: 1.0ms preprocess, 41.0ms inference, 1.0ms postprocess per image at shape (1, 3, 192, 320)\n",
      "\n",
      "0: 192x320 1 car, 42.6ms\n",
      "Speed: 0.9ms preprocess, 42.6ms inference, 2.0ms postprocess per image at shape (1, 3, 192, 320)\n",
      "\n",
      "0: 192x320 1 car, 45.2ms\n",
      "Speed: 1.0ms preprocess, 45.2ms inference, 2.0ms postprocess per image at shape (1, 3, 192, 320)\n",
      "\n"
     ]
    },
    {
     "name": "stdout",
     "output_type": "stream",
     "text": [
      "unique_id old 3 [0, 1, 1] 2 16292\n",
      "unique_id old 3 [0, 1, 1] 2 16293\n",
      "unique_id old 3 [0, 1, 1] 2 16294\n"
     ]
    },
    {
     "name": "stderr",
     "output_type": "stream",
     "text": [
      "0: 192x320 1 car, 44.4ms\n",
      "Speed: 1.0ms preprocess, 44.4ms inference, 2.2ms postprocess per image at shape (1, 3, 192, 320)\n",
      "\n",
      "0: 192x320 1 car, 39.0ms\n",
      "Speed: 1.1ms preprocess, 39.0ms inference, 3.0ms postprocess per image at shape (1, 3, 192, 320)\n",
      "\n",
      "0: 192x320 1 car, 38.3ms\n",
      "Speed: 1.5ms preprocess, 38.3ms inference, 1.0ms postprocess per image at shape (1, 3, 192, 320)\n",
      "\n"
     ]
    },
    {
     "name": "stdout",
     "output_type": "stream",
     "text": [
      "unique_id old 3 [0, 1, 1] 2 16295\n",
      "unique_id old 3 [0, 1, 1] 2 16296\n",
      "unique_id old 3 [0, 1, 1] 2 16297\n"
     ]
    },
    {
     "name": "stderr",
     "output_type": "stream",
     "text": [
      "0: 192x320 1 car, 41.3ms\n",
      "Speed: 1.0ms preprocess, 41.3ms inference, 1.1ms postprocess per image at shape (1, 3, 192, 320)\n",
      "\n",
      "0: 192x320 1 car, 38.0ms\n",
      "Speed: 1.0ms preprocess, 38.0ms inference, 2.0ms postprocess per image at shape (1, 3, 192, 320)\n",
      "\n",
      "0: 192x320 1 car, 38.1ms\n",
      "Speed: 1.0ms preprocess, 38.1ms inference, 1.9ms postprocess per image at shape (1, 3, 192, 320)\n",
      "\n"
     ]
    },
    {
     "name": "stdout",
     "output_type": "stream",
     "text": [
      "unique_id old 3 [0, 1, 1] 2 16298\n",
      "unique_id old 3 [0, 1, 1] 2 16299\n",
      "unique_id old 3 [0, 1, 1] 2 16300\n",
      "unique_id old 3 25 [0, 1, 1] 2 16300\n"
     ]
    },
    {
     "name": "stderr",
     "output_type": "stream",
     "text": [
      "0: 192x320 1 car, 38.6ms\n",
      "Speed: 1.9ms preprocess, 38.6ms inference, 1.0ms postprocess per image at shape (1, 3, 192, 320)\n",
      "\n",
      "0: 192x320 1 car, 40.6ms\n",
      "Speed: 1.0ms preprocess, 40.6ms inference, 0.9ms postprocess per image at shape (1, 3, 192, 320)\n",
      "\n",
      "0: 192x320 1 car, 35.5ms\n",
      "Speed: 2.1ms preprocess, 35.5ms inference, 1.0ms postprocess per image at shape (1, 3, 192, 320)\n",
      "\n"
     ]
    },
    {
     "name": "stdout",
     "output_type": "stream",
     "text": [
      "unique_id old 3 [0, 1, 1] 2 16301\n",
      "unique_id old 3 [0, 1, 1] 2 16302\n",
      "unique_id old 3 [0, 1, 1] 2 16303\n"
     ]
    },
    {
     "name": "stderr",
     "output_type": "stream",
     "text": [
      "0: 192x320 1 car, 39.4ms\n",
      "Speed: 1.0ms preprocess, 39.4ms inference, 2.7ms postprocess per image at shape (1, 3, 192, 320)\n",
      "\n",
      "0: 192x320 1 car, 43.4ms\n",
      "Speed: 1.0ms preprocess, 43.4ms inference, 2.1ms postprocess per image at shape (1, 3, 192, 320)\n",
      "\n",
      "0: 192x320 1 car, 37.8ms\n",
      "Speed: 1.0ms preprocess, 37.8ms inference, 1.0ms postprocess per image at shape (1, 3, 192, 320)\n",
      "\n"
     ]
    },
    {
     "name": "stdout",
     "output_type": "stream",
     "text": [
      "unique_id old 3 [0, 1, 1] 2 16304\n",
      "unique_id old 3 [0, 1, 1] 2 16305\n",
      "unique_id old 3 [0, 1, 1] 2 16306\n"
     ]
    },
    {
     "name": "stderr",
     "output_type": "stream",
     "text": [
      "0: 192x320 1 car, 42.1ms\n",
      "Speed: 1.0ms preprocess, 42.1ms inference, 2.0ms postprocess per image at shape (1, 3, 192, 320)\n",
      "\n",
      "0: 192x320 1 car, 37.9ms\n",
      "Speed: 1.1ms preprocess, 37.9ms inference, 2.3ms postprocess per image at shape (1, 3, 192, 320)\n",
      "\n",
      "0: 192x320 1 car, 43.4ms\n",
      "Speed: 1.1ms preprocess, 43.4ms inference, 2.0ms postprocess per image at shape (1, 3, 192, 320)\n",
      "\n"
     ]
    },
    {
     "name": "stdout",
     "output_type": "stream",
     "text": [
      "unique_id old 3 [0, 1, 1] 2 16307\n",
      "unique_id old 3 [0, 1, 1] 2 16308\n",
      "unique_id old 3 [0, 1, 1] 2 16309\n"
     ]
    },
    {
     "name": "stderr",
     "output_type": "stream",
     "text": [
      "0: 192x320 1 car, 38.7ms\n",
      "Speed: 0.9ms preprocess, 38.7ms inference, 1.1ms postprocess per image at shape (1, 3, 192, 320)\n",
      "\n",
      "0: 192x320 1 car, 38.3ms\n",
      "Speed: 0.9ms preprocess, 38.3ms inference, 2.1ms postprocess per image at shape (1, 3, 192, 320)\n",
      "\n",
      "0: 192x320 1 car, 35.8ms\n",
      "Speed: 1.4ms preprocess, 35.8ms inference, 2.0ms postprocess per image at shape (1, 3, 192, 320)\n",
      "\n",
      "0: 192x320 1 car, 38.2ms\n"
     ]
    },
    {
     "name": "stdout",
     "output_type": "stream",
     "text": [
      "unique_id old 3 [0, 1, 1] 2 16310\n",
      "unique_id old 3 [0, 1, 1] 2 16311\n",
      "unique_id old 3 [0, 1, 1] 2 16312\n"
     ]
    },
    {
     "name": "stderr",
     "output_type": "stream",
     "text": [
      "Speed: 1.0ms preprocess, 38.2ms inference, 1.0ms postprocess per image at shape (1, 3, 192, 320)\n",
      "\n",
      "0: 192x320 1 car, 37.7ms\n",
      "Speed: 0.2ms preprocess, 37.7ms inference, 1.0ms postprocess per image at shape (1, 3, 192, 320)\n",
      "\n",
      "0: 192x320 1 car, 38.4ms\n",
      "Speed: 1.9ms preprocess, 38.4ms inference, 0.9ms postprocess per image at shape (1, 3, 192, 320)\n",
      "\n",
      "0: 192x320 1 car, 38.7ms\n"
     ]
    },
    {
     "name": "stdout",
     "output_type": "stream",
     "text": [
      "unique_id old 3 [0, 1, 1] 2 16313\n",
      "unique_id old 3 [0, 1, 1] 2 16314\n",
      "unique_id old 3 [0, 1, 1] 2 16315\n"
     ]
    },
    {
     "name": "stderr",
     "output_type": "stream",
     "text": [
      "Speed: 2.0ms preprocess, 38.7ms inference, 2.1ms postprocess per image at shape (1, 3, 192, 320)\n",
      "\n",
      "0: 192x320 1 car, 40.1ms\n",
      "Speed: 1.0ms preprocess, 40.1ms inference, 2.0ms postprocess per image at shape (1, 3, 192, 320)\n",
      "\n",
      "0: 192x320 1 car, 37.1ms\n",
      "Speed: 1.0ms preprocess, 37.1ms inference, 1.4ms postprocess per image at shape (1, 3, 192, 320)\n",
      "\n"
     ]
    },
    {
     "name": "stdout",
     "output_type": "stream",
     "text": [
      "unique_id old 3 [0, 1, 1] 2 16316\n",
      "unique_id old 3 [0, 1, 1] 2 16317\n",
      "unique_id old 3 [0, 1, 1] 2 16318\n"
     ]
    },
    {
     "name": "stderr",
     "output_type": "stream",
     "text": [
      "0: 192x320 1 car, 38.1ms\n",
      "Speed: 1.0ms preprocess, 38.1ms inference, 2.0ms postprocess per image at shape (1, 3, 192, 320)\n",
      "\n",
      "0: 192x320 1 car, 40.7ms\n",
      "Speed: 1.0ms preprocess, 40.7ms inference, 2.2ms postprocess per image at shape (1, 3, 192, 320)\n",
      "\n",
      "0: 192x320 1 car, 38.9ms\n",
      "Speed: 1.0ms preprocess, 38.9ms inference, 2.3ms postprocess per image at shape (1, 3, 192, 320)\n",
      "\n",
      "0: 192x320 1 car, 38.6ms\n"
     ]
    },
    {
     "name": "stdout",
     "output_type": "stream",
     "text": [
      "unique_id old 3 [0, 1, 1] 2 16319\n",
      "unique_id old 3 [0, 1, 1] 2 16320\n",
      "unique_id old 3 [0, 1, 1] 2 16321\n"
     ]
    },
    {
     "name": "stderr",
     "output_type": "stream",
     "text": [
      "Speed: 1.6ms preprocess, 38.6ms inference, 1.0ms postprocess per image at shape (1, 3, 192, 320)\n",
      "\n",
      "0: 192x320 1 car, 37.7ms\n",
      "Speed: 1.0ms preprocess, 37.7ms inference, 1.4ms postprocess per image at shape (1, 3, 192, 320)\n",
      "\n",
      "0: 192x320 1 car, 38.2ms\n",
      "Speed: 1.0ms preprocess, 38.2ms inference, 2.0ms postprocess per image at shape (1, 3, 192, 320)\n",
      "\n",
      "0: 192x320 1 car, 36.2ms\n"
     ]
    },
    {
     "name": "stdout",
     "output_type": "stream",
     "text": [
      "unique_id old 3 [0, 1, 1] 2 16322\n",
      "unique_id old 3 [0, 1, 1] 2 16323\n",
      "unique_id old 3 [0, 1, 1] 2 16324\n"
     ]
    },
    {
     "name": "stderr",
     "output_type": "stream",
     "text": [
      "Speed: 1.1ms preprocess, 36.2ms inference, 2.0ms postprocess per image at shape (1, 3, 192, 320)\n",
      "\n",
      "0: 192x320 1 car, 38.8ms\n",
      "Speed: 1.0ms preprocess, 38.8ms inference, 1.3ms postprocess per image at shape (1, 3, 192, 320)\n",
      "\n",
      "0: 192x320 1 car, 37.8ms\n",
      "Speed: 0.0ms preprocess, 37.8ms inference, 2.0ms postprocess per image at shape (1, 3, 192, 320)\n",
      "\n"
     ]
    },
    {
     "name": "stdout",
     "output_type": "stream",
     "text": [
      "unique_id old 3 [0, 1, 1] 2 16325\n",
      "unique_id old 3 [0, 1, 1] 2 16326\n",
      "unique_id old 3 [0, 1, 1] 2 16327\n"
     ]
    },
    {
     "name": "stderr",
     "output_type": "stream",
     "text": [
      "0: 192x320 1 car, 38.0ms\n",
      "Speed: 1.0ms preprocess, 38.0ms inference, 1.9ms postprocess per image at shape (1, 3, 192, 320)\n",
      "\n",
      "0: 192x320 1 car, 35.7ms\n",
      "Speed: 0.9ms preprocess, 35.7ms inference, 1.2ms postprocess per image at shape (1, 3, 192, 320)\n",
      "\n",
      "0: 192x320 1 car, 37.2ms\n",
      "Speed: 1.0ms preprocess, 37.2ms inference, 1.0ms postprocess per image at shape (1, 3, 192, 320)\n",
      "\n",
      "0: 192x320 1 car, 38.6ms\n"
     ]
    },
    {
     "name": "stdout",
     "output_type": "stream",
     "text": [
      "unique_id old 3 [0, 1, 1] 2 16328\n",
      "unique_id old 3 [0, 1, 1] 2 16329\n",
      "unique_id old 3 [0, 1, 1] 2 16330\n"
     ]
    },
    {
     "name": "stderr",
     "output_type": "stream",
     "text": [
      "Speed: 1.0ms preprocess, 38.6ms inference, 1.0ms postprocess per image at shape (1, 3, 192, 320)\n",
      "\n",
      "0: 192x320 1 car, 38.0ms\n",
      "Speed: 1.0ms preprocess, 38.0ms inference, 2.0ms postprocess per image at shape (1, 3, 192, 320)\n",
      "\n",
      "0: 192x320 1 car, 36.8ms\n",
      "Speed: 0.9ms preprocess, 36.8ms inference, 2.1ms postprocess per image at shape (1, 3, 192, 320)\n",
      "\n",
      "0: 192x320 1 car, 36.4ms\n"
     ]
    },
    {
     "name": "stdout",
     "output_type": "stream",
     "text": [
      "unique_id old 3 [0, 1, 1] 2 16331\n",
      "unique_id old 3 [0, 1, 1] 2 16332\n",
      "unique_id old 3 [0, 1, 1] 2 16333\n"
     ]
    },
    {
     "name": "stderr",
     "output_type": "stream",
     "text": [
      "Speed: 1.0ms preprocess, 36.4ms inference, 2.1ms postprocess per image at shape (1, 3, 192, 320)\n",
      "\n",
      "0: 192x320 1 car, 35.4ms\n",
      "Speed: 2.0ms preprocess, 35.4ms inference, 2.0ms postprocess per image at shape (1, 3, 192, 320)\n",
      "\n",
      "0: 192x320 1 car, 35.4ms\n",
      "Speed: 0.7ms preprocess, 35.4ms inference, 1.0ms postprocess per image at shape (1, 3, 192, 320)\n",
      "\n",
      "0: 192x320 1 car, 37.1ms\n"
     ]
    },
    {
     "name": "stdout",
     "output_type": "stream",
     "text": [
      "unique_id old 3 [0, 1, 1] 2 16334\n",
      "unique_id old 3 [0, 1, 1] 2 16335\n",
      "unique_id old 3 [0, 1, 1] 2 16336\n"
     ]
    },
    {
     "name": "stderr",
     "output_type": "stream",
     "text": [
      "Speed: 1.0ms preprocess, 37.1ms inference, 2.0ms postprocess per image at shape (1, 3, 192, 320)\n",
      "\n",
      "0: 192x320 1 car, 43.5ms\n",
      "Speed: 1.3ms preprocess, 43.5ms inference, 0.9ms postprocess per image at shape (1, 3, 192, 320)\n",
      "\n",
      "0: 192x320 1 car, 37.9ms\n",
      "Speed: 1.3ms preprocess, 37.9ms inference, 1.0ms postprocess per image at shape (1, 3, 192, 320)\n",
      "\n"
     ]
    },
    {
     "name": "stdout",
     "output_type": "stream",
     "text": [
      "unique_id old 3 [0, 1, 1] 2 16337\n",
      "unique_id old 3 [0, 1, 1] 2 16338\n",
      "unique_id old 3 [0, 1, 1] 2 16339\n"
     ]
    },
    {
     "name": "stderr",
     "output_type": "stream",
     "text": [
      "0: 192x320 1 car, 41.4ms\n",
      "Speed: 1.9ms preprocess, 41.4ms inference, 2.0ms postprocess per image at shape (1, 3, 192, 320)\n",
      "\n",
      "0: 192x320 1 car, 40.2ms\n",
      "Speed: 1.9ms preprocess, 40.2ms inference, 2.2ms postprocess per image at shape (1, 3, 192, 320)\n",
      "\n",
      "0: 192x320 1 car, 36.5ms\n",
      "Speed: 1.0ms preprocess, 36.5ms inference, 1.0ms postprocess per image at shape (1, 3, 192, 320)\n",
      "\n",
      "0: 192x320 1 car, 36.4ms\n"
     ]
    },
    {
     "name": "stdout",
     "output_type": "stream",
     "text": [
      "unique_id old 3 [0, 1, 1] 2 16340\n",
      "unique_id old 3 [0, 1, 1] 2 16341\n",
      "unique_id old 3 [0, 1, 1] 2 16342\n"
     ]
    },
    {
     "name": "stderr",
     "output_type": "stream",
     "text": [
      "Speed: 1.0ms preprocess, 36.4ms inference, 1.9ms postprocess per image at shape (1, 3, 192, 320)\n",
      "\n",
      "0: 192x320 1 car, 40.5ms\n",
      "Speed: 1.0ms preprocess, 40.5ms inference, 2.0ms postprocess per image at shape (1, 3, 192, 320)\n",
      "\n",
      "0: 192x320 1 car, 42.6ms\n",
      "Speed: 1.0ms preprocess, 42.6ms inference, 2.0ms postprocess per image at shape (1, 3, 192, 320)\n",
      "\n"
     ]
    },
    {
     "name": "stdout",
     "output_type": "stream",
     "text": [
      "unique_id old 3 [0, 1, 1] 2 16343\n",
      "unique_id old 3 [0, 1, 1] 2 16344\n",
      "unique_id old 3 [0, 1, 1] 2 16345\n"
     ]
    },
    {
     "name": "stderr",
     "output_type": "stream",
     "text": [
      "0: 192x320 1 car, 34.9ms\n",
      "Speed: 2.0ms preprocess, 34.9ms inference, 2.1ms postprocess per image at shape (1, 3, 192, 320)\n",
      "\n",
      "0: 192x320 1 car, 35.9ms\n",
      "Speed: 2.0ms preprocess, 35.9ms inference, 1.9ms postprocess per image at shape (1, 3, 192, 320)\n",
      "\n",
      "0: 192x320 1 car, 39.2ms\n",
      "Speed: 1.1ms preprocess, 39.2ms inference, 2.0ms postprocess per image at shape (1, 3, 192, 320)\n",
      "\n"
     ]
    },
    {
     "name": "stdout",
     "output_type": "stream",
     "text": [
      "unique_id old 3 [0, 1, 1] 2 16346\n",
      "unique_id old 3 [0, 1, 1] 2 16347\n",
      "unique_id old 3 [0, 1, 1] 2 16348\n"
     ]
    },
    {
     "name": "stderr",
     "output_type": "stream",
     "text": [
      "0: 192x320 1 car, 42.4ms\n",
      "Speed: 1.5ms preprocess, 42.4ms inference, 2.0ms postprocess per image at shape (1, 3, 192, 320)\n",
      "\n",
      "0: 192x320 1 car, 39.7ms\n",
      "Speed: 1.0ms preprocess, 39.7ms inference, 2.0ms postprocess per image at shape (1, 3, 192, 320)\n",
      "\n",
      "0: 192x320 1 car, 36.6ms\n",
      "Speed: 2.0ms preprocess, 36.6ms inference, 1.0ms postprocess per image at shape (1, 3, 192, 320)\n",
      "\n",
      "0: 192x320 1 car, 39.4ms\n"
     ]
    },
    {
     "name": "stdout",
     "output_type": "stream",
     "text": [
      "unique_id old 3 [0, 1, 1] 2 16349\n",
      "unique_id old 3 [0, 1, 1] 2 16350\n",
      "unique_id old 3 [0, 1, 1] 2 16351\n"
     ]
    },
    {
     "name": "stderr",
     "output_type": "stream",
     "text": [
      "Speed: 2.0ms preprocess, 39.4ms inference, 2.0ms postprocess per image at shape (1, 3, 192, 320)\n",
      "\n",
      "0: 192x320 1 car, 41.9ms\n",
      "Speed: 1.0ms preprocess, 41.9ms inference, 2.0ms postprocess per image at shape (1, 3, 192, 320)\n",
      "\n",
      "0: 192x320 1 car, 38.8ms\n",
      "Speed: 1.0ms preprocess, 38.8ms inference, 2.0ms postprocess per image at shape (1, 3, 192, 320)\n",
      "\n"
     ]
    },
    {
     "name": "stdout",
     "output_type": "stream",
     "text": [
      "unique_id old 3 [0, 1, 1] 2 16352\n",
      "unique_id old 3 [0, 1, 1] 2 16353\n",
      "unique_id old 3 [0, 1, 1] 2 16354\n"
     ]
    },
    {
     "name": "stderr",
     "output_type": "stream",
     "text": [
      "0: 192x320 1 car, 38.7ms\n",
      "Speed: 1.0ms preprocess, 38.7ms inference, 2.0ms postprocess per image at shape (1, 3, 192, 320)\n",
      "\n",
      "0: 192x320 1 car, 42.0ms\n",
      "Speed: 0.9ms preprocess, 42.0ms inference, 2.0ms postprocess per image at shape (1, 3, 192, 320)\n",
      "\n",
      "0: 192x320 1 car, 39.6ms\n",
      "Speed: 0.9ms preprocess, 39.6ms inference, 3.0ms postprocess per image at shape (1, 3, 192, 320)\n",
      "\n"
     ]
    },
    {
     "name": "stdout",
     "output_type": "stream",
     "text": [
      "unique_id old 3 [0, 1, 1] 2 16355\n",
      "unique_id old 3 [0, 1, 1] 2 16356\n",
      "unique_id old 3 [0, 1, 1] 2 16357\n"
     ]
    },
    {
     "name": "stderr",
     "output_type": "stream",
     "text": [
      "0: 192x320 1 car, 40.7ms\n",
      "Speed: 2.0ms preprocess, 40.7ms inference, 2.0ms postprocess per image at shape (1, 3, 192, 320)\n",
      "\n",
      "0: 192x320 1 car, 37.1ms\n",
      "Speed: 1.0ms preprocess, 37.1ms inference, 1.0ms postprocess per image at shape (1, 3, 192, 320)\n",
      "\n",
      "0: 192x320 1 car, 38.6ms\n",
      "Speed: 1.4ms preprocess, 38.6ms inference, 2.0ms postprocess per image at shape (1, 3, 192, 320)\n",
      "\n",
      "0: 192x320 1 car, 35.6ms\n"
     ]
    },
    {
     "name": "stdout",
     "output_type": "stream",
     "text": [
      "unique_id old 3 [0, 1, 1] 2 16358\n",
      "unique_id old 3 [0, 1, 1] 2 16359\n",
      "unique_id old 3 [0, 1, 1] 2 16360\n"
     ]
    },
    {
     "name": "stderr",
     "output_type": "stream",
     "text": [
      "Speed: 1.1ms preprocess, 35.6ms inference, 1.0ms postprocess per image at shape (1, 3, 192, 320)\n",
      "\n",
      "0: 192x320 (no detections), 36.7ms\n",
      "Speed: 1.3ms preprocess, 36.7ms inference, 1.0ms postprocess per image at shape (1, 3, 192, 320)\n",
      "\n",
      "0: 192x320 1 car, 37.8ms\n",
      "Speed: 1.0ms preprocess, 37.8ms inference, 3.0ms postprocess per image at shape (1, 3, 192, 320)\n",
      "\n",
      "0: 192x320 1 car, 38.3ms\n"
     ]
    },
    {
     "name": "stdout",
     "output_type": "stream",
     "text": [
      "unique_id old 3 [0, 1, 1] 2 16361\n",
      "unique_id old 3 [0, 1, 1] 2 16363\n"
     ]
    },
    {
     "name": "stderr",
     "output_type": "stream",
     "text": [
      "Speed: 1.0ms preprocess, 38.3ms inference, 2.1ms postprocess per image at shape (1, 3, 192, 320)\n",
      "\n",
      "0: 192x320 1 car, 37.1ms\n",
      "Speed: 1.0ms preprocess, 37.1ms inference, 2.0ms postprocess per image at shape (1, 3, 192, 320)\n",
      "\n",
      "0: 192x320 1 car, 35.4ms\n",
      "Speed: 1.0ms preprocess, 35.4ms inference, 2.1ms postprocess per image at shape (1, 3, 192, 320)\n",
      "\n",
      "0: 192x320 1 car, 39.3ms\n"
     ]
    },
    {
     "name": "stdout",
     "output_type": "stream",
     "text": [
      "unique_id old 3 [0, 1, 1] 2 16364\n",
      "unique_id old 3 [0, 1, 1] 2 16365\n",
      "unique_id old 3 [0, 1, 1] 2 16366\n"
     ]
    },
    {
     "name": "stderr",
     "output_type": "stream",
     "text": [
      "Speed: 1.0ms preprocess, 39.3ms inference, 2.0ms postprocess per image at shape (1, 3, 192, 320)\n",
      "\n",
      "0: 192x320 1 car, 39.5ms\n",
      "Speed: 0.0ms preprocess, 39.5ms inference, 2.0ms postprocess per image at shape (1, 3, 192, 320)\n",
      "\n",
      "0: 192x320 1 car, 37.5ms\n",
      "Speed: 0.9ms preprocess, 37.5ms inference, 1.9ms postprocess per image at shape (1, 3, 192, 320)\n",
      "\n"
     ]
    },
    {
     "name": "stdout",
     "output_type": "stream",
     "text": [
      "unique_id old 3 [0, 1, 1] 2 16367\n",
      "unique_id old 3 [0, 1, 1] 2 16368\n",
      "unique_id old 3 [0, 1, 1] 2 16369\n"
     ]
    },
    {
     "name": "stderr",
     "output_type": "stream",
     "text": [
      "0: 192x320 1 car, 42.2ms\n",
      "Speed: 2.0ms preprocess, 42.2ms inference, 2.0ms postprocess per image at shape (1, 3, 192, 320)\n",
      "\n",
      "0: 192x320 1 car, 37.8ms\n",
      "Speed: 2.0ms preprocess, 37.8ms inference, 2.0ms postprocess per image at shape (1, 3, 192, 320)\n",
      "\n",
      "0: 192x320 1 car, 39.7ms\n",
      "Speed: 0.1ms preprocess, 39.7ms inference, 2.0ms postprocess per image at shape (1, 3, 192, 320)\n",
      "\n",
      "0: 192x320 1 car, 42.5ms\n"
     ]
    },
    {
     "name": "stdout",
     "output_type": "stream",
     "text": [
      "unique_id old 3 [0, 1, 1] 2 16370\n",
      "unique_id old 3 [0, 1, 1] 2 16371\n",
      "unique_id old 3 [0, 1, 1] 2 16372\n"
     ]
    },
    {
     "name": "stderr",
     "output_type": "stream",
     "text": [
      "Speed: 0.9ms preprocess, 42.5ms inference, 2.0ms postprocess per image at shape (1, 3, 192, 320)\n",
      "\n",
      "0: 192x320 1 car, 38.5ms\n",
      "Speed: 1.0ms preprocess, 38.5ms inference, 2.0ms postprocess per image at shape (1, 3, 192, 320)\n",
      "\n",
      "0: 192x320 1 car, 40.1ms\n",
      "Speed: 0.9ms preprocess, 40.1ms inference, 2.0ms postprocess per image at shape (1, 3, 192, 320)\n",
      "\n",
      "0: 192x320 1 car, 39.3ms\n"
     ]
    },
    {
     "name": "stdout",
     "output_type": "stream",
     "text": [
      "unique_id old 3 [0, 1, 1] 2 16373\n",
      "unique_id old 3 [0, 1, 1] 2 16374\n",
      "unique_id old 3 [0, 1, 1] 2 16375\n"
     ]
    },
    {
     "name": "stderr",
     "output_type": "stream",
     "text": [
      "Speed: 1.0ms preprocess, 39.3ms inference, 2.0ms postprocess per image at shape (1, 3, 192, 320)\n",
      "\n",
      "0: 192x320 1 car, 37.7ms\n",
      "Speed: 0.9ms preprocess, 37.7ms inference, 2.0ms postprocess per image at shape (1, 3, 192, 320)\n",
      "\n",
      "0: 192x320 1 car, 36.4ms\n",
      "Speed: 1.6ms preprocess, 36.4ms inference, 2.1ms postprocess per image at shape (1, 3, 192, 320)\n",
      "\n",
      "0: 192x320 1 car, 37.0ms\n"
     ]
    },
    {
     "name": "stdout",
     "output_type": "stream",
     "text": [
      "unique_id old 3 [0, 1, 1] 2 16376\n",
      "unique_id old 3 [0, 1, 1] 2 16377\n",
      "unique_id old 3 [0, 1, 1] 2 16378\n"
     ]
    },
    {
     "name": "stderr",
     "output_type": "stream",
     "text": [
      "Speed: 1.0ms preprocess, 37.0ms inference, 2.0ms postprocess per image at shape (1, 3, 192, 320)\n",
      "\n",
      "0: 192x320 (no detections), 37.8ms\n",
      "Speed: 1.0ms preprocess, 37.8ms inference, 1.0ms postprocess per image at shape (1, 3, 192, 320)\n",
      "\n",
      "0: 192x320 (no detections), 39.5ms\n",
      "Speed: 1.0ms preprocess, 39.5ms inference, 1.0ms postprocess per image at shape (1, 3, 192, 320)\n",
      "\n",
      "0: 192x320 1 car, 39.8ms\n",
      "Speed: 1.0ms preprocess, 39.8ms inference, 2.0ms postprocess per image at shape (1, 3, 192, 320)\n",
      "\n"
     ]
    },
    {
     "name": "stdout",
     "output_type": "stream",
     "text": [
      "unique_id old 3 [0, 1, 1] 2 16379\n",
      "unique_id old 3 [0, 1, 1] 2 16382\n"
     ]
    },
    {
     "name": "stderr",
     "output_type": "stream",
     "text": [
      "0: 192x320 1 car, 38.7ms\n",
      "Speed: 1.0ms preprocess, 38.7ms inference, 1.0ms postprocess per image at shape (1, 3, 192, 320)\n",
      "\n",
      "0: 192x320 1 car, 38.8ms\n",
      "Speed: 1.0ms preprocess, 38.8ms inference, 2.1ms postprocess per image at shape (1, 3, 192, 320)\n",
      "\n",
      "0: 192x320 1 car, 39.6ms\n",
      "Speed: 1.2ms preprocess, 39.6ms inference, 1.2ms postprocess per image at shape (1, 3, 192, 320)\n",
      "\n",
      "0: 192x320 1 car, 36.3ms\n"
     ]
    },
    {
     "name": "stdout",
     "output_type": "stream",
     "text": [
      "unique_id old 3 [0, 1, 1] 2 16383\n",
      "unique_id old 3 [0, 1, 1] 2 16384\n",
      "unique_id old 3 [0, 1, 1] 2 16385\n"
     ]
    },
    {
     "name": "stderr",
     "output_type": "stream",
     "text": [
      "Speed: 0.9ms preprocess, 36.3ms inference, 2.0ms postprocess per image at shape (1, 3, 192, 320)\n",
      "\n",
      "0: 192x320 (no detections), 37.8ms\n",
      "Speed: 1.0ms preprocess, 37.8ms inference, 1.0ms postprocess per image at shape (1, 3, 192, 320)\n",
      "\n",
      "0: 192x320 (no detections), 36.3ms\n",
      "Speed: 1.0ms preprocess, 36.3ms inference, 2.0ms postprocess per image at shape (1, 3, 192, 320)\n",
      "\n",
      "0: 192x320 1 car, 38.9ms\n",
      "Speed: 0.4ms preprocess, 38.9ms inference, 2.3ms postprocess per image at shape (1, 3, 192, 320)\n",
      "\n"
     ]
    },
    {
     "name": "stdout",
     "output_type": "stream",
     "text": [
      "unique_id old 3 [0, 1, 1] 2 16386\n",
      "unique_id old 3 [0, 1, 1] 2 16389\n"
     ]
    },
    {
     "name": "stderr",
     "output_type": "stream",
     "text": [
      "0: 192x320 1 car, 36.4ms\n",
      "Speed: 1.0ms preprocess, 36.4ms inference, 3.0ms postprocess per image at shape (1, 3, 192, 320)\n",
      "\n",
      "0: 192x320 1 car, 42.1ms\n",
      "Speed: 1.0ms preprocess, 42.1ms inference, 2.0ms postprocess per image at shape (1, 3, 192, 320)\n",
      "\n",
      "0: 192x320 1 car, 39.3ms\n",
      "Speed: 1.0ms preprocess, 39.3ms inference, 1.0ms postprocess per image at shape (1, 3, 192, 320)\n",
      "\n"
     ]
    },
    {
     "name": "stdout",
     "output_type": "stream",
     "text": [
      "unique_id old 3 [0, 1, 1] 2 16390\n",
      "unique_id old 3 [0, 1, 1] 2 16391\n",
      "unique_id old 3 [0, 1, 1] 2 16392\n"
     ]
    },
    {
     "name": "stderr",
     "output_type": "stream",
     "text": [
      "0: 192x320 1 car, 42.0ms\n",
      "Speed: 0.0ms preprocess, 42.0ms inference, 1.9ms postprocess per image at shape (1, 3, 192, 320)\n",
      "\n",
      "0: 192x320 1 car, 39.8ms\n",
      "Speed: 1.0ms preprocess, 39.8ms inference, 0.9ms postprocess per image at shape (1, 3, 192, 320)\n",
      "\n",
      "0: 192x320 1 car, 41.1ms\n",
      "Speed: 1.9ms preprocess, 41.1ms inference, 2.4ms postprocess per image at shape (1, 3, 192, 320)\n",
      "\n"
     ]
    },
    {
     "name": "stdout",
     "output_type": "stream",
     "text": [
      "unique_id old 3 [0, 1, 1] 2 16393\n",
      "unique_id old 3 [0, 1, 1] 2 16394\n",
      "unique_id old 3 [0, 1, 1] 2 16395\n"
     ]
    },
    {
     "name": "stderr",
     "output_type": "stream",
     "text": [
      "0: 192x320 1 car, 42.3ms\n",
      "Speed: 1.1ms preprocess, 42.3ms inference, 2.9ms postprocess per image at shape (1, 3, 192, 320)\n",
      "\n",
      "0: 192x320 1 car, 39.1ms\n",
      "Speed: 1.0ms preprocess, 39.1ms inference, 2.0ms postprocess per image at shape (1, 3, 192, 320)\n",
      "\n",
      "0: 192x320 1 car, 38.7ms\n",
      "Speed: 1.0ms preprocess, 38.7ms inference, 1.0ms postprocess per image at shape (1, 3, 192, 320)\n",
      "\n"
     ]
    },
    {
     "name": "stdout",
     "output_type": "stream",
     "text": [
      "unique_id old 3 [0, 1, 1] 2 16396\n",
      "unique_id old 3 [0, 1, 1] 2 16397\n",
      "unique_id old 3 [0, 1, 1] 2 16398\n"
     ]
    },
    {
     "name": "stderr",
     "output_type": "stream",
     "text": [
      "0: 192x320 1 car, 37.3ms\n",
      "Speed: 1.0ms preprocess, 37.3ms inference, 2.0ms postprocess per image at shape (1, 3, 192, 320)\n",
      "\n",
      "0: 192x320 1 car, 41.8ms\n",
      "Speed: 1.0ms preprocess, 41.8ms inference, 2.0ms postprocess per image at shape (1, 3, 192, 320)\n",
      "\n",
      "0: 192x320 1 car, 39.1ms\n",
      "Speed: 1.0ms preprocess, 39.1ms inference, 2.0ms postprocess per image at shape (1, 3, 192, 320)\n",
      "\n"
     ]
    },
    {
     "name": "stdout",
     "output_type": "stream",
     "text": [
      "unique_id old 3 [0, 1, 1] 2 16399\n",
      "unique_id old 3 [0, 1, 1] 2 16400\n",
      "unique_id old 3 25 [0, 1, 1] 2 16400\n",
      "unique_id old 3 [0, 1, 1] 2 16401\n"
     ]
    },
    {
     "name": "stderr",
     "output_type": "stream",
     "text": [
      "0: 192x320 1 car, 36.1ms\n",
      "Speed: 1.0ms preprocess, 36.1ms inference, 2.0ms postprocess per image at shape (1, 3, 192, 320)\n",
      "\n",
      "0: 192x320 1 car, 36.6ms\n",
      "Speed: 1.0ms preprocess, 36.6ms inference, 2.0ms postprocess per image at shape (1, 3, 192, 320)\n",
      "\n",
      "0: 192x320 1 car, 36.4ms\n",
      "Speed: 1.0ms preprocess, 36.4ms inference, 2.0ms postprocess per image at shape (1, 3, 192, 320)\n",
      "\n",
      "0: 192x320 1 car, 37.4ms\n"
     ]
    },
    {
     "name": "stdout",
     "output_type": "stream",
     "text": [
      "unique_id old 3 [0, 1, 1] 2 16402\n",
      "unique_id old 3 [0, 1, 1] 2 16403\n",
      "unique_id old 3 [0, 1, 1] 2 16404\n"
     ]
    },
    {
     "name": "stderr",
     "output_type": "stream",
     "text": [
      "Speed: 1.0ms preprocess, 37.4ms inference, 2.0ms postprocess per image at shape (1, 3, 192, 320)\n",
      "\n",
      "0: 192x320 1 car, 38.6ms\n",
      "Speed: 2.2ms preprocess, 38.6ms inference, 2.2ms postprocess per image at shape (1, 3, 192, 320)\n",
      "\n",
      "0: 192x320 1 car, 35.5ms\n",
      "Speed: 1.0ms preprocess, 35.5ms inference, 2.0ms postprocess per image at shape (1, 3, 192, 320)\n",
      "\n",
      "0: 192x320 1 car, 38.4ms\n"
     ]
    },
    {
     "name": "stdout",
     "output_type": "stream",
     "text": [
      "unique_id old 3 [0, 1, 1] 2 16405\n",
      "unique_id old 3 [0, 1, 1] 2 16406\n",
      "unique_id old 3 [0, 1, 1] 2 16407\n"
     ]
    },
    {
     "name": "stderr",
     "output_type": "stream",
     "text": [
      "Speed: 2.0ms preprocess, 38.4ms inference, 1.0ms postprocess per image at shape (1, 3, 192, 320)\n",
      "\n",
      "0: 192x320 1 car, 40.2ms\n",
      "Speed: 1.0ms preprocess, 40.2ms inference, 3.0ms postprocess per image at shape (1, 3, 192, 320)\n",
      "\n",
      "0: 192x320 1 car, 37.6ms\n",
      "Speed: 1.0ms preprocess, 37.6ms inference, 2.0ms postprocess per image at shape (1, 3, 192, 320)\n",
      "\n"
     ]
    },
    {
     "name": "stdout",
     "output_type": "stream",
     "text": [
      "unique_id old 3 [0, 1, 1] 2 16408\n",
      "unique_id old 3 [0, 1, 1] 2 16409\n",
      "unique_id old 3 [0, 1, 1] 2 16410\n"
     ]
    },
    {
     "name": "stderr",
     "output_type": "stream",
     "text": [
      "0: 192x320 1 car, 38.4ms\n",
      "Speed: 2.0ms preprocess, 38.4ms inference, 2.0ms postprocess per image at shape (1, 3, 192, 320)\n",
      "\n",
      "0: 192x320 1 car, 37.1ms\n",
      "Speed: 2.3ms preprocess, 37.1ms inference, 2.0ms postprocess per image at shape (1, 3, 192, 320)\n",
      "\n",
      "0: 192x320 1 car, 38.2ms\n",
      "Speed: 1.0ms preprocess, 38.2ms inference, 1.1ms postprocess per image at shape (1, 3, 192, 320)\n",
      "\n",
      "0: 192x320 1 car, 38.7ms\n"
     ]
    },
    {
     "name": "stdout",
     "output_type": "stream",
     "text": [
      "unique_id old 3 [0, 1, 1] 2 16411\n",
      "unique_id old 3 [0, 1, 1] 2 16412\n",
      "unique_id old 3 [0, 1, 1] 2 16413\n"
     ]
    },
    {
     "name": "stderr",
     "output_type": "stream",
     "text": [
      "Speed: 0.9ms preprocess, 38.7ms inference, 2.0ms postprocess per image at shape (1, 3, 192, 320)\n",
      "\n",
      "0: 192x320 1 car, 39.0ms\n",
      "Speed: 1.0ms preprocess, 39.0ms inference, 2.1ms postprocess per image at shape (1, 3, 192, 320)\n",
      "\n",
      "0: 192x320 1 car, 38.1ms\n",
      "Speed: 1.1ms preprocess, 38.1ms inference, 1.1ms postprocess per image at shape (1, 3, 192, 320)\n",
      "\n",
      "0: 192x320 1 car, 37.8ms\n"
     ]
    },
    {
     "name": "stdout",
     "output_type": "stream",
     "text": [
      "unique_id old 3 [0, 1, 1] 2 16414\n",
      "unique_id old 3 [0, 1, 1] 2 16415\n",
      "unique_id old 3 [0, 1, 1] 2 16416\n"
     ]
    },
    {
     "name": "stderr",
     "output_type": "stream",
     "text": [
      "Speed: 1.3ms preprocess, 37.8ms inference, 2.0ms postprocess per image at shape (1, 3, 192, 320)\n",
      "\n",
      "0: 192x320 1 car, 37.4ms\n",
      "Speed: 1.9ms preprocess, 37.4ms inference, 1.5ms postprocess per image at shape (1, 3, 192, 320)\n",
      "\n",
      "0: 192x320 1 car, 41.0ms\n",
      "Speed: 1.2ms preprocess, 41.0ms inference, 2.0ms postprocess per image at shape (1, 3, 192, 320)\n",
      "\n"
     ]
    },
    {
     "name": "stdout",
     "output_type": "stream",
     "text": [
      "unique_id old 3 [0, 1, 1] 2 16417\n",
      "unique_id old 3 [0, 1, 1] 2 16418\n",
      "unique_id old 3 [0, 1, 1] 2 16419\n"
     ]
    },
    {
     "name": "stderr",
     "output_type": "stream",
     "text": [
      "0: 192x320 1 car, 41.6ms\n",
      "Speed: 1.0ms preprocess, 41.6ms inference, 2.0ms postprocess per image at shape (1, 3, 192, 320)\n",
      "\n",
      "0: 192x320 1 car, 41.2ms\n",
      "Speed: 1.0ms preprocess, 41.2ms inference, 2.1ms postprocess per image at shape (1, 3, 192, 320)\n",
      "\n",
      "0: 192x320 1 car, 39.1ms\n",
      "Speed: 1.0ms preprocess, 39.1ms inference, 1.0ms postprocess per image at shape (1, 3, 192, 320)\n",
      "\n",
      "0: 192x320 1 car, 36.2ms\n"
     ]
    },
    {
     "name": "stdout",
     "output_type": "stream",
     "text": [
      "unique_id old 3 [0, 1, 1] 2 16420\n",
      "unique_id old 3 [0, 1, 1] 2 16421\n",
      "unique_id old 3 [0, 1, 1] 2 16422\n"
     ]
    },
    {
     "name": "stderr",
     "output_type": "stream",
     "text": [
      "Speed: 1.9ms preprocess, 36.2ms inference, 2.0ms postprocess per image at shape (1, 3, 192, 320)\n",
      "\n",
      "0: 192x320 1 car, 40.1ms\n",
      "Speed: 2.0ms preprocess, 40.1ms inference, 1.1ms postprocess per image at shape (1, 3, 192, 320)\n",
      "\n",
      "0: 192x320 1 car, 40.7ms\n",
      "Speed: 1.0ms preprocess, 40.7ms inference, 1.1ms postprocess per image at shape (1, 3, 192, 320)\n",
      "\n",
      "0: 192x320 1 car, 38.2ms\n"
     ]
    },
    {
     "name": "stdout",
     "output_type": "stream",
     "text": [
      "unique_id old 3 [0, 1, 1] 2 16423\n",
      "unique_id old 3 [0, 1, 1] 2 16424\n",
      "unique_id old 3 [0, 1, 1] 2 16425\n"
     ]
    },
    {
     "name": "stderr",
     "output_type": "stream",
     "text": [
      "Speed: 1.0ms preprocess, 38.2ms inference, 2.0ms postprocess per image at shape (1, 3, 192, 320)\n",
      "\n",
      "0: 192x320 1 car, 40.9ms\n",
      "Speed: 1.3ms preprocess, 40.9ms inference, 2.1ms postprocess per image at shape (1, 3, 192, 320)\n",
      "\n",
      "0: 192x320 1 car, 36.8ms\n",
      "Speed: 1.0ms preprocess, 36.8ms inference, 1.0ms postprocess per image at shape (1, 3, 192, 320)\n",
      "\n"
     ]
    },
    {
     "name": "stdout",
     "output_type": "stream",
     "text": [
      "unique_id old 3 [0, 1, 1] 2 16426\n",
      "unique_id old 3 [0, 1, 1] 2 16427\n",
      "unique_id old 3 [0, 1, 1] 2 16428\n"
     ]
    },
    {
     "name": "stderr",
     "output_type": "stream",
     "text": [
      "0: 192x320 1 car, 39.8ms\n",
      "Speed: 1.9ms preprocess, 39.8ms inference, 2.0ms postprocess per image at shape (1, 3, 192, 320)\n",
      "\n",
      "0: 192x320 1 car, 37.8ms\n",
      "Speed: 0.9ms preprocess, 37.8ms inference, 0.9ms postprocess per image at shape (1, 3, 192, 320)\n",
      "\n",
      "0: 192x320 1 car, 37.1ms\n",
      "Speed: 1.1ms preprocess, 37.1ms inference, 2.2ms postprocess per image at shape (1, 3, 192, 320)\n",
      "\n",
      "0: 192x320 1 car, 39.8ms\n"
     ]
    },
    {
     "name": "stdout",
     "output_type": "stream",
     "text": [
      "unique_id old 3 [0, 1, 1] 2 16429\n",
      "unique_id old 3 [0, 1, 1] 2 16430\n",
      "unique_id old 3 [0, 1, 1] 2 16431\n"
     ]
    },
    {
     "name": "stderr",
     "output_type": "stream",
     "text": [
      "Speed: 1.0ms preprocess, 39.8ms inference, 1.2ms postprocess per image at shape (1, 3, 192, 320)\n",
      "\n",
      "0: 192x320 1 car, 38.1ms\n",
      "Speed: 1.2ms preprocess, 38.1ms inference, 2.2ms postprocess per image at shape (1, 3, 192, 320)\n",
      "\n",
      "0: 192x320 1 car, 38.2ms\n",
      "Speed: 1.2ms preprocess, 38.2ms inference, 2.1ms postprocess per image at shape (1, 3, 192, 320)\n",
      "\n"
     ]
    },
    {
     "name": "stdout",
     "output_type": "stream",
     "text": [
      "unique_id old 3 [0, 1, 1] 2 16432\n",
      "unique_id old 3 [0, 1, 1] 2 16433\n",
      "unique_id old 3 [0, 1, 1] 2 16434\n"
     ]
    },
    {
     "name": "stderr",
     "output_type": "stream",
     "text": [
      "0: 192x320 1 car, 37.8ms\n",
      "Speed: 1.1ms preprocess, 37.8ms inference, 2.0ms postprocess per image at shape (1, 3, 192, 320)\n",
      "\n",
      "0: 192x320 1 car, 39.1ms\n",
      "Speed: 1.1ms preprocess, 39.1ms inference, 1.0ms postprocess per image at shape (1, 3, 192, 320)\n",
      "\n",
      "0: 192x320 1 car, 38.0ms\n",
      "Speed: 0.9ms preprocess, 38.0ms inference, 1.0ms postprocess per image at shape (1, 3, 192, 320)\n",
      "\n",
      "0: 192x320 1 car, 36.8ms\n"
     ]
    },
    {
     "name": "stdout",
     "output_type": "stream",
     "text": [
      "unique_id old 3 [0, 1, 1] 2 16435\n",
      "unique_id old 3 [0, 1, 1] 2 16436\n",
      "unique_id old 3 [0, 1, 1] 2 16437\n"
     ]
    },
    {
     "name": "stderr",
     "output_type": "stream",
     "text": [
      "Speed: 1.1ms preprocess, 36.8ms inference, 1.9ms postprocess per image at shape (1, 3, 192, 320)\n",
      "\n",
      "0: 192x320 1 car, 40.2ms\n",
      "Speed: 2.0ms preprocess, 40.2ms inference, 2.0ms postprocess per image at shape (1, 3, 192, 320)\n",
      "\n",
      "0: 192x320 1 car, 37.7ms\n",
      "Speed: 1.0ms preprocess, 37.7ms inference, 2.0ms postprocess per image at shape (1, 3, 192, 320)\n",
      "\n",
      "0: 192x320 1 car, 38.6ms\n"
     ]
    },
    {
     "name": "stdout",
     "output_type": "stream",
     "text": [
      "unique_id old 3 [0, 1, 1] 2 16438\n",
      "unique_id old 3 [0, 1, 1] 2 16439\n",
      "unique_id old 3 [0, 1, 1] 2 16440\n"
     ]
    },
    {
     "name": "stderr",
     "output_type": "stream",
     "text": [
      "Speed: 1.0ms preprocess, 38.6ms inference, 1.3ms postprocess per image at shape (1, 3, 192, 320)\n",
      "\n",
      "0: 192x320 1 car, 41.5ms\n",
      "Speed: 1.1ms preprocess, 41.5ms inference, 2.0ms postprocess per image at shape (1, 3, 192, 320)\n",
      "\n",
      "0: 192x320 1 car, 37.9ms\n",
      "Speed: 2.0ms preprocess, 37.9ms inference, 2.4ms postprocess per image at shape (1, 3, 192, 320)\n",
      "\n",
      "0: 192x320 1 car, 41.5ms\n"
     ]
    },
    {
     "name": "stdout",
     "output_type": "stream",
     "text": [
      "unique_id old 3 [0, 1, 1] 2 16441\n",
      "unique_id old 3 [0, 1, 1] 2 16442\n",
      "unique_id old 3 [0, 1, 1] 2 16443\n"
     ]
    },
    {
     "name": "stderr",
     "output_type": "stream",
     "text": [
      "Speed: 0.9ms preprocess, 41.5ms inference, 2.2ms postprocess per image at shape (1, 3, 192, 320)\n",
      "\n",
      "0: 192x320 1 car, 38.7ms\n",
      "Speed: 1.0ms preprocess, 38.7ms inference, 3.0ms postprocess per image at shape (1, 3, 192, 320)\n",
      "\n",
      "0: 192x320 1 car, 40.2ms\n",
      "Speed: 1.0ms preprocess, 40.2ms inference, 2.0ms postprocess per image at shape (1, 3, 192, 320)\n",
      "\n"
     ]
    },
    {
     "name": "stdout",
     "output_type": "stream",
     "text": [
      "unique_id old 3 [0, 1, 1] 2 16444\n",
      "unique_id old 3 [0, 1, 1] 2 16445\n",
      "unique_id old 3 [0, 1, 1] 2 16446\n"
     ]
    },
    {
     "name": "stderr",
     "output_type": "stream",
     "text": [
      "0: 192x320 1 car, 39.8ms\n",
      "Speed: 1.1ms preprocess, 39.8ms inference, 2.0ms postprocess per image at shape (1, 3, 192, 320)\n",
      "\n",
      "0: 192x320 1 car, 40.0ms\n",
      "Speed: 1.0ms preprocess, 40.0ms inference, 2.0ms postprocess per image at shape (1, 3, 192, 320)\n",
      "\n",
      "0: 192x320 1 car, 37.0ms\n",
      "Speed: 1.0ms preprocess, 37.0ms inference, 2.0ms postprocess per image at shape (1, 3, 192, 320)\n",
      "\n",
      "0: 192x320 1 car, 41.6ms\n"
     ]
    },
    {
     "name": "stdout",
     "output_type": "stream",
     "text": [
      "unique_id old 3 [0, 1, 1] 2 16447\n",
      "unique_id old 3 [0, 1, 1] 2 16448\n",
      "unique_id old 3 [0, 1, 1] 2 16449\n"
     ]
    },
    {
     "name": "stderr",
     "output_type": "stream",
     "text": [
      "Speed: 1.0ms preprocess, 41.6ms inference, 2.0ms postprocess per image at shape (1, 3, 192, 320)\n",
      "\n",
      "0: 192x320 1 car, 41.4ms\n",
      "Speed: 1.0ms preprocess, 41.4ms inference, 1.0ms postprocess per image at shape (1, 3, 192, 320)\n",
      "\n",
      "0: 192x320 1 car, 38.8ms\n",
      "Speed: 1.0ms preprocess, 38.8ms inference, 2.0ms postprocess per image at shape (1, 3, 192, 320)\n",
      "\n"
     ]
    },
    {
     "name": "stdout",
     "output_type": "stream",
     "text": [
      "unique_id old 3 [0, 1, 1] 2 16450\n",
      "unique_id old 3 [0, 1, 1] 2 16451\n",
      "unique_id old 3 [0, 1, 1] 2 16452\n"
     ]
    },
    {
     "name": "stderr",
     "output_type": "stream",
     "text": [
      "0: 192x320 1 car, 41.0ms\n",
      "Speed: 1.0ms preprocess, 41.0ms inference, 2.0ms postprocess per image at shape (1, 3, 192, 320)\n",
      "\n",
      "0: 192x320 1 car, 37.8ms\n",
      "Speed: 1.9ms preprocess, 37.8ms inference, 2.0ms postprocess per image at shape (1, 3, 192, 320)\n",
      "\n",
      "0: 192x320 1 car, 39.8ms\n",
      "Speed: 0.0ms preprocess, 39.8ms inference, 1.1ms postprocess per image at shape (1, 3, 192, 320)\n",
      "\n",
      "0: 192x320 1 car, 38.8ms\n"
     ]
    },
    {
     "name": "stdout",
     "output_type": "stream",
     "text": [
      "unique_id old 3 [0, 1, 1] 2 16453\n",
      "unique_id old 3 [0, 1, 1] 2 16454\n",
      "unique_id old 3 [0, 1, 1] 2 16455\n"
     ]
    },
    {
     "name": "stderr",
     "output_type": "stream",
     "text": [
      "Speed: 1.0ms preprocess, 38.8ms inference, 1.0ms postprocess per image at shape (1, 3, 192, 320)\n",
      "\n",
      "0: 192x320 1 car, 40.1ms\n",
      "Speed: 1.0ms preprocess, 40.1ms inference, 2.1ms postprocess per image at shape (1, 3, 192, 320)\n",
      "\n",
      "0: 192x320 1 car, 40.4ms\n",
      "Speed: 1.0ms preprocess, 40.4ms inference, 2.2ms postprocess per image at shape (1, 3, 192, 320)\n",
      "\n"
     ]
    },
    {
     "name": "stdout",
     "output_type": "stream",
     "text": [
      "unique_id old 3 [0, 1, 1] 2 16456\n",
      "unique_id old 3 [0, 1, 1] 2 16457\n",
      "unique_id old 3 [0, 1, 1] 2 16458\n"
     ]
    },
    {
     "name": "stderr",
     "output_type": "stream",
     "text": [
      "0: 192x320 1 car, 42.8ms\n",
      "Speed: 1.0ms preprocess, 42.8ms inference, 3.1ms postprocess per image at shape (1, 3, 192, 320)\n",
      "\n",
      "0: 192x320 1 car, 38.0ms\n",
      "Speed: 1.0ms preprocess, 38.0ms inference, 1.0ms postprocess per image at shape (1, 3, 192, 320)\n",
      "\n",
      "0: 192x320 1 car, 41.9ms\n",
      "Speed: 1.0ms preprocess, 41.9ms inference, 2.0ms postprocess per image at shape (1, 3, 192, 320)\n",
      "\n",
      "0: 192x320 (no detections), 39.1ms\n",
      "Speed: 0.2ms preprocess, 39.1ms inference, 1.1ms postprocess per image at shape (1, 3, 192, 320)\n"
     ]
    },
    {
     "name": "stdout",
     "output_type": "stream",
     "text": [
      "unique_id old 3 [0, 1, 1] 2 16459\n",
      "unique_id old 3 [0, 1, 1] 2 16460\n",
      "unique_id old 3 [0, 1, 1] 2 16461\n"
     ]
    },
    {
     "name": "stderr",
     "output_type": "stream",
     "text": [
      "\n",
      "0: 192x320 (no detections), 41.2ms\n",
      "Speed: 1.0ms preprocess, 41.2ms inference, 1.0ms postprocess per image at shape (1, 3, 192, 320)\n",
      "\n",
      "0: 192x320 (no detections), 40.9ms\n",
      "Speed: 1.0ms preprocess, 40.9ms inference, 1.0ms postprocess per image at shape (1, 3, 192, 320)\n",
      "\n",
      "0: 192x320 1 car, 39.8ms\n",
      "Speed: 1.0ms preprocess, 39.8ms inference, 2.0ms postprocess per image at shape (1, 3, 192, 320)\n",
      "\n",
      "0: 192x320 1 car, 42.1ms\n",
      "Speed: 1.0ms preprocess, 42.1ms inference, 1.0ms postprocess per image at shape (1, 3, 192, 320)\n",
      "\n",
      "0: 192x320 1 car, 42.5ms\n",
      "Speed: 2.0ms preprocess, 42.5ms inference, 2.0ms postprocess per image at shape (1, 3, 192, 320)\n",
      "\n"
     ]
    },
    {
     "name": "stdout",
     "output_type": "stream",
     "text": [
      "unique_id old 3 [0, 1, 1] 2 16465\n",
      "unique_id old 3 [0, 1, 1] 2 16466\n",
      "unique_id old 3 [0, 1, 1] 2 16467\n"
     ]
    },
    {
     "name": "stderr",
     "output_type": "stream",
     "text": [
      "0: 192x320 1 car, 40.0ms\n",
      "Speed: 1.0ms preprocess, 40.0ms inference, 2.1ms postprocess per image at shape (1, 3, 192, 320)\n",
      "\n",
      "0: 192x320 1 car, 36.5ms\n",
      "Speed: 3.0ms preprocess, 36.5ms inference, 4.0ms postprocess per image at shape (1, 3, 192, 320)\n",
      "\n",
      "0: 192x320 1 car, 37.4ms\n",
      "Speed: 1.0ms preprocess, 37.4ms inference, 2.0ms postprocess per image at shape (1, 3, 192, 320)\n",
      "\n"
     ]
    },
    {
     "name": "stdout",
     "output_type": "stream",
     "text": [
      "unique_id old 3 [0, 1, 1] 2 16468\n",
      "unique_id old 3 [0, 1, 1] 2 16469\n",
      "unique_id old 3 [0, 1, 1] 2 16470\n"
     ]
    },
    {
     "name": "stderr",
     "output_type": "stream",
     "text": [
      "0: 192x320 1 car, 37.3ms\n",
      "Speed: 1.0ms preprocess, 37.3ms inference, 2.0ms postprocess per image at shape (1, 3, 192, 320)\n",
      "\n",
      "0: 192x320 1 car, 37.1ms\n",
      "Speed: 1.0ms preprocess, 37.1ms inference, 2.0ms postprocess per image at shape (1, 3, 192, 320)\n",
      "\n",
      "0: 192x320 1 car, 39.2ms\n",
      "Speed: 1.0ms preprocess, 39.2ms inference, 2.0ms postprocess per image at shape (1, 3, 192, 320)\n",
      "\n"
     ]
    },
    {
     "name": "stdout",
     "output_type": "stream",
     "text": [
      "unique_id old 3 [0, 1, 1] 2 16471\n",
      "unique_id old 3 [0, 1, 1] 2 16472\n",
      "unique_id old 3 [0, 1, 1] 2 16473\n"
     ]
    },
    {
     "name": "stderr",
     "output_type": "stream",
     "text": [
      "0: 192x320 1 car, 36.8ms\n",
      "Speed: 1.0ms preprocess, 36.8ms inference, 2.0ms postprocess per image at shape (1, 3, 192, 320)\n",
      "\n",
      "0: 192x320 1 car, 35.5ms\n",
      "Speed: 1.0ms preprocess, 35.5ms inference, 2.0ms postprocess per image at shape (1, 3, 192, 320)\n",
      "\n",
      "0: 192x320 1 car, 38.0ms\n",
      "Speed: 1.0ms preprocess, 38.0ms inference, 1.0ms postprocess per image at shape (1, 3, 192, 320)\n",
      "\n",
      "0: 192x320 (no detections), 39.3ms\n"
     ]
    },
    {
     "name": "stdout",
     "output_type": "stream",
     "text": [
      "unique_id old 3 [0, 1, 1] 2 16474\n",
      "unique_id old 3 [0, 1, 1] 2 16475\n",
      "unique_id old 3 [0, 1, 1] 2 16476\n"
     ]
    },
    {
     "name": "stderr",
     "output_type": "stream",
     "text": [
      "Speed: 2.0ms preprocess, 39.3ms inference, 2.0ms postprocess per image at shape (1, 3, 192, 320)\n",
      "\n",
      "0: 192x320 (no detections), 37.5ms\n",
      "Speed: 1.0ms preprocess, 37.5ms inference, 3.0ms postprocess per image at shape (1, 3, 192, 320)\n",
      "\n",
      "0: 192x320 (no detections), 37.7ms\n",
      "Speed: 2.0ms preprocess, 37.7ms inference, 2.0ms postprocess per image at shape (1, 3, 192, 320)\n",
      "\n",
      "0: 192x320 1 car, 39.3ms\n",
      "Speed: 1.0ms preprocess, 39.3ms inference, 2.0ms postprocess per image at shape (1, 3, 192, 320)\n",
      "\n",
      "0: 192x320 1 car, 35.8ms\n",
      "Speed: 1.0ms preprocess, 35.8ms inference, 2.0ms postprocess per image at shape (1, 3, 192, 320)\n",
      "\n",
      "0: 192x320 1 car, 37.2ms\n",
      "Speed: 3.0ms preprocess, 37.2ms inference, 2.0ms postprocess per image at shape (1, 3, 192, 320)\n",
      "\n"
     ]
    },
    {
     "name": "stdout",
     "output_type": "stream",
     "text": [
      "unique_id old 3 [0, 1, 1] 2 16480\n",
      "unique_id old 3 [0, 1, 1] 2 16481\n",
      "unique_id old 3 [0, 1, 1] 2 16482\n"
     ]
    },
    {
     "name": "stderr",
     "output_type": "stream",
     "text": [
      "0: 192x320 1 car, 36.5ms\n",
      "Speed: 2.0ms preprocess, 36.5ms inference, 3.1ms postprocess per image at shape (1, 3, 192, 320)\n",
      "\n",
      "0: 192x320 1 car, 37.7ms\n",
      "Speed: 1.0ms preprocess, 37.7ms inference, 2.0ms postprocess per image at shape (1, 3, 192, 320)\n",
      "\n",
      "0: 192x320 1 car, 36.8ms\n",
      "Speed: 0.0ms preprocess, 36.8ms inference, 2.0ms postprocess per image at shape (1, 3, 192, 320)\n",
      "\n"
     ]
    },
    {
     "name": "stdout",
     "output_type": "stream",
     "text": [
      "unique_id old 3 [0, 1, 1] 2 16483\n",
      "unique_id old 3 [0, 1, 1] 2 16484\n",
      "unique_id old 3 [0, 1, 1] 2 16485\n"
     ]
    },
    {
     "name": "stderr",
     "output_type": "stream",
     "text": [
      "0: 192x320 1 car, 46.9ms\n",
      "Speed: 2.0ms preprocess, 46.9ms inference, 3.1ms postprocess per image at shape (1, 3, 192, 320)\n",
      "\n",
      "0: 192x320 1 car, 36.0ms\n",
      "Speed: 1.0ms preprocess, 36.0ms inference, 2.0ms postprocess per image at shape (1, 3, 192, 320)\n",
      "\n",
      "0: 192x320 1 car, 37.9ms\n",
      "Speed: 2.0ms preprocess, 37.9ms inference, 2.0ms postprocess per image at shape (1, 3, 192, 320)\n",
      "\n"
     ]
    },
    {
     "name": "stdout",
     "output_type": "stream",
     "text": [
      "unique_id old 3 [0, 1, 1] 2 16486\n",
      "unique_id old 3 [0, 1, 1] 2 16487\n",
      "unique_id old 3 [0, 1, 1] 2 16488\n"
     ]
    },
    {
     "name": "stderr",
     "output_type": "stream",
     "text": [
      "0: 192x320 1 car, 35.2ms\n",
      "Speed: 1.0ms preprocess, 35.2ms inference, 4.1ms postprocess per image at shape (1, 3, 192, 320)\n",
      "\n",
      "0: 192x320 1 car, 37.5ms\n",
      "Speed: 1.0ms preprocess, 37.5ms inference, 6.1ms postprocess per image at shape (1, 3, 192, 320)\n",
      "\n",
      "0: 192x320 1 car, 37.7ms\n"
     ]
    },
    {
     "name": "stdout",
     "output_type": "stream",
     "text": [
      "unique_id old 3 [0, 1, 1] 2 16489\n",
      "unique_id old 3 [0, 1, 1] 2 16490\n"
     ]
    },
    {
     "name": "stderr",
     "output_type": "stream",
     "text": [
      "Speed: 2.0ms preprocess, 37.7ms inference, 2.0ms postprocess per image at shape (1, 3, 192, 320)\n",
      "\n",
      "0: 192x320 1 car, 48.4ms\n",
      "Speed: 1.0ms preprocess, 48.4ms inference, 2.0ms postprocess per image at shape (1, 3, 192, 320)\n",
      "\n",
      "0: 192x320 1 car, 40.0ms\n",
      "Speed: 1.0ms preprocess, 40.0ms inference, 3.0ms postprocess per image at shape (1, 3, 192, 320)\n"
     ]
    },
    {
     "name": "stdout",
     "output_type": "stream",
     "text": [
      "unique_id old 3 [0, 1, 1] 2 16491\n",
      "unique_id old 3 [0, 1, 1] 2 16492\n",
      "unique_id old 3 [0, 1, 1] 2 16493\n"
     ]
    },
    {
     "name": "stderr",
     "output_type": "stream",
     "text": [
      "\n",
      "0: 192x320 1 car, 38.9ms\n",
      "Speed: 2.0ms preprocess, 38.9ms inference, 2.0ms postprocess per image at shape (1, 3, 192, 320)\n",
      "\n",
      "0: 192x320 1 car, 42.1ms\n",
      "Speed: 1.0ms preprocess, 42.1ms inference, 6.2ms postprocess per image at shape (1, 3, 192, 320)\n",
      "\n"
     ]
    },
    {
     "name": "stdout",
     "output_type": "stream",
     "text": [
      "unique_id old 3 [0, 1, 1] 2 16494\n",
      "unique_id old 3 [0, 1, 1] 2 16495\n"
     ]
    },
    {
     "name": "stderr",
     "output_type": "stream",
     "text": [
      "0: 192x320 1 car, 48.8ms\n",
      "Speed: 1.0ms preprocess, 48.8ms inference, 5.0ms postprocess per image at shape (1, 3, 192, 320)\n",
      "\n",
      "0: 192x320 1 car, 47.8ms\n",
      "Speed: 1.0ms preprocess, 47.8ms inference, 4.0ms postprocess per image at shape (1, 3, 192, 320)\n",
      "\n",
      "0: 192x320 1 car, 38.2ms\n",
      "Speed: 1.0ms preprocess, 38.2ms inference, 1.0ms postprocess per image at shape (1, 3, 192, 320)\n",
      "\n"
     ]
    },
    {
     "name": "stdout",
     "output_type": "stream",
     "text": [
      "unique_id old 3 [0, 1, 1] 2 16496\n",
      "unique_id old 3 [0, 1, 1] 2 16497\n",
      "unique_id old 3 [0, 1, 1] 2 16498\n"
     ]
    },
    {
     "name": "stderr",
     "output_type": "stream",
     "text": [
      "0: 192x320 1 car, 40.8ms\n",
      "Speed: 1.0ms preprocess, 40.8ms inference, 5.1ms postprocess per image at shape (1, 3, 192, 320)\n",
      "\n",
      "0: 192x320 1 car, 40.0ms\n",
      "Speed: 2.0ms preprocess, 40.0ms inference, 3.0ms postprocess per image at shape (1, 3, 192, 320)\n",
      "\n",
      "0: 192x320 1 car, 38.2ms\n",
      "Speed: 2.0ms preprocess, 38.2ms inference, 3.9ms postprocess per image at shape (1, 3, 192, 320)\n",
      "\n"
     ]
    },
    {
     "name": "stdout",
     "output_type": "stream",
     "text": [
      "unique_id old 3 [0, 1, 1] 2 16499\n",
      "unique_id old 3 [0, 1, 1] 2 16500\n",
      "unique_id old 3 25 [0, 1, 1] 2 16500\n",
      "unique_id old 3 [0, 1, 1] 2 16501\n"
     ]
    },
    {
     "name": "stderr",
     "output_type": "stream",
     "text": [
      "0: 192x320 1 car, 44.2ms\n",
      "Speed: 1.0ms preprocess, 44.2ms inference, 3.2ms postprocess per image at shape (1, 3, 192, 320)\n",
      "\n",
      "0: 192x320 1 car, 35.8ms\n",
      "Speed: 1.0ms preprocess, 35.8ms inference, 7.0ms postprocess per image at shape (1, 3, 192, 320)\n",
      "\n",
      "0: 192x320 1 car, 36.0ms\n",
      "Speed: 1.0ms preprocess, 36.0ms inference, 1.9ms postprocess per image at shape (1, 3, 192, 320)\n",
      "\n"
     ]
    },
    {
     "name": "stdout",
     "output_type": "stream",
     "text": [
      "unique_id old 3 [0, 1, 1] 2 16502\n",
      "unique_id old 3 [0, 1, 1] 2 16503\n",
      "unique_id old 3 [0, 1, 1] 2 16504\n"
     ]
    },
    {
     "name": "stderr",
     "output_type": "stream",
     "text": [
      "0: 192x320 1 car, 45.6ms\n",
      "Speed: 1.0ms preprocess, 45.6ms inference, 1.4ms postprocess per image at shape (1, 3, 192, 320)\n",
      "\n",
      "0: 192x320 1 car, 41.5ms\n",
      "Speed: 2.0ms preprocess, 41.5ms inference, 2.0ms postprocess per image at shape (1, 3, 192, 320)\n",
      "\n",
      "0: 192x320 1 car, 44.1ms\n",
      "Speed: 1.0ms preprocess, 44.1ms inference, 1.1ms postprocess per image at shape (1, 3, 192, 320)\n",
      "\n"
     ]
    },
    {
     "name": "stdout",
     "output_type": "stream",
     "text": [
      "unique_id old 3 [0, 1, 1] 2 16505\n",
      "unique_id old 3 [0, 1, 1] 2 16506\n",
      "unique_id old 3 [0, 1, 1] 2 16507\n"
     ]
    },
    {
     "name": "stderr",
     "output_type": "stream",
     "text": [
      "0: 192x320 1 car, 37.0ms\n",
      "Speed: 1.0ms preprocess, 37.0ms inference, 1.0ms postprocess per image at shape (1, 3, 192, 320)\n",
      "\n",
      "0: 192x320 1 car, 39.3ms\n",
      "Speed: 1.0ms preprocess, 39.3ms inference, 1.9ms postprocess per image at shape (1, 3, 192, 320)\n",
      "\n",
      "0: 192x320 1 car, 41.3ms\n",
      "Speed: 1.0ms preprocess, 41.3ms inference, 2.0ms postprocess per image at shape (1, 3, 192, 320)\n",
      "\n"
     ]
    },
    {
     "name": "stdout",
     "output_type": "stream",
     "text": [
      "unique_id old 3 [0, 1, 1] 2 16508\n",
      "unique_id old 3 [0, 1, 1] 2 16509\n",
      "unique_id old 3 [0, 1, 1] 2 16510\n"
     ]
    },
    {
     "name": "stderr",
     "output_type": "stream",
     "text": [
      "0: 192x320 1 car, 36.7ms\n",
      "Speed: 1.1ms preprocess, 36.7ms inference, 2.0ms postprocess per image at shape (1, 3, 192, 320)\n",
      "\n",
      "0: 192x320 1 car, 40.2ms\n",
      "Speed: 1.0ms preprocess, 40.2ms inference, 2.0ms postprocess per image at shape (1, 3, 192, 320)\n",
      "\n",
      "0: 192x320 1 car, 38.1ms\n",
      "Speed: 0.0ms preprocess, 38.1ms inference, 2.0ms postprocess per image at shape (1, 3, 192, 320)\n",
      "\n",
      "0: 192x320 1 car, 37.6ms\n"
     ]
    },
    {
     "name": "stdout",
     "output_type": "stream",
     "text": [
      "unique_id old 3 [0, 1, 1] 2 16511\n",
      "unique_id old 3 [0, 1, 1] 2 16512\n",
      "unique_id old 3 [0, 1, 1] 2 16513\n"
     ]
    },
    {
     "name": "stderr",
     "output_type": "stream",
     "text": [
      "Speed: 1.1ms preprocess, 37.6ms inference, 2.0ms postprocess per image at shape (1, 3, 192, 320)\n",
      "\n",
      "0: 192x320 1 car, 38.4ms\n",
      "Speed: 0.0ms preprocess, 38.4ms inference, 2.0ms postprocess per image at shape (1, 3, 192, 320)\n",
      "\n",
      "0: 192x320 1 car, 40.5ms\n",
      "Speed: 1.0ms preprocess, 40.5ms inference, 1.0ms postprocess per image at shape (1, 3, 192, 320)\n",
      "\n",
      "0: 192x320 1 car, 34.7ms\n"
     ]
    },
    {
     "name": "stdout",
     "output_type": "stream",
     "text": [
      "unique_id old 3 [0, 1, 1] 2 16514\n",
      "unique_id old 3 [0, 1, 1] 2 16515\n",
      "unique_id old 3 [0, 1, 1] 2 16516\n"
     ]
    },
    {
     "name": "stderr",
     "output_type": "stream",
     "text": [
      "Speed: 1.0ms preprocess, 34.7ms inference, 2.0ms postprocess per image at shape (1, 3, 192, 320)\n",
      "\n",
      "0: 192x320 1 car, 37.5ms\n",
      "Speed: 1.0ms preprocess, 37.5ms inference, 1.0ms postprocess per image at shape (1, 3, 192, 320)\n",
      "\n",
      "0: 192x320 1 car, 38.1ms\n",
      "Speed: 1.0ms preprocess, 38.1ms inference, 2.0ms postprocess per image at shape (1, 3, 192, 320)\n",
      "\n",
      "0: 192x320 1 car, 39.5ms\n"
     ]
    },
    {
     "name": "stdout",
     "output_type": "stream",
     "text": [
      "unique_id old 3 [0, 1, 1] 2 16517\n",
      "unique_id old 3 [0, 1, 1] 2 16518\n",
      "unique_id old 3 [0, 1, 1] 2 16519\n"
     ]
    },
    {
     "name": "stderr",
     "output_type": "stream",
     "text": [
      "Speed: 1.0ms preprocess, 39.5ms inference, 2.0ms postprocess per image at shape (1, 3, 192, 320)\n",
      "\n",
      "0: 192x320 1 car, 39.3ms\n",
      "Speed: 1.0ms preprocess, 39.3ms inference, 2.0ms postprocess per image at shape (1, 3, 192, 320)\n",
      "\n",
      "0: 192x320 1 car, 35.6ms\n",
      "Speed: 1.0ms preprocess, 35.6ms inference, 1.0ms postprocess per image at shape (1, 3, 192, 320)\n",
      "\n",
      "0: 192x320 1 car, 37.5ms\n"
     ]
    },
    {
     "name": "stdout",
     "output_type": "stream",
     "text": [
      "unique_id old 3 [0, 1, 1] 2 16520\n",
      "unique_id old 3 [0, 1, 1] 2 16521\n",
      "unique_id old 3 [0, 1, 1] 2 16522\n"
     ]
    },
    {
     "name": "stderr",
     "output_type": "stream",
     "text": [
      "Speed: 1.0ms preprocess, 37.5ms inference, 2.0ms postprocess per image at shape (1, 3, 192, 320)\n"
     ]
    },
    {
     "name": "stdout",
     "output_type": "stream",
     "text": [
      "unique_id old 3 [0, 1, 1] 2 16523\n"
     ]
    }
   ],
   "source": [
    "import cv2\n",
    "import numpy as np\n",
    "from ultralytics import YOLO\n",
    "import torch\n",
    "from torchvision import transforms\n",
    "from PIL import Image\n",
    "import torchvision.models as models\n",
    "import matplotlib.pyplot as plt\n",
    "\n",
    "\n",
    "#test_image = Image.open(frame[y2:y1, x2:x1]).convert('RGB')\n",
    "\n",
    "model = YOLO('yolov8x.pt')\n",
    "\n",
    "video_path = r\"C:\\Users\\user\\Downloads\\Test.mp4\"\n",
    "cap = cv2.VideoCapture(video_path)\n",
    "\n",
    "points = []\n",
    "test_transform = transforms.Compose([\n",
    "    transforms.Resize((640, 640)),\n",
    "    transforms.ToTensor(),\n",
    "    transforms.Normalize(mean=[0.485, 0.456, 0.406], std=[0.229, 0.224, 0.225])\n",
    "])\n",
    "def draw_polygon(event, x, y, flags, param):\n",
    "    global points\n",
    "\n",
    "    if event == cv2.EVENT_LBUTTONDOWN:\n",
    "        points.append((x, y))\n",
    "        cv2.circle(img, (x, y), 5, (0, 0, 255), -1)\n",
    "    \n",
    "    elif event == cv2.EVENT_RBUTTONDOWN:\n",
    "        if len(points) >= 3:\n",
    "            cv2.polylines(img, [np.array(points)], isClosed=True, color=(0, 255, 0), thickness=2)\n",
    "            # points = []\n",
    "\n",
    "saved_model_path = 'resnet_model_train_97_val_95.pth'\n",
    "loaded_model = models.resnet50(pretrained=False)\n",
    "num_ftrs = loaded_model.fc.in_features\n",
    "loaded_model.fc = torch.nn.Linear(num_ftrs, 2)\n",
    "loaded_model.load_state_dict(torch.load(saved_model_path, map_location=torch.device('cpu')))\n",
    "loaded_model.eval()\n",
    "            \n",
    "unique_id = None\n",
    "counter = 0            \n",
    "all_count = 0\n",
    "frame_count = 0\n",
    "c = 0\n",
    "pred = [0, 0, 0]\n",
    "\n",
    "\n",
    "img = np.ones((720, 1280 , 3), np.uint8) * 255\n",
    "cap = cv2.VideoCapture(video_path)\n",
    "cv2.namedWindow('Draw Polygon')\n",
    "cv2.setMouseCallback('Draw Polygon', draw_polygon)\n",
    "\n",
    "while cap.isOpened():\n",
    "    success, frame = cap.read()\n",
    "    # frame = cv2.resize(frame, (1500, 800))\n",
    "    frame_count += 1\n",
    "    if success:\n",
    "        results = model.track(frame, persist=True, classes=2, conf=0.1, iou=0.2, imgsz=(320,320))\n",
    "        for out in results[0].boxes.data.tolist():\n",
    "            try:\n",
    "                x1, y1, x2, y2, Id, score, class_id = out\n",
    "                center = ((x1+x2) / 2, (y1+y2) / 2)\n",
    "                # Id = out[4]\n",
    "                \n",
    "                # if int(Id) == 3:\n",
    "                check = cv2.pointPolygonTest(np.array(points), center, measureDist=False)\n",
    "                if check == 1:\n",
    "                    if Id != unique_id:\n",
    "                        print(\"unique_id take\")\n",
    "                        all_count += 1\n",
    "                        unique_id = Id\n",
    "                        c = 0\n",
    "                        pred = [0, 0, 0]\n",
    "                    elif Id == unique_id:\n",
    "                        print(\"unique_id old\",c,pred[-3:],counter, frame_count)\n",
    "                        \n",
    "                        if frame_count % 100 == 0:\n",
    "                            print(\"unique_id old\",c,len(pred),pred[-3:],counter, frame_count)\n",
    "                            if c < 3:\n",
    "                                print(\"unique_id old input img\",c,pred[-3:],counter, frame_count)\n",
    "                                \n",
    "                                pil_image = Image.fromarray(frame[int(y1):int(y2), int(x1):int(x2)])\n",
    "                                input_image = test_transform(pil_image).unsqueeze(0)\n",
    "                                \n",
    "                                with torch.no_grad():\n",
    "                                    output = loaded_model(input_image)\n",
    "                                    \n",
    "                                _, predicted = torch.max(output, 1)\n",
    "                                predicted_class = predicted.item()\n",
    "                                pred.append(predicted_class)\n",
    "                                print(\"predicted_class == \",predicted_class)\n",
    "                                \n",
    "                                if sum(pred[-3:]) >= 2:\n",
    "                                    counter += 1\n",
    "                                    c = 3\n",
    "                                elif sum(pred[-3:]) < 2:\n",
    "                                    c = 0\n",
    "            except:\n",
    "                continue\n",
    "        annotated_frame = results[0].plot()\n",
    "        annotated_frame = cv2.bitwise_and(annotated_frame, img)\n",
    "        \n",
    "        cv2.imshow(\"Draw Polygon\", annotated_frame)\n",
    "\n",
    "        if cv2.waitKey(1) & 0xFF == ord(\"q\"):\n",
    "            break\n",
    "    else:\n",
    "        break\n",
    "\n",
    "cap.release()\n",
    "cv2.destroyAllWindows()"
   ]
  },
  {
   "cell_type": "code",
   "execution_count": null,
   "id": "1662f2ca-f602-4ef9-a6bc-6b4b55af0470",
   "metadata": {},
   "outputs": [],
   "source": []
  }
 ],
 "metadata": {
  "kernelspec": {
   "display_name": "face",
   "language": "python",
   "name": "face"
  },
  "language_info": {
   "codemirror_mode": {
    "name": "ipython",
    "version": 3
   },
   "file_extension": ".py",
   "mimetype": "text/x-python",
   "name": "python",
   "nbconvert_exporter": "python",
   "pygments_lexer": "ipython3",
   "version": "3.7.12"
  }
 },
 "nbformat": 4,
 "nbformat_minor": 5
}
